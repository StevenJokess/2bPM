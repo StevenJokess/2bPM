{
 "cells": [
  {
   "cell_type": "markdown",
   "id": "killing-firmware",
   "metadata": {},
   "source": [
    "<!--\n",
    " * @version:\n",
    " * @Author:  StevenJokess https://github.com/StevenJokess\n",
    " * @Date: 2020-12-06 23:54:47\n",
    " * @LastEditors:  StevenJokess https://github.com/StevenJokess\n",
    " * @LastEditTime: 2020-12-06 23:58:00\n",
    " * @Description:\n",
    " * @TODO::\n",
    " * @Reference:\n",
    " * https://help.aliyun.com/document_detail/113734.html?spm=a2c4g.11186623.6.721.50bf46f9bxUiez\n",
    "-->\n",
    "\n",
    "功能特性\n",
    "支持资源实时监控。算法开发时，可以显示CPU或GPU的使用情况。\n",
    "支持多源数据接入，包括MaxCompute、OSS及NAS。\n",
    "支持编写和运行SQL语句。\n",
    "支持多种资源型号，包括纯CPU及多种GPU算力卡。\n",
    "支持灵活切换各类资源，有效降低使用成本。\n",
    "预置常用大数据开发包和算法库，且支持自定义安装第三方库。\n",
    "\n",
    "使用Magic Command将代码转换为图。\n",
    "%show_model model\n",
    "\n",
    "FNN功能实现了原生Keras的向画布拖拽并编辑Cell的功能。画布包括左侧的Cell列表区域、中间的画布编辑区域及右侧的参数配置区域。\n",
    "编辑过程中，相同作用的Cell会自动编排成组，如下图所示。"
   ]
  }
 ],
 "metadata": {
  "language_info": {
   "name": "python"
  }
 },
 "nbformat": 4,
 "nbformat_minor": 5
}