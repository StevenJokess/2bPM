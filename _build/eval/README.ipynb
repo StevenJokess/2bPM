{
 "cells": [
  {
   "cell_type": "markdown",
   "id": "identified-chapter",
   "metadata": {},
   "source": [
    "# d2cl\n",
    "Dive into cheap deep learning.\n",
    "\n",
    "专注于让深度学习更划算更便宜！\n",
    "\n",
    "From your IQ, your devices, and your resource.\n",
    "\n",
    "从学习智力上、装备上、资源上。\n",
    "\n",
    "Published at https://aieye-top.github.io/d2cl/.\n",
    "\n",
    "发布在https://aieye-top.github.io/d2cl/."
   ]
  }
 ],
 "metadata": {
  "language_info": {
   "name": "python"
  }
 },
 "nbformat": 4,
 "nbformat_minor": 5
}