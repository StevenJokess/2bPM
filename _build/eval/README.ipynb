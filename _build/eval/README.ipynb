{
 "cells": [
  {
   "cell_type": "markdown",
   "id": "found-discrimination",
   "metadata": {},
   "source": [
    "# 2bPM\n",
    "\n",
    "学习如何成为AI产品经理并总结生成书\n",
    "\n",
    "https://stevenjokess.github.io/2bPM/\n",
    "\n",
    "## Docker里d2lbook2生成书\n",
    "\n",
    "\n",
    "docker run --rm --name 2bPM -e HTTP_PROXY=127.0.0.1:1080 -ditv /d/onedrive/Documents/read/2bPM:/d2lbook2/2bPM registry.cn-shanghai.aliyuncs.com/csq-dl/d2l-book2:github  /bin/bash;docker exec -it 2bPM /bin/bash\n",
    "\n",
    "cd 2bPM\n",
    "\n",
    "d2lbook2 build html\n",
    "\n",
    "d2lbook2 deploy html\n",
    "\n",
    "## 声明\n",
    "\n",
    "全部只作为自我求职路上的学习成果展示，如果侵权请联系。\n",
    "\n",
    "感谢世界相逢的一切，不过也不重要了，我们会死在“光明的未来”。\n",
    "\n",
    "## 自我介绍\n",
    "\n",
    "人类幼儿园中班在读，超想读**超人类小学**！\n",
    "简历：https://stevenjokess.github.io/2bPM/get_started.html\n",
    "\n",
    "TODO"
   ]
  }
 ],
 "metadata": {
  "language_info": {
   "name": "python"
  }
 },
 "nbformat": 4,
 "nbformat_minor": 5
}