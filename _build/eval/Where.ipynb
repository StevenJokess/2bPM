{
 "cells": [
  {
   "cell_type": "markdown",
   "id": "clear-processor",
   "metadata": {},
   "source": [
    "<!--\n",
    " * @version:\n",
    " * @Author:  StevenJokess https://github.com/StevenJokess\n",
    " * @Date: 2020-12-17 21:50:35\n",
    " * @LastEditors:  StevenJokess https://github.com/StevenJokess\n",
    " * @LastEditTime: 2020-12-17 21:50:36\n",
    " * @Description:\n",
    " * @TODO::\n",
    " * @Reference:现在什么职业最容易被人工智能取代？ - Zhang Wang的回答 - 知乎\n",
    "https://www.zhihu.com/question/57373956/answer/155398900\n",
    "-->\n",
    "1.场景比较规范，2.需要经验3.且数据量大，4.但是反复度高的工作岗位，5.如果监管准入门槛比较低就更好。\n",
    "1和5可促进快速落地，2、3、4适合深度学习复现场景。\n",
    "\n",
    "医疗+AI，门槛着重考虑；安防+AI，门槛重在渠道，和海康；无人驾驶，需要规范，市场、大众、政府、产品供应、交通设施等都需要规范。"
   ]
  }
 ],
 "metadata": {
  "language_info": {
   "name": "python"
  }
 },
 "nbformat": 4,
 "nbformat_minor": 5
}