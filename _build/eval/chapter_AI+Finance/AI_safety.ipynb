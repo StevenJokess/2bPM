{
 "cells": [
  {
   "cell_type": "markdown",
   "metadata": {},
   "source": [
    "# AI安全\n",
    "\n",
    "深度分享 | 央行《人工智能算法金融应用评价规范》之AI安全攻击及防范解读 - 索信达控股的文章 - 知乎\n",
    "https://zhuanlan.zhihu.com/p/389145379"
   ]
  }
 ],
 "metadata": {
  "language_info": {
   "name": "python"
  }
 },
 "nbformat": 4,
 "nbformat_minor": 4
}