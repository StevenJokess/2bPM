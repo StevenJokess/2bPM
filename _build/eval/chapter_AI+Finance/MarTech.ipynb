{
 "cells": [
  {
   "cell_type": "markdown",
   "metadata": {},
   "source": [
    "# 智能营销\n",
    "\n",
    "采集客户在各渠道的行为数据，利用深度学习、自然语言处理等技术构建认知模型，通过全渠道精准投放信息，为消费者提供千人千面的个性化营销服务。\n",
    "\n",
    "[1]: https://www.sohu.com/a/393727642_676545"
   ]
  }
 ],
 "metadata": {
  "language_info": {
   "name": "python"
  }
 },
 "nbformat": 4,
 "nbformat_minor": 4
}