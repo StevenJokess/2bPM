{
 "cells": [
  {
   "cell_type": "markdown",
   "metadata": {},
   "source": [
    "# AI金融\n",
    ":label:`chap_dive`\n",
    "​\n",
    "![AI金融[1]](../img/AI+Finance.png)\n",
    "![AI金融[2]](../img/AI+Finance2.png)\n",
    "![AI金融各应用](../img/AI+finance_app.png)"
   ]
  },
  {
   "cell_type": "markdown",
   "metadata": {},
   "source": [
    "```toc\n",
    ":maxdepth: 2\n",
    "\n",
    "Finance\n",
    "FinTech\n",
    "AI_Finance\n",
    "Invest\n",
    "Robo-Advisor\n",
    "AI_Investment_Research\n",
    "AI_Risk_Management\n",
    "AI_customer_service\n",
    "RPA\n",
    "MarTech\n",
    "Full_stack\n",
    "AI_safety\n",
    "quant\n",
    "```\n"
   ]
  },
  {
   "cell_type": "markdown",
   "metadata": {},
   "source": [
    "[1]: https://www.iimedia.cn/c1020/77214.html\n",
    "[2]: https://www.donews.com/news/detail/4/3084506.html"
   ]
  }
 ],
 "metadata": {
  "language_info": {
   "name": "python"
  }
 },
 "nbformat": 4,
 "nbformat_minor": 4
}