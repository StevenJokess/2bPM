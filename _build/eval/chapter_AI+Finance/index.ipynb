{
 "cells": [
  {
   "cell_type": "markdown",
   "id": "small-heading",
   "metadata": {},
   "source": [
    "# AI金融\n",
    ":label:`chap_dive`\n",
    "​"
   ]
  },
  {
   "cell_type": "markdown",
   "id": "italic-wednesday",
   "metadata": {},
   "source": [
    "```toc\n",
    ":maxdepth: 2\n",
    "\n",
    "FinTech\n",
    "Robo-Advisor\n",
    "AI_Investment_Research\n",
    "AI_Risk_Management\n",
    "Full_stack\n",
    "```\n"
   ]
  }
 ],
 "metadata": {
  "language_info": {
   "name": "python"
  }
 },
 "nbformat": 4,
 "nbformat_minor": 5
}