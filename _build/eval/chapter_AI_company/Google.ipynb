{
 "cells": [
  {
   "cell_type": "markdown",
   "metadata": {},
   "source": [
    "# Google\n",
    "\n",
    "Google 当前（2017 年）在 AI 领域的实力有多强？（与其他公司对比）？\n",
    "https://www.zhihu.com/question/59982964/answer/171215347"
   ]
  }
 ],
 "metadata": {
  "language_info": {
   "name": "python"
  }
 },
 "nbformat": 4,
 "nbformat_minor": 4
}