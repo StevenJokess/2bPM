{
 "cells": [
  {
   "cell_type": "markdown",
   "metadata": {},
   "source": [
    "# Intel\n",
    "\n",
    "\n",
    "投了 Deep Learning Software Engineer 的简历[1]\n",
    "\n",
    "## 相关网站\n",
    "\n",
    "https://software.intel.com/content/www/us/en/develop/tools/oneapi.html\n",
    "\n",
    "Github:\n",
    "\n",
    "- IntelAI [2]\n",
    "- intel[3]\n",
    "- intel Iot[4]\n",
    "\n",
    "\n",
    "比GPU快15倍，CPU算法训练深度神经网络“超车”成功 - biendata的文章 - 知乎\n",
    "https://zhuanlan.zhihu.com/p/389325545\n",
    "\n",
    "## 附加问题\n",
    "\n",
    "请用3-5个词语形容你眼中的英特尔？\n",
    "\n",
    "历史：首个微处理器Intel 4004创造计算机革命、20世纪80年代PC的Wintel联盟、2-7代core时代Intel没竞争动力的牙膏厂、AIoT前景的开放合作解决方案商。\n",
    "\n",
    "https://zhidx.com/p/286228.html\n",
    "\n",
    "[1]: https://chinacampus.jobs.intel.cn/intel/position/detail?positionId=60cda0c3744a269193a5f4ea\n",
    "[2]: https://github.com/IntelAI\n",
    "[3]: https://github.com/intel\n",
    "[4]: https://github.com/intel-iot-devkit"
   ]
  }
 ],
 "metadata": {
  "language_info": {
   "name": "python"
  }
 },
 "nbformat": 4,
 "nbformat_minor": 4
}