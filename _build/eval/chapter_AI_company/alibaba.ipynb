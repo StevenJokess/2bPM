{
 "cells": [
  {
   "cell_type": "markdown",
   "metadata": {},
   "source": [
    "# 阿里巴巴\n",
    "\n",
    "阿里巴巴的企业文化是客户第一、拥抱变化、团队合作、诚信、激情、敬业。在这里，要具备极强的客户意识和团队意识。[^2]\n",
    "\n",
    "## NLP\n",
    "\n",
    "https://ai.aliyun.com/nls\n",
    "\n",
    "## AI Lab\n",
    "\n",
    "2021年1月，阿里AI Lab解散，天猫精灵凉凉，阿里AI Labs成为国内主要互联网公司里第一个被关闭的人工智能实验室。\n",
    "\n",
    "阿里巴巴人工智能实验室成立于2016年，2017年7月5日首次公开亮相，巅峰的时候阿里AI Labs团队有上千人，旗下孵化出来的最重要的产品就是天猫精灵。\n",
    "\n",
    "2020年9月，阿里AI Lab总经理陈丽娟（浅雪）转入大钉钉事业部；阿里巴巴AI Labs北京研发中心负责人、语音助手首席科学家聂再清，已经于10月加入清华大学任教。\n",
    "\n",
    "聂再清之前曾经在微软亚洲研究院工作过13年，主要负责微软自然语言理解、实体挖掘的研发工作，是微软学术搜索、人立方，以及企业智能助理 EDI 的发起人和负责人。\n",
    "\n",
    "https://azft.alibaba.com/labs\n",
    "\n",
    "阿里巴巴宣布成立人工智能治理与可持续发展实验室，有哪些值得关注的信息？ - 知乎\n",
    "https://www.zhihu.com/question/472159338\n",
    "\n",
    "阿里巴巴的AI实力被低估了吗？ - 半佛仙人的回答 - 知乎\n",
    "https://www.zhihu.com/question/347775590/answer/836180074\n",
    "[1]: https://wqw547243068.github.io/2020/04/29/dialogue-system/#%E5%AF%B9%E8%AF%9D%E7%AE%A1%E7%90%86\n",
    "[^2]: https://www.zhihu.com/question/344549330/answer/827486521"
   ]
  }
 ],
 "metadata": {
  "language_info": {
   "name": "python"
  }
 },
 "nbformat": 4,
 "nbformat_minor": 4
}