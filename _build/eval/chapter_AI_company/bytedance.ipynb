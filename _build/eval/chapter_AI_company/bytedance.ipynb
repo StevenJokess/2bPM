{
 "cells": [
  {
   "cell_type": "markdown",
   "metadata": {},
   "source": [
    "# bytedance\n",
    "\n",
    "今日头条的 AI lab 是一个怎样的存在？\n",
    "https://www.zhihu.com/question/61058554"
   ]
  }
 ],
 "metadata": {
  "language_info": {
   "name": "python"
  }
 },
 "nbformat": 4,
 "nbformat_minor": 4
}