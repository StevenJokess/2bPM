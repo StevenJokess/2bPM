{
 "cells": [
  {
   "cell_type": "markdown",
   "metadata": {},
   "source": [
    "# datayes\n",
    "\n",
    "https://app.mokahr.com/apply/datayes/26359#/\n",
    "\n",
    "http://xz.51job.com/TL2021/about.html\n",
    "\n",
    "## 登录求职\n",
    "\n",
    "![](../img/datayes_bug.jpg)\n",
    "\n",
    "回车不管用\n",
    "\n",
    "手机号登录，验证码、语音验证码都收不到。。\n",
    "\n",
    "## 更新\n",
    "\n",
    "https://uqer.datayes.com/help/changelog/\n",
    "\n",
    "产品更新截止到2018-12-07 更新\n",
    "\n",
    "雷同http://quant.10jqka.com.cn/platform/html/home.html\n",
    "\n",
    "[1]: http://job.datayes.com/login?refer=http%3A%2F%2Fjob.datayes.com%2Fposition%2Fdetail%3Fchannel%3D0%26id%3D79449920%26project_id%3D"
   ]
  }
 ],
 "metadata": {
  "language_info": {
   "name": "python"
  }
 },
 "nbformat": 4,
 "nbformat_minor": 4
}