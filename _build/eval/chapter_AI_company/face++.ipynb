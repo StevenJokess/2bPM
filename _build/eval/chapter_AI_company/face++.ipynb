{
 "cells": [
  {
   "cell_type": "markdown",
   "metadata": {},
   "source": [
    "# 旷视\n",
    "\n",
    "https://www.faceplusplus.com.cn/face-comparing/"
   ]
  }
 ],
 "metadata": {
  "language_info": {
   "name": "python"
  }
 },
 "nbformat": 4,
 "nbformat_minor": 4
}