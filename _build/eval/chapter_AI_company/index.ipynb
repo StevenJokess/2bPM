{
 "cells": [
  {
   "cell_type": "markdown",
   "metadata": {},
   "source": [
    "# AI公司研究\n",
    ":label:`chap_company`\n",
    "​\n",
    "1天内快速了解/分析一家企业/公司 - 心中有光的文章 - 知乎\n",
    "https://zhuanlan.zhihu.com/p/369316896"
   ]
  },
  {
   "cell_type": "markdown",
   "metadata": {},
   "source": [
    "```toc\n",
    ":maxdepth: 2\n",
    "\n",
    "company_research\n",
    "baidu\n",
    "alibaba\n",
    "antgroup\n",
    "alipay\n",
    "trustbe\n",
    "tencent\n",
    "dm-ai\n",
    "jd\n",
    "meituan\n",
    "xiaoice\n",
    "xiaomi\n",
    "huatai\n",
    "JPMorgan\n",
    "tianyancha\n",
    "mrsai\n",
    "momo\n",
    "datayes\n",
    "turingbot\n",
    "RealAI\n",
    "yuncong\n",
    "jinzheng\n",
    "tucao\n",
    "Intel\n",
    "face++\n",
    "more\n",
    "```\n"
   ]
  }
 ],
 "metadata": {
  "language_info": {
   "name": "python"
  }
 },
 "nbformat": 4,
 "nbformat_minor": 4
}