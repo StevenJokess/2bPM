{
 "cells": [
  {
   "cell_type": "markdown",
   "metadata": {},
   "source": [
    "# 更多\n",
    "\n",
    "北京盛开智联科技有限公司：\n",
    "\n",
    "https://www.interjoy.com.cn/\n",
    "https://www.sk-ai.com/\n",
    "\n",
    "第四范式：\n",
    "\n",
    "https://www.sohu.com/a/405232718_787424\n",
    "\n",
    "极视角：\n",
    "\n",
    "https://www.zhihu.com/people/luo-yun-614/pins\n",
    "\n",
    "讯飞：\n",
    "\n",
    "https://www.xfyun.cn/\n",
    "\n",
    "360:\n",
    "\n",
    "https://www.bilibili.com/video/BV1B64y1x7SG\n",
    "http://ai.360.com/\n",
    "\n",
    "https://ai.arcsoft.com.cn/product/arcface.html\n",
    "\n",
    "AIChannel中国绊爱\n",
    "https://space.bilibili.com/484322035\n",
    "\n",
    "【中国绊爱】爱哥的产品经理初体验\n",
    "https://www.bilibili.com/video/BV1MQ4y1P71S?from=search&seid=5882016147693094636\n",
    "\n",
    "\n",
    "国外创业公司：\n",
    "\n",
    "AI创业必读：133家分类整理的国外人工智能公司（附官网） - 量子位的文章 - 知乎\n",
    "https://zhuanlan.zhihu.com/p/26570803\n",
    "\n",
    "NVDIA:https://www.nvidia.com/en-us/deep-learning-ai/startups/"
   ]
  }
 ],
 "metadata": {
  "language_info": {
   "name": "python"
  }
 },
 "nbformat": 4,
 "nbformat_minor": 4
}