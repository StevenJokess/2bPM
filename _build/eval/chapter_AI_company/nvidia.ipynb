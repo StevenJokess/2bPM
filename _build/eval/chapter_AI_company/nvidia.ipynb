{
 "cells": [
  {
   "cell_type": "markdown",
   "metadata": {},
   "source": [
    "# 英伟达\n",
    "\n",
    "https://github.com/NVIDIA-AI-IOT\n",
    "\n",
    "分享一些值的深入学习的关于AI部署的NVIDIA新技术 - OLDPAN的文章 - 知乎\n",
    "https://zhuanlan.zhihu.com/p/400077454"
   ]
  }
 ],
 "metadata": {
  "language_info": {
   "name": "python"
  }
 },
 "nbformat": 4,
 "nbformat_minor": 4
}