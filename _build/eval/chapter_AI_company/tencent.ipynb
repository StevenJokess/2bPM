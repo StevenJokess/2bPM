{
 "cells": [
  {
   "cell_type": "markdown",
   "metadata": {},
   "source": [
    "# 腾讯\n",
    "\n",
    "https://ai.qq.com/\n",
    "\n",
    "---\n",
    "\n",
    "\n",
    "香港中文大学 (深圳) – 腾讯AI Lab机器智能联合实验室是由香港中文大学 (深圳) 和腾讯AI Lab联合成立的第一个校企联合实验室。\n",
    "\n",
    "https://tencentlab.cuhk.edu.cn/zh-hans/content/7178\n",
    "\n",
    "## 财报\n",
    "\n",
    "腾讯Q2财报来了！用技术为实体经济和社会作贡献\n",
    "https://zhuanlan.zhihu.com/p/359752982\n",
    "\n",
    "---\n",
    "\n",
    "艾灵 https://www.bilibili.com/video/BV19U4y157P8\n",
    "\n",
    "https://www.bilibili.com/video/BV1ef4y1Y7s4/?spm_id_from=333.788.recommend_more_video.-1\n",
    "\n",
    "微信公众号的网页版为啥不能看别的文章？\n",
    "https://mp.weixin.qq.com/s?__biz=MzUzMDc4MzUzOA==&mid=2247483803&idx=1&sn=bc9de2c5837f518bce2fb95d5e6177a6&chksm=fa4dcdc6cd3a44d0d958d7ea4363d49ce70612b38049addbb43c39736017e48f0c2d88ce50ac&scene=178&cur_album_id=1984957323827576835#rd"
   ]
  }
 ],
 "metadata": {
  "language_info": {
   "name": "python"
  }
 },
 "nbformat": 4,
 "nbformat_minor": 4
}