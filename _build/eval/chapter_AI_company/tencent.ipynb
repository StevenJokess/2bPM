{
 "cells": [
  {
   "cell_type": "markdown",
   "metadata": {},
   "source": [
    "# 腾讯\n",
    "\n",
    "https://ai.qq.com/\n",
    "\n",
    "香港中文大学 (深圳) – 腾讯AI Lab机器智能联合实验室是由香港中文大学 (深圳) 和腾讯AI Lab联合成立的第一个校企联合实验室。\n",
    "\n",
    "https://tencentlab.cuhk.edu.cn/zh-hans/content/7178"
   ]
  }
 ],
 "metadata": {
  "language_info": {
   "name": "python"
  }
 },
 "nbformat": 4,
 "nbformat_minor": 4
}