{
 "cells": [
  {
   "cell_type": "markdown",
   "metadata": {},
   "source": [
    "# 小爱\n",
    "\n",
    "https://developers.xiaoai.mi.com/\n",
    "\n",
    "https://space.bilibili.com/239380557?from=search&seid=5696491191200583650\n",
    "\n",
    "小爱同学VS微软小冰：https://www.bilibili.com/video/BV1fp411o7VG?from=search&seid=8658988712634105515"
   ]
  }
 ],
 "metadata": {
  "language_info": {
   "name": "python"
  }
 },
 "nbformat": 4,
 "nbformat_minor": 4
}