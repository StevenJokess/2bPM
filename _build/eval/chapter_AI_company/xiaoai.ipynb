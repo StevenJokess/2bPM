{
 "cells": [
  {
   "cell_type": "markdown",
   "metadata": {},
   "source": [
    "# 小爱\n",
    "\n",
    "https://developers.xiaoai.mi.com/\n",
    "\n",
    "https://space.bilibili.com/239380557?from=search&seid=5696491191200583650\n",
    "\n",
    "小爱同学VS微软小冰：https://www.bilibili.com/video/BV1fp411o7VG?from=search&seid=8658988712634105515\n",
    "\n",
    "测试--单轮对话\n",
    "\n",
    "- 订机票弹出：https://www.ctrip.com/\n",
    "- 订台州到杭州的票（默认是火车票了）：https://kyfw.12306.cn/otn/leftTicket/init?linktypeid=dc&fs=%E5%8F%B0%E5%B7%9E,TZH&ts=%E6%9D%AD%E5%B7%9E,HZH&date=&flag=N,N,Y\n",
    "- 订台州到杭州的机票（默认是今天了）https://flights.ctrip.com/international/search/oneway-hyn-hgh?_=1&depdate=2021-05-12\n",
    "- 换首歌-好的（Media Next track）\n",
    "- 上首歌-好的（Media Prev track）\n",
    "- 打开迅雷腾讯视频（说错了，本来想说打开腾讯视频）- 结果。。\n",
    "-"
   ]
  }
 ],
 "metadata": {
  "language_info": {
   "name": "python"
  }
 },
 "nbformat": 4,
 "nbformat_minor": 4
}