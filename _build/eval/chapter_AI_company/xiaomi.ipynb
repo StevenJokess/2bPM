{
 "cells": [
  {
   "cell_type": "markdown",
   "metadata": {},
   "source": [
    "# 小米\n",
    "\n",
    "小米生态链：\n",
    "\n",
    "https://blog.csdn.net/acelit/article/details/80215820\n",
    "\n",
    "小米手环[^4]也可以通过小爱调节闹钟\n",
    "\n",
    "\n",
    "\n",
    "## 小爱\n",
    "\n",
    "https://developers.xiaoai.mi.com/\n",
    "\n",
    "https://space.bilibili.com/239380557?from=search&seid=5696491191200583650\n",
    "\n",
    "小爱同学VS微软小冰：https://www.bilibili.com/video/BV1fp411o7VG?from=search&seid=8658988712634105515\n",
    "\n",
    "测试--单轮对话\n",
    "\n",
    "- 订机票弹出携程：https://www.ctrip.com/\n",
    "- 订台州到杭州的票（默认是火车票了）：https://kyfw.12306.cn/otn/leftTicket/init?linktypeid=dc&fs=%E5%8F%B0%E5%B7%9E,TZH&ts=%E6%9D%AD%E5%B7%9E,HZH&date=&flag=N,N,Y\n",
    "- 订台州到杭州的机票（默认是今天了）https://flights.ctrip.com/international/search/oneway-hyn-hgh?_=1&depdate=2021-05-12\n",
    "- 换首歌-好的（Media Next track）\n",
    "- 上首歌-好的（Media Prev track）\n",
    "- 打开迅雷腾讯视频（说错了，本来想说打开腾讯视频）， 结果打开了腾讯（问题：以先为准，而实际上往往先的很有可能是口误）\n",
    "-\n",
    "\n",
    "严重问题：耳机不能直接说播放、暂停！\n",
    "\n",
    "why携程？“不得不佩服携程的服务，是确实完备，这些去哪儿网，马蜂窝等等望尘莫及”[^1]\n",
    "\n",
    "说天气、日期、对应数字[^2]\n",
    "\n",
    "AI通话（聋哑人福利）：语音转文字、文字转语音\n",
    "\n",
    "## More\n",
    "\n",
    "- 小爱同学B站号[^3]\n",
    "- 购买小米AI音箱(小爱同学)后，给你的生活带了哪些改变？[^5]\n",
    "- 如何评价小米 AI 智能音箱「小爱同学」？[^6]\n",
    "- 小爱 AI 音箱话题[^7]\n",
    "- 小爱同学话题[^8]\n",
    "\n",
    "[^1]: https://www.nowcoder.com/discuss/tiny/587660?channel=666&source_id=feed_index_nctrack&fromIframe=true\n",
    "[^2]: https://www.bilibili.com/video/BV1AV411t7o2?spm_id_from=333.851.b_62696c695f7265706f72745f6469676974616c.9\n",
    "[^3]: https://space.bilibili.com/239380557/dynamic\n",
    "[^4]: https://www.bilibili.com/video/BV1754y1b7CR\n",
    "[^5]: https://www.zhihu.com/question/66803456/answer/251204530\n",
    "[^6]: https://www.zhihu.com/question/62976197/answer/204008061\n",
    "[^7]: https://www.zhihu.com/topic/20097760\n",
    "[^8]: https://www.zhihu.com/topic/20091426"
   ]
  }
 ],
 "metadata": {
  "language_info": {
   "name": "python"
  }
 },
 "nbformat": 4,
 "nbformat_minor": 4
}