{
 "cells": [
  {
   "cell_type": "markdown",
   "metadata": {},
   "source": [
    "# AI产品的测试\n",
    "\n",
    "## 图灵测试\n",
    "\n",
    "TODO: https://www.cnblogs.com/zgq123456/articles/10562855.html\n",
    "\n",
    "### 元图灵测试\n",
    "\n",
    "https://aaai.org/ocs/index.php/WS/AAAIW17/paper/download/15233/14656\n",
    "\n",
    "### Winograd Schema Challenge测试\n",
    "\n",
    "https://en.wikipedia.org/wiki/Winograd_Schema_Challenge\n",
    "\n",
    "用世界知识（包括常识）来做推理：\n",
    "\n",
    "\n",
    "## 指标\n",
    "\n",
    "- 查准率表示真正例占所有预测结果为正例的样例比值\n",
    "- 查全率表示真正例占所有真实情况为正例的样例比值\n",
    "- ROC曲线描述的是真正例率和假正例率之间的关系\n",
    "\n",
    "\n",
    "\n",
    "https://dingdang.qq.com/doc/page/65\n",
    "\n",
    "[1]: https://mp.weixin.qq.com/s?__biz=Mzg5NDIwODgzMA==&mid=2247484375&idx=1&sn=ef1c302d24f4b30651b5dfcaaf0390cc&source=41#wechat_redirect"
   ]
  }
 ],
 "metadata": {
  "language_info": {
   "name": "python"
  }
 },
 "nbformat": 4,
 "nbformat_minor": 4
}