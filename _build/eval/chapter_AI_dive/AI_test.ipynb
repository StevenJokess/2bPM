{
 "cells": [
  {
   "cell_type": "markdown",
   "metadata": {},
   "source": [
    "# AI产品的测试\n",
    "\n",
    "TODO: https://www.cnblogs.com/zgq123456/articles/10562855.html\n",
    "\n",
    "## 指标\n",
    "\n",
    "- 查准率表示真正例占所有预测结果为正例的样例比值\n",
    "- 查全率表示真正例占所有真实情况为正例的样例比值\n",
    "- ROC曲线描述的是真正例率和假正例率之间的关系"
   ]
  }
 ],
 "metadata": {
  "language_info": {
   "name": "python"
  }
 },
 "nbformat": 4,
 "nbformat_minor": 4
}