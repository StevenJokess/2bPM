{
 "cells": [
  {
   "cell_type": "markdown",
   "metadata": {},
   "source": [
    "# MT（机器翻译）\n",
    "\n",
    "腾讯出品的transmart辅助翻译系统，立志于帮助广大译员们更快更准更轻松更有效率的进行翻译工作 https://transmart.qq.com/index"
   ]
  }
 ],
 "metadata": {
  "language_info": {
   "name": "python"
  }
 },
 "nbformat": 4,
 "nbformat_minor": 4
}