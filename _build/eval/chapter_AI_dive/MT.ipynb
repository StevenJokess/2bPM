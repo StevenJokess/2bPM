{
 "cells": [
  {
   "cell_type": "markdown",
   "metadata": {},
   "source": [
    "# MT（机器翻译）\n",
    "\n",
    "腾讯出品的transmart辅助翻译系统，立志于帮助广大译员们更快更准更轻松更有效率的进行翻译工作 https://transmart.qq.com/index\n",
    "\n",
    "什么是机器翻译？（科普向） - godweiyang的文章 - 知乎\n",
    "https://zhuanlan.zhihu.com/p/400847203"
   ]
  }
 ],
 "metadata": {
  "language_info": {
   "name": "python"
  }
 },
 "nbformat": 4,
 "nbformat_minor": 4
}