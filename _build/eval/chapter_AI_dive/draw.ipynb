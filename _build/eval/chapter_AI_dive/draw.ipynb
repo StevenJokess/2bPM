{
 "cells": [
  {
   "cell_type": "markdown",
   "metadata": {},
   "source": [
    "# 画画\n",
    "\n",
    "## 线稿自动填色\n",
    "\n",
    "https://petalica-paint.pixiv.dev/index_zh.html"
   ]
  }
 ],
 "metadata": {
  "language_info": {
   "name": "python"
  }
 },
 "nbformat": 4,
 "nbformat_minor": 4
}