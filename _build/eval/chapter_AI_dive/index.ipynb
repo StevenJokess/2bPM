{
 "cells": [
  {
   "cell_type": "markdown",
   "metadata": {},
   "source": [
    "# 深入学习AI\n",
    ":label:`chap_AI_dive`\n",
    "​"
   ]
  },
  {
   "cell_type": "markdown",
   "metadata": {},
   "source": [
    "```toc\n",
    ":maxdepth: 2\n",
    "\n",
    "zongshen\n",
    "expert\n",
    "qi_yuan\n",
    "AI_Research\n",
    "code\n",
    "feature_engineering\n",
    "ML\n",
    "MLOps\n",
    "DL\n",
    "knowledge_map\n",
    "Federated Learning\n",
    "mobile\n",
    "cognition_AI\n",
    "real\n",
    "AI_test\n",
    "huidu\n",
    "AI_deploy\n",
    "develop\n",
    "```\n"
   ]
  }
 ],
 "metadata": {
  "language_info": {
   "name": "python"
  }
 },
 "nbformat": 4,
 "nbformat_minor": 4
}