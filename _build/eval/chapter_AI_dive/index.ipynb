{
 "cells": [
  {
   "cell_type": "markdown",
   "metadata": {},
   "source": [
    "# 深入学习AI\n",
    ":label:`chap_AI_dive`\n",
    "​"
   ]
  },
  {
   "cell_type": "markdown",
   "metadata": {},
   "source": [
    "```toc\n",
    ":maxdepth: 2\n",
    "\n",
    "understand_AI\n",
    "AI_Research\n",
    "code\n",
    "feature_engineering\n",
    "ML\n",
    "MLOps\n",
    "DL\n",
    "GAN\n",
    "OCR\n",
    "NLP\n",
    "KG\n",
    "Speech\n",
    "FAQ\n",
    "chatbot\n",
    "Federated Learning\n",
    "mobile\n",
    "cognition_AI\n",
    "real\n",
    "AI_test\n",
    "huidu\n",
    "AI_deploy\n",
    "AI_monitor&control\n",
    "develop\n",
    "```\n"
   ]
  }
 ],
 "metadata": {
  "language_info": {
   "name": "python"
  }
 },
 "nbformat": 4,
 "nbformat_minor": 4
}