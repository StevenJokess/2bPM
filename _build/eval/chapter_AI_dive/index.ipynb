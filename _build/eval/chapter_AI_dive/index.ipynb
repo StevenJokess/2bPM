{
 "cells": [
  {
   "cell_type": "markdown",
   "id": "suburban-replication",
   "metadata": {},
   "source": [
    "# 深入学习\n",
    ":label:`chap_dive`\n",
    "​"
   ]
  },
  {
   "cell_type": "markdown",
   "id": "explicit-cement",
   "metadata": {},
   "source": [
    "```toc\n",
    ":maxdepth: 2\n",
    "\n",
    "zongshen\n",
    "expert\n",
    "qi_yuan\n",
    "code\n",
    "feature_engineering\n",
    "ML\n",
    "MLOps\n",
    "DL\n",
    "Federated Learning\n",
    "mobile\n",
    "real\n",
    "huidu\n",
    "AI_test\n",
    "AI_deploy\n",
    "develop\n",
    "```\n"
   ]
  }
 ],
 "metadata": {
  "language_info": {
   "name": "python"
  }
 },
 "nbformat": 4,
 "nbformat_minor": 5
}