{
 "cells": [
  {
   "cell_type": "markdown",
   "metadata": {},
   "source": [
    "# 歌唱\n",
    "\n",
    "\n",
    "## TTS\n",
    "\n",
    "https://www.google.com/search?q=cevio+ai&rlz=1C1GCEA_enJP909HK909&oq=cevio+ai&aqs=chrome..69i57.456j0j1&sourceid=chrome&ie=UTF-8\n",
    "\n",
    "## Synthesizer V\n",
    "\n",
    "- https://www.bilibili.com/video/BV1pV411p7B4\n",
    "- https://www.zhihu.com/topic/20758649/hot\n",
    "- https://zhuanlan.zhihu.com/p/153689651\n",
    "- https://github.com/zhdl889\n",
    "- https://space.bilibili.com/8109148\n",
    "- https://resource.dreamtonics.com/download/Synthesizer%20V%20Studio%20Basic/latest/\n",
    "- https://www.bilibili.com/read/cv3069528\n",
    "- 官方教程：https://www.bilibili.com/video/BV1gi4y137hV"
   ]
  }
 ],
 "metadata": {
  "language_info": {
   "name": "python"
  }
 },
 "nbformat": 4,
 "nbformat_minor": 4
}