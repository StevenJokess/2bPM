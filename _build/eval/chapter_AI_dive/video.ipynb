{
 "cells": [
  {
   "cell_type": "markdown",
   "metadata": {},
   "source": [
    "# 视频\n",
    "\n",
    "\n",
    "https://cloud.google.com/video-intelligence\n",
    "\n",
    "https://daleonai.com/tags#video+intelligence\n",
    "\n",
    "视频分类之帧融合-上 - 凤舞九天的文章 - 知乎\n",
    "https://zhuanlan.zhihu.com/p/384454308\n",
    "\n",
    "## 体育\n",
    "\n",
    "https://github.com/google/making_with_ml/blob/master/sports_ai/Sports_AI_Analysis.ipynb\n",
    "\n",
    "## HR\n",
    "\n",
    "多轮面试一分为二：前期在线上，后期转线下。\n",
    "\n",
    "既可以打破时空束缚，免受距离、气候、交通成本等因素的不利影响，得到更高的参面率，还能有效止损，避免货不对板给双方带来的尴尬。\n",
    "\n",
    "当人手不多，利用AI视频面试，还能通过预制问答，大批量进行自动化面试。\n",
    "\n",
    "面试完成，后台能根据岗位匹配度、口语表达、价值观、颜值等多维度进行评分，输出胜任力报告，方便招聘官快速决策。[1]\n",
    "\n",
    "[1]: https://zhuanlan.zhihu.com/p/404894498"
   ]
  }
 ],
 "metadata": {
  "language_info": {
   "name": "python"
  }
 },
 "nbformat": 4,
 "nbformat_minor": 4
}