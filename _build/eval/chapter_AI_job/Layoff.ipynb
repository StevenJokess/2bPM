{
 "cells": [
  {
   "cell_type": "markdown",
   "metadata": {},
   "source": [
    "# 裁员\n",
    "\n",
    "如何看待亚马逊 AI 李沐团队大批人员离职?\n",
    "https://www.zhihu.com/question/392035070/answer/1227368673\n",
    "\n",
    "地平线创始人余凯回应“大裁员”\n",
    "https://plumwine.me/news652606/"
   ]
  }
 ],
 "metadata": {
  "language_info": {
   "name": "python"
  }
 },
 "nbformat": 4,
 "nbformat_minor": 4
}