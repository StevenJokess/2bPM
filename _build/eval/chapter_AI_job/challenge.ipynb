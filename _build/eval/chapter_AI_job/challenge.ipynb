{
 "cells": [
  {
   "cell_type": "markdown",
   "metadata": {},
   "source": [
    "# challenge\n",
    "\n",
    "AI 项目落地应用指南--4.产品经理的工作挑战 - kevin的文章 - 知乎\n",
    "https://zhuanlan.zhihu.com/p/78042456"
   ]
  }
 ],
 "metadata": {
  "language_info": {
   "name": "python"
  }
 },
 "nbformat": 4,
 "nbformat_minor": 4
}