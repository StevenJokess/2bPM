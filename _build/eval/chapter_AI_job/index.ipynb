{
 "cells": [
  {
   "cell_type": "markdown",
   "metadata": {},
   "source": [
    "# AI工作\n",
    ":label:`chap_AI_job`"
   ]
  },
  {
   "cell_type": "markdown",
   "metadata": {},
   "source": [
    "```toc\n",
    ":maxdepth: 2\n",
    "\n",
    "school\n",
    "Layoff\n",
    "meeting\n",
    "finance\n",
    "challenge\n",
    "```\n"
   ]
  }
 ],
 "metadata": {
  "language_info": {
   "name": "python"
  }
 },
 "nbformat": 4,
 "nbformat_minor": 4
}