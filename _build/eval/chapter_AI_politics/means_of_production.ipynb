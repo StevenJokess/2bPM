{
 "cells": [
  {
   "cell_type": "markdown",
   "metadata": {},
   "source": [
    "# 生产资料\n",
    "\n",
    "这些工具不应该提供给企业，而应该给企业里面的劳动者。\n",
    "\n",
    "小冰公司CEO李笛：强大的AI工具不应该给企业，应该给劳动者 | MEET2021 - 量子位的文章 - 知乎\n",
    "https://zhuanlan.zhihu.com/p/340432381"
   ]
  }
 ],
 "metadata": {
  "language_info": {
   "name": "python"
  }
 },
 "nbformat": 4,
 "nbformat_minor": 4
}