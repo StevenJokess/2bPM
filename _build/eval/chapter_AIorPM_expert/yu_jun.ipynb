{
 "cells": [
  {
   "cell_type": "markdown",
   "metadata": {},
   "source": [
    "# 俞军\n",
    "\n",
    "https://www.bobinsun.cn/pm/2020/01/29/Talking-about-product-managers/\n",
    "\n",
    "\n",
    "http://www.woshipm.com/pmd/3393658.html"
   ]
  }
 ],
 "metadata": {
  "language_info": {
   "name": "python"
  }
 },
 "nbformat": 4,
 "nbformat_minor": 4
}