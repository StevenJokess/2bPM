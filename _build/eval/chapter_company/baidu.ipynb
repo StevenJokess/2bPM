{
 "cells": [
  {
   "cell_type": "markdown",
   "id": "regular-injection",
   "metadata": {},
   "source": [
    "# 百度\n",
    "\n",
    "## 人物\n",
    "\n",
    "景鲲：现任百度集团副总裁、百度智能生活事业群组（SLG）总经理，百度人工智能产品委员会主席。全面负责小度系列硬件、小度助手和小度对话式人工智能操作系统（DuerOS）的产品、研发、运营、商务等工作。\n",
    "曾历任百度搜索公司产品委员会主席、大搜索总产品架构师。加入百度之前担任微软首席研发总监，负责微软必应搜索亚洲市场的研发工作，也是微软小冰的创造者。[1]\n",
    "\n",
    "## 产品吐槽\n",
    "\n",
    "百度百科：半屏的时候目录没了。。[2]\n",
    "\n",
    "[1]: https://baike.baidu.com/item/%E6%99%AF%E9%B2%B2/20432174\n",
    "[2]: https://baike.baidu.com/item/%E5%B0%8F%E5%86%B0/19880611?fromtitle=%E5%BE%AE%E8%BD%AF%E5%B0%8F%E5%86%B0&fromid=14076870#reference-[36]-20599544-wrap"
   ]
  }
 ],
 "metadata": {
  "language_info": {
   "name": "python"
  }
 },
 "nbformat": 4,
 "nbformat_minor": 5
}