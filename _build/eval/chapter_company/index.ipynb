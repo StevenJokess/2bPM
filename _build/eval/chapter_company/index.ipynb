{
 "cells": [
  {
   "cell_type": "markdown",
   "id": "complex-sixth",
   "metadata": {},
   "source": [
    "# Company\n",
    ":label:`chap_company`\n",
    "​"
   ]
  },
  {
   "cell_type": "markdown",
   "id": "ranking-break",
   "metadata": {},
   "source": [
    "```toc\n",
    ":maxdepth: 2\n",
    "\n",
    "company_research\n",
    "antgroup\n",
    "alipay\n",
    "dm-ai\n",
    "jd\n",
    "meituan\n",
    "xiaoice\n",
    "```\n"
   ]
  }
 ],
 "metadata": {
  "language_info": {
   "name": "python"
  }
 },
 "nbformat": 4,
 "nbformat_minor": 5
}