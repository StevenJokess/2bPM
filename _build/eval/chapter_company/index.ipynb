{
 "cells": [
  {
   "cell_type": "markdown",
   "id": "terminal-defeat",
   "metadata": {},
   "source": [
    "# 公司研究\n",
    ":label:`chap_company`\n",
    "​"
   ]
  },
  {
   "cell_type": "markdown",
   "id": "figured-protest",
   "metadata": {},
   "source": [
    "```toc\n",
    ":maxdepth: 2\n",
    "\n",
    "company_research\n",
    "baidu\n",
    "antgroup\n",
    "alipay\n",
    "dm-ai\n",
    "jd\n",
    "meituan\n",
    "xiaoice\n",
    "```\n"
   ]
  }
 ],
 "metadata": {
  "language_info": {
   "name": "python"
  }
 },
 "nbformat": 4,
 "nbformat_minor": 5
}