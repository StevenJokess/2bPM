{
 "cells": [
  {
   "cell_type": "markdown",
   "id": "engaging-communication",
   "metadata": {},
   "source": [
    "# 深入学习数据\n",
    ":label:`chap_more`"
   ]
  },
  {
   "cell_type": "markdown",
   "id": "magnetic-steam",
   "metadata": {},
   "source": [
    "```toc\n",
    ":maxdepth: 2\n",
    "\n",
    "pirate\n",
    "compliance_data\n",
    "```\n"
   ]
  }
 ],
 "metadata": {
  "language_info": {
   "name": "python"
  }
 },
 "nbformat": 4,
 "nbformat_minor": 5
}