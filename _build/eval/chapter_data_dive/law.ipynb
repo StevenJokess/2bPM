{
 "cells": [
  {
   "cell_type": "markdown",
   "metadata": {},
   "source": [
    "# 法律\n",
    "\n",
    "网络安全法\n",
    "\n",
    "国家安全法\n",
    "\n",
    "专利：https://www.cnipa.gov.cn/module/download/downfile.jsp?classid=0&showname=1.%E4%B8%93%E5%88%A9%E7%BA%A0%E7%BA%B7%E8%A1%8C%E6%94%BF%E8%B0%83%E8%A7%A3%E5%8A%9E%E6%A1%88%E6%8C%87%E5%8D%97.doc&filename=2e3658bda3c744f98585347c015fcb99.doc\n",
    "\n",
    "[1]: https://www.bilibili.com/video/BV1144y1q7Vi"
   ]
  }
 ],
 "metadata": {
  "language_info": {
   "name": "python"
  }
 },
 "nbformat": 4,
 "nbformat_minor": 4
}