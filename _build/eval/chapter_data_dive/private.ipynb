{
 "cells": [
  {
   "cell_type": "markdown",
   "metadata": {},
   "source": [
    "# 隐私\n",
    "\n",
    "\n",
    "华为小冰虚拟男友是安全的吗，怎么看待有网友爆料会自动开启摄像头窃取用户隐私的事情？是可信的吗？ - 知乎\n",
    "https://www.zhihu.com/question/418430367"
   ]
  }
 ],
 "metadata": {
  "language_info": {
   "name": "python"
  }
 },
 "nbformat": 4,
 "nbformat_minor": 4
}