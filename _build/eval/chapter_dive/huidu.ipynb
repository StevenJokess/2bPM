{
 "cells": [
  {
   "cell_type": "markdown",
   "id": "korean-environment",
   "metadata": {},
   "source": [
    "# 灰度发布\n",
    "\n",
    "灰度发布是指在黑与白之间，能够平滑过渡的一种发布方式，一级一级的发布逐渐的扩大发布范围，最后达到系统的完全上线。 \n",
    "\n",
    "灰度发布可以保证整体系统的稳定，在初始灰度的时候就可以发现、调整问题，以保证其影响度。\n",
    "\n",
    "灰度期：灰度发布开始到结束期间的这一段时间，称为灰度期。\n",
    "\n",
    "好处：\n",
    "\n",
    "1. 提前获得目标用户的使用反馈；\n",
    "2. 根据反馈结果，做到查漏补缺；\n",
    "3. 发现重大问题，可回滚“旧版本”；\n",
    "4. 补充完善产品不足；\n",
    "5. 快速验证产品的 idea。\n",
    "\n",
    "[1]: https://blog.csdn.net/liwei16611/article/details/90176044"
   ]
  }
 ],
 "metadata": {
  "language_info": {
   "name": "python"
  }
 },
 "nbformat": 4,
 "nbformat_minor": 5
}