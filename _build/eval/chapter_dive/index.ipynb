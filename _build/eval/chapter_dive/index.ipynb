{
 "cells": [
  {
   "cell_type": "markdown",
   "id": "favorite-light",
   "metadata": {},
   "source": [
    "# Dive\n",
    ":label:`chap_dive`\n",
    "​"
   ]
  },
  {
   "cell_type": "markdown",
   "id": "marked-student",
   "metadata": {},
   "source": [
    "```toc\n",
    ":maxdepth: 2\n",
    "\n",
    "zongshen\n",
    "expert\n",
    "qi_yuan\n",
    "company_research\n",
    "alipay\n",
    "dm-ai\n",
    "DL\n",
    "develop\n",
    "```\n"
   ]
  }
 ],
 "metadata": {
  "language_info": {
   "name": "python"
  }
 },
 "nbformat": 4,
 "nbformat_minor": 5
}