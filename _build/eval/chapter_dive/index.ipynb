{
 "cells": [
  {
   "cell_type": "markdown",
   "id": "excessive-journey",
   "metadata": {},
   "source": [
    "# Dive\n",
    ":label:`chap_dive`\n",
    "​"
   ]
  },
  {
   "cell_type": "markdown",
   "id": "legal-morrison",
   "metadata": {},
   "source": [
    "```toc\n",
    ":maxdepth: 2\n",
    "\n",
    "zongshen\n",
    "expert\n",
    "qi_yuan\n",
    "company_research\n",
    "alipay\n",
    "dm-ai\n",
    "ML\n",
    "DL\n",
    "mobile\n",
    "real\n",
    "develop\n",
    "jd\n",
    "```\n"
   ]
  }
 ],
 "metadata": {
  "language_info": {
   "name": "python"
  }
 },
 "nbformat": 4,
 "nbformat_minor": 5
}