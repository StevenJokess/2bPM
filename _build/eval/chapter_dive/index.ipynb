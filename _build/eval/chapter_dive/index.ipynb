{
 "cells": [
  {
   "cell_type": "markdown",
   "id": "unique-department",
   "metadata": {},
   "source": [
    "# Dive\n",
    ":label:`chap_dive`\n",
    "​"
   ]
  },
  {
   "cell_type": "markdown",
   "id": "backed-bristol",
   "metadata": {},
   "source": [
    "```toc\n",
    ":maxdepth: 2\n",
    "\n",
    "zongshen\n",
    "expert\n",
    "qi_yuan\n",
    "company_research\n",
    "antgroup\n",
    "alipay\n",
    "dm-ai\n",
    "jd\n",
    "ML\n",
    "DL\n",
    "mobile\n",
    "real\n",
    "huidu\n",
    "AI_test\n",
    "develop\n",
    "\n",
    "```\n"
   ]
  }
 ],
 "metadata": {
  "language_info": {
   "name": "python"
  }
 },
 "nbformat": 4,
 "nbformat_minor": 5
}