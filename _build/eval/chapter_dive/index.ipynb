{
 "cells": [
  {
   "cell_type": "markdown",
   "id": "italic-wallet",
   "metadata": {},
   "source": [
    "# Dive\n",
    ":label:`chap_dive`\n",
    "​"
   ]
  },
  {
   "cell_type": "markdown",
   "id": "young-grant",
   "metadata": {},
   "source": [
    "```toc\n",
    ":maxdepth: 2\n",
    "\n",
    "zongshen\n",
    "expert\n",
    "qi_yuan\n",
    "company_research\n",
    "antgroup\n",
    "alipay\n",
    "dm-ai\n",
    "jd\n",
    "meituan\n",
    "code\n",
    "feature_engineering\n",
    "ML\n",
    "MLOps\n",
    "DL\n",
    "Federated Learning\n",
    "mobile\n",
    "real\n",
    "huidu\n",
    "AI_test\n",
    "AI_deploy\n",
    "develop\n",
    "```\n"
   ]
  }
 ],
 "metadata": {
  "language_info": {
   "name": "python"
  }
 },
 "nbformat": 4,
 "nbformat_minor": 5
}