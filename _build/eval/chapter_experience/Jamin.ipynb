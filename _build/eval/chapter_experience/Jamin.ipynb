{
 "cells": [
  {
   "cell_type": "markdown",
   "id": "reliable-blood",
   "metadata": {},
   "source": [
    "# Jamin\n",
    "\n",
    "## GOAL:learn\n",
    "\n",
    "## 靠拢互联网\n",
    "\n",
    "## 作品证明自己\n",
    "\n",
    "## 内推"
   ]
  }
 ],
 "metadata": {
  "language_info": {
   "name": "python"
  }
 },
 "nbformat": 4,
 "nbformat_minor": 5
}