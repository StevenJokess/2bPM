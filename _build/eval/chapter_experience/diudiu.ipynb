{
 "cells": [
  {
   "cell_type": "markdown",
   "id": "affected-volume",
   "metadata": {},
   "source": [
    "# diudiu\n",
    "\n",
    "## 求职\n",
    "\n",
    "一次就够，1/2000:https://baike.baidu.com/item/%E5%BC%A0%E9%A2%96/3405319\n",
    "\n",
    "## 动态迭代\n",
    "\n",
    "了解评价，作品找工作\n",
    "\n",
    "## 作品核心\n",
    "\n",
    "核心的用户需求\n",
    "产品定位\n",
    "规划\n",
    "\n",
    "## 话题引子\n",
    "\n",
    "分析（用户、需求等）--》落地（设计、输出）\n",
    "\n",
    "## 规划路径\n",
    "\n",
    "不纠结\n",
    "\n",
    "https://izhiqun.com/web/share/experience\n",
    "\n",
    "## 关注潜力\n",
    "\n",
    "## 准备\n",
    "\n",
    "## 不闭门造车"
   ]
  }
 ],
 "metadata": {
  "language_info": {
   "name": "python"
  }
 },
 "nbformat": 4,
 "nbformat_minor": 5
}