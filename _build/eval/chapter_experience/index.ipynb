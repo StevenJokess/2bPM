{
 "cells": [
  {
   "cell_type": "markdown",
   "id": "brown-latex",
   "metadata": {},
   "source": [
    "# experience\n",
    ":label:`chap_exper`"
   ]
  },
  {
   "cell_type": "markdown",
   "id": "preceding-tooth",
   "metadata": {},
   "source": [
    "```toc\n",
    ":maxdepth: 2\n",
    "\n",
    "career_path\n",
    "1Day\n",
    "early_phase\n",
    "issue\n",
    "hema\n",
    "Jamin\n",
    "taobao\n",
    "tencent\n",
    "ant_jiebei\n",
    "diudiu\n",
    "dingding\n",
    "4years\n",
    "jubensha\n",
    "fail\n",
    "recessive_work\n",
    "\n",
    "```\n"
   ]
  }
 ],
 "metadata": {
  "language_info": {
   "name": "python"
  }
 },
 "nbformat": 4,
 "nbformat_minor": 5
}