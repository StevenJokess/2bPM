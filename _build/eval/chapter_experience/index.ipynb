{
 "cells": [
  {
   "cell_type": "markdown",
   "id": "gothic-inquiry",
   "metadata": {},
   "source": [
    "# experience\n",
    ":label:`chap_skill`"
   ]
  },
  {
   "cell_type": "markdown",
   "id": "suited-tracy",
   "metadata": {},
   "source": [
    "```toc\n",
    ":maxdepth: 2\n",
    "\n",
    "career_path\n",
    "issue\n",
    "hema\n",
    "Jamin\n",
    "taobao\n",
    "tencent\n",
    "ant_jiebei\n",
    "diudiu\n",
    "dingding\n",
    "4years\n",
    "jubensha\n",
    "fail\n",
    "```\n"
   ]
  }
 ],
 "metadata": {
  "language_info": {
   "name": "python"
  }
 },
 "nbformat": 4,
 "nbformat_minor": 5
}