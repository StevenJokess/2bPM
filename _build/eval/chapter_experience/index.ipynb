{
 "cells": [
  {
   "cell_type": "markdown",
   "id": "hidden-penetration",
   "metadata": {},
   "source": [
    "# experience\n",
    ":label:`chap_skill`"
   ]
  },
  {
   "cell_type": "markdown",
   "id": "pacific-partner",
   "metadata": {},
   "source": [
    "```toc\n",
    ":maxdepth: 2\n",
    "\n",
    "career_path\n",
    "1Day\n",
    "issue\n",
    "hema\n",
    "Jamin\n",
    "taobao\n",
    "tencent\n",
    "ant_jiebei\n",
    "diudiu\n",
    "dingding\n",
    "4years\n",
    "jubensha\n",
    "fail\n",
    "```\n"
   ]
  }
 ],
 "metadata": {
  "language_info": {
   "name": "python"
  }
 },
 "nbformat": 4,
 "nbformat_minor": 5
}