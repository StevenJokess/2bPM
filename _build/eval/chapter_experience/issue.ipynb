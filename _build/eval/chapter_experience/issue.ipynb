{
 "cells": [
  {
   "cell_type": "markdown",
   "id": "still-omega",
   "metadata": {},
   "source": [
    "## 行业巨变"
   ]
  }
 ],
 "metadata": {
  "language_info": {
   "name": "python"
  }
 },
 "nbformat": 4,
 "nbformat_minor": 5
}