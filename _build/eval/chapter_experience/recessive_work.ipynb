{
 "cells": [
  {
   "cell_type": "markdown",
   "id": "touched-associate",
   "metadata": {},
   "source": [
    "# AI PM的隐性工作[1]\n",
    "\n",
    "「产品经理的工作包括显性部分和隐性部分。为外界所知的显性部分，通常其实只占这个工作的十分之一左右；不为外人道的隐性部分，则占了这个工作的十分之九甚至更多。」\n",
    "\n",
    "## 隐性工作 — PM\n",
    "\n",
    "一般来说，偏 PM 的隐形部分的工作主要包括以下几个方面：\n",
    "控制项目进度，按时交付产品；\n",
    "团队协作与沟通；\n",
    "产品开发周期中的问题处理。\n",
    "\n",
    "\n",
    "\n",
    "[1]: https://medium.com/@liwdai/ai-pm-%E4%B9%8B%E9%9A%90%E6%80%A7%E9%83%A8%E5%88%86%E7%9A%84%E5%B7%A5%E4%BD%9C-be6de08d1c05"
   ]
  }
 ],
 "metadata": {
  "language_info": {
   "name": "python"
  }
 },
 "nbformat": 4,
 "nbformat_minor": 5
}