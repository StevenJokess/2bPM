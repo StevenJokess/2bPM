{
 "cells": [
  {
   "cell_type": "markdown",
   "id": "medieval-liquid",
   "metadata": {},
   "source": [
    "# 注意力\n",
    "\n",
    "小便池里假苍蝇，溅出率降低60%。\n",
    "\n",
    "微博的小红点、发布（橙色）\n",
    "淘宝里的立即购买（红色）、加入购物车（橙色）\n",
    "分类导航上下差5-10%\n",
    "\n",
    "\n",
    "[1]: https://www.bilibili.com/video/BV1254y1D7Ht?from=search&seid=14167562900175777805"
   ]
  }
 ],
 "metadata": {
  "language_info": {
   "name": "python"
  }
 },
 "nbformat": 4,
 "nbformat_minor": 5
}