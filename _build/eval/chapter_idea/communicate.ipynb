{
 "cells": [
  {
   "cell_type": "markdown",
   "id": "waiting-sentence",
   "metadata": {},
   "source": [
    "# 沟通\n",
    "\n",
    "产品经理的沟通能力非常重要，以后要面对大大小小各种跨部门沟通，包括对研发、运营、市场、客服等等，良好的沟通能力主要体现在语言表达清晰度、流畅度、断句顿挫合理等等，让人舒服的沟通能力是面试官考量的重点。尤其面试官如果作为未来的上级，顺畅的沟通方式是非常核心的考察点。\n",
    "\n",
    "沟通包括沟通内容和沟通技巧，技巧属于剑宗，内容属于气宗。懂沟通技巧的人，即使说的内容没有任何营养，但是别人爱听。而博学多才的人，如一些老教授，即使性格怪癖，很难沟通，但是他的话也很容易让人信服。在我们综合实力和个人魅力还达不到一定层次时，我们可以通过一些沟通技巧来提升沟通效果。[1]\n",
    "\n",
    "\n",
    "\n",
    "[1]: http://dadaghp.com/index/index/article_detail/mikuai/wenzhang/id/314.html\n",
    "[2]: http://dadaghp.com/index/index/article_detail/id/670.html\n",
    "[3]: https://zhuanlan.zhihu.com/p/48281196"
   ]
  }
 ],
 "metadata": {
  "language_info": {
   "name": "python"
  }
 },
 "nbformat": 4,
 "nbformat_minor": 5
}