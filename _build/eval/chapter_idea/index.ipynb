{
 "cells": [
  {
   "cell_type": "markdown",
   "id": "fitting-encoding",
   "metadata": {},
   "source": [
    "# Idea\n",
    ":label:`chap_idea`"
   ]
  },
  {
   "cell_type": "markdown",
   "id": "confirmed-particular",
   "metadata": {},
   "source": [
    "```toc\n",
    ":maxdepth: 2\n",
    "\n",
    "idea\n",
    "data\n",
    "negotiation\n",
    "brand\n",
    "decompose\n",
    "convert\n",
    "business\n",
    "critical\n",
    "attention\n",
    "goal\n",
    "understand_tech\n",
    "yunyingxiao\n",
    "\n",
    "```\n"
   ]
  }
 ],
 "metadata": {
  "language_info": {
   "name": "python"
  }
 },
 "nbformat": 4,
 "nbformat_minor": 5
}