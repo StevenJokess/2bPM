{
 "cells": [
  {
   "cell_type": "markdown",
   "id": "continuing-agency",
   "metadata": {},
   "source": [
    "# Idea\n",
    ":label:`chap_idea`"
   ]
  },
  {
   "cell_type": "markdown",
   "id": "manufactured-wyoming",
   "metadata": {},
   "source": [
    "```toc\n",
    ":maxdepth: 2\n",
    "\n",
    "idea\n",
    "data\n",
    "negotiation\n",
    "decompose\n",
    "convert\n",
    "business\n",
    "critical\n",
    "\n",
    "\n",
    "```\n"
   ]
  }
 ],
 "metadata": {
  "language_info": {
   "name": "python"
  }
 },
 "nbformat": 4,
 "nbformat_minor": 5
}