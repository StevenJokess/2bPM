{
 "cells": [
  {
   "cell_type": "markdown",
   "id": "naval-eugene",
   "metadata": {},
   "source": [
    "# Idea\n",
    ":label:`chap_idea`"
   ]
  },
  {
   "cell_type": "markdown",
   "id": "mexican-despite",
   "metadata": {},
   "source": [
    "```toc\n",
    ":maxdepth: 2\n",
    "\n",
    "idea\n",
    "data\n",
    "negotiation\n",
    "decompose\n",
    "convert\n",
    "business\n",
    "critical\n",
    "goal\n",
    "\n",
    "\n",
    "```\n"
   ]
  }
 ],
 "metadata": {
  "language_info": {
   "name": "python"
  }
 },
 "nbformat": 4,
 "nbformat_minor": 5
}