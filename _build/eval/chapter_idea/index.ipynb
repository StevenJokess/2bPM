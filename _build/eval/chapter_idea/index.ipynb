{
 "cells": [
  {
   "cell_type": "markdown",
   "id": "annual-newspaper",
   "metadata": {},
   "source": [
    "# Idea\n",
    ":label:`chap_idea`"
   ]
  },
  {
   "cell_type": "markdown",
   "id": "great-partnership",
   "metadata": {},
   "source": [
    "```toc\n",
    ":maxdepth: 2\n",
    "\n",
    "idea\n",
    "empathy\n",
    "data\n",
    "negotiation\n",
    "brand\n",
    "decompose\n",
    "convert\n",
    "business\n",
    "critical\n",
    "attention\n",
    "goal\n",
    "understand_tech\n",
    "design\n",
    "GTM\n",
    "time\n",
    "```\n"
   ]
  }
 ],
 "metadata": {
  "language_info": {
   "name": "python"
  }
 },
 "nbformat": 4,
 "nbformat_minor": 5
}