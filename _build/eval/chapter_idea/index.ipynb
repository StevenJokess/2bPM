{
 "cells": [
  {
   "cell_type": "markdown",
   "metadata": {},
   "source": [
    "# 思维/软实力\n",
    ":label:`chap_idea`"
   ]
  },
  {
   "cell_type": "markdown",
   "metadata": {},
   "source": [
    "```toc\n",
    ":maxdepth: 2\n",
    "\n",
    "idea\n",
    "empathy\n",
    "create\n",
    "data\n",
    "communicate\n",
    "negotiation\n",
    "brand\n",
    "decompose\n",
    "convert\n",
    "business\n",
    "critical\n",
    "attention\n",
    "goal\n",
    "understand_tech\n",
    "design\n",
    "GTM\n",
    "time\n",
    "risk\n",
    "```\n"
   ]
  }
 ],
 "metadata": {
  "language_info": {
   "name": "python"
  }
 },
 "nbformat": 4,
 "nbformat_minor": 4
}