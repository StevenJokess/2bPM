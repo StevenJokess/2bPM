{
 "cells": [
  {
   "cell_type": "markdown",
   "id": "employed-tracker",
   "metadata": {},
   "source": [
    "# Idea\n",
    ":label:`chap_idea`"
   ]
  },
  {
   "cell_type": "markdown",
   "id": "framed-socket",
   "metadata": {},
   "source": [
    "```toc\n",
    ":maxdepth: 2\n",
    "\n",
    "idea\n",
    "data\n",
    "negotiation\n",
    "brand\n",
    "decompose\n",
    "convert\n",
    "business\n",
    "critical\n",
    "attention\n",
    "goal\n",
    "understand_tech\n",
    "yunyingxiao\n",
    "design\n",
    "time\n",
    "```\n"
   ]
  }
 ],
 "metadata": {
  "language_info": {
   "name": "python"
  }
 },
 "nbformat": 4,
 "nbformat_minor": 5
}