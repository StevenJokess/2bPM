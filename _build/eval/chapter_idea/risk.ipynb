{
 "cells": [
  {
   "cell_type": "markdown",
   "id": "appreciated-beast",
   "metadata": {},
   "source": [
    "# 风险\n",
    "\n",
    "[1]: https://g.yuque.com/amir/pm/gqxrr2"
   ]
  }
 ],
 "metadata": {
  "language_info": {
   "name": "python"
  }
 },
 "nbformat": 4,
 "nbformat_minor": 5
}