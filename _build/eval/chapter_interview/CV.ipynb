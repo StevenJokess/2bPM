{
 "cells": [
  {
   "cell_type": "markdown",
   "id": "sixth-plaza",
   "metadata": {},
   "source": [
    "# CV\n",
    "\n",
    "![CV](../img/CV.jpg)\n",
    "![CV2](../img/CV2.png)\n",
    "\n",
    "## 5大问题\n",
    "\n",
    "- 简历过度包装\n",
    "- 简历过分冗长\n",
    "- 内容含糊不清\n",
    "- 数据敏感度差\n",
    "- 借用他人的成果\n",
    "\n",
    "### 简历过度包装\n",
    "\n",
    "### 简历过分冗长\n",
    "\n",
    "### 内容含糊不清\n",
    "\n",
    "抓主要放次要\n",
    "\n",
    "AI产品经理的基础还是产品经理，更重要的还是为什么做这个产品，这个产品解决了什么问题，你在其中扮演了什么角色，做出了哪些重要策略，算法模型存在哪些劣势你是如何通过产品手段进行用户体验层面的提升等等。\n",
    "\n",
    "### 数据敏感度差\n",
    "\n",
    "每个项目都要有合适的数据指标的说明（包括基础指标和对比指标），并且自己对指标有深刻的合逻辑的理解。\n",
    "\n",
    "### 借用他人的成果\n",
    "\n",
    "[1]: http://www.woshipm.com/zhichang/4160330.html\n",
    "[2]: http://www.woshipm.com/zhichang/4371937.html"
   ]
  }
 ],
 "metadata": {
  "language_info": {
   "name": "python"
  }
 },
 "nbformat": 4,
 "nbformat_minor": 5
}