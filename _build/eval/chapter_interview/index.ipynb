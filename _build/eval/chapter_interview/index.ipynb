{
 "cells": [
  {
   "cell_type": "markdown",
   "id": "fatty-motivation",
   "metadata": {},
   "source": [
    "# Interview\n",
    ":label:`chap_interview`"
   ]
  },
  {
   "cell_type": "markdown",
   "id": "reduced-latex",
   "metadata": {},
   "source": [
    "```toc\n",
    ":maxdepth: 2\n",
    "\n",
    "CV\n",
    "HR\n",
    "new_like\n",
    "question\n",
    "not_go\n",
    "offer\n",
    "```\n"
   ]
  }
 ],
 "metadata": {
  "language_info": {
   "name": "python"
  }
 },
 "nbformat": 4,
 "nbformat_minor": 5
}