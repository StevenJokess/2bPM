{
 "cells": [
  {
   "cell_type": "markdown",
   "metadata": {},
   "source": [
    "# 面试\n",
    ":label:`chap_interview`\n",
    "\n",
    "## 该怎么准备面试 [1]\n",
    "\n",
    "- 面试前的准备：简历信息梳理-自我认知-公司行业认知-产品体验-业务侧重思考理解\n",
    "- 面试流程：自我介绍-为何转行-项目梳理-公司情况-岗位情况-请教问题"
   ]
  },
  {
   "cell_type": "markdown",
   "metadata": {},
   "source": [
    "```toc\n",
    ":maxdepth: 2\n",
    "\n",
    "xintai\n",
    "choose\n",
    "require\n",
    "new_like\n",
    "CV\n",
    "AI_Finance_CV\n",
    "not_go\n",
    "exam\n",
    "yimian_exam\n",
    "interviewer\n",
    "question\n",
    "simulate_interview\n",
    "HR\n",
    "reward\n",
    "offer\n",
    "background_survey\n",
    "hire\n",
    "enter\n",
    "```\n"
   ]
  },
  {
   "cell_type": "markdown",
   "metadata": {},
   "source": [
    "[1]: https://zhuanlan.zhihu.com/p/60372396"
   ]
  }
 ],
 "metadata": {
  "language_info": {
   "name": "python"
  }
 },
 "nbformat": 4,
 "nbformat_minor": 4
}