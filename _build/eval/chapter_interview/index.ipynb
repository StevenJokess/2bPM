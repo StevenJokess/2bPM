{
 "cells": [
  {
   "cell_type": "markdown",
   "id": "stable-fiber",
   "metadata": {},
   "source": [
    "# Interview\n",
    ":label:`chap_interview`\n",
    "\n",
    "该怎么准备面试[1]\n",
    "\n",
    "- 面试前的准备：简历信息梳理-自我认知-公司行业认知-产品体验-业务侧重思考理解\n",
    "- 面试流程：自我介绍-为何转行-项目梳理-公司情况-岗位情况-请教问题"
   ]
  },
  {
   "cell_type": "markdown",
   "id": "basic-monroe",
   "metadata": {},
   "source": [
    "```toc\n",
    ":maxdepth: 2\n",
    "\n",
    "zitai\n",
    "choose\n",
    "CV\n",
    "AI_Finance_CV\n",
    "exam\n",
    "interviewer\n",
    "HR\n",
    "reward\n",
    "new_like\n",
    "question\n",
    "not_go\n",
    "offer\n",
    "hire\n",
    "\n",
    "```\n"
   ]
  },
  {
   "cell_type": "markdown",
   "id": "fixed-hollow",
   "metadata": {},
   "source": [
    "[1]: https://zhuanlan.zhihu.com/p/60372396"
   ]
  }
 ],
 "metadata": {
  "language_info": {
   "name": "python"
  }
 },
 "nbformat": 4,
 "nbformat_minor": 5
}