{
 "cells": [
  {
   "cell_type": "markdown",
   "id": "regulated-documentary",
   "metadata": {},
   "source": [
    "# Interview\n",
    ":label:`chap_interview`"
   ]
  },
  {
   "cell_type": "markdown",
   "id": "heavy-observer",
   "metadata": {},
   "source": [
    "```toc\n",
    ":maxdepth: 2\n",
    "\n",
    "CV\n",
    "interviewer\n",
    "HR\n",
    "new_like\n",
    "question\n",
    "not_go\n",
    "offer\n",
    "hire\n",
    "```\n"
   ]
  }
 ],
 "metadata": {
  "language_info": {
   "name": "python"
  }
 },
 "nbformat": 4,
 "nbformat_minor": 5
}