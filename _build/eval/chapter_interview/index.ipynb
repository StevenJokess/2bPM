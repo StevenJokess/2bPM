{
 "cells": [
  {
   "cell_type": "markdown",
   "id": "valuable-weekly",
   "metadata": {},
   "source": [
    "# Interview\n",
    ":label:`chap_interview`"
   ]
  },
  {
   "cell_type": "markdown",
   "id": "empty-absolute",
   "metadata": {},
   "source": [
    "```toc\n",
    ":maxdepth: 2\n",
    "\n",
    "zitai\n",
    "choose\n",
    "CV\n",
    "interviewer\n",
    "HR\n",
    "reward\n",
    "new_like\n",
    "question\n",
    "not_go\n",
    "offer\n",
    "hire\n",
    "\n",
    "```\n"
   ]
  }
 ],
 "metadata": {
  "language_info": {
   "name": "python"
  }
 },
 "nbformat": 4,
 "nbformat_minor": 5
}