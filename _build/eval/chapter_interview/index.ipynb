{
 "cells": [
  {
   "cell_type": "markdown",
   "id": "vertical-crawford",
   "metadata": {},
   "source": [
    "# Interview\n",
    ":label:`chap_interview`"
   ]
  },
  {
   "cell_type": "markdown",
   "id": "caroline-gibson",
   "metadata": {},
   "source": [
    "```toc\n",
    ":maxdepth: 2\n",
    "\n",
    "CV\n",
    "HR\n",
    "new_like\n",
    "question\n",
    "\n",
    "```\n"
   ]
  }
 ],
 "metadata": {
  "language_info": {
   "name": "python"
  }
 },
 "nbformat": 4,
 "nbformat_minor": 5
}