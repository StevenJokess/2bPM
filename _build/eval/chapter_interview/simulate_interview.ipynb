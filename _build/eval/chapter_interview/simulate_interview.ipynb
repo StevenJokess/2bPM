{
 "cells": [
  {
   "cell_type": "markdown",
   "id": "inside-spanking",
   "metadata": {},
   "source": [
    "# 模拟面试\n",
    "\n",
    "TODO:https://t.qidianla.com/1165227.html\n",
    "\n",
    "TODO: https://t.qidianla.com/author/qdxy-pmjy"
   ]
  }
 ],
 "metadata": {
  "language_info": {
   "name": "python"
  }
 },
 "nbformat": 4,
 "nbformat_minor": 5
}