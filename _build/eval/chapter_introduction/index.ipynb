{
 "cells": [
  {
   "cell_type": "markdown",
   "id": "tough-momentum",
   "metadata": {},
   "source": [
    "# Introduction\n",
    ":label:`chap_intro`"
   ]
  },
  {
   "cell_type": "markdown",
   "id": "alike-defendant",
   "metadata": {},
   "source": [
    "```toc\n",
    ":maxdepth: 2\n",
    "\n",
    "need\n",
    "Product\n",
    "money\n",
    "PM\n",
    "2B\n",
    "2C\n",
    "AI\n",
    "AI_PM\n",
    "ability\n",
    "pain_point\n",
    "```\n"
   ]
  }
 ],
 "metadata": {
  "language_info": {
   "name": "python"
  }
 },
 "nbformat": 4,
 "nbformat_minor": 5
}