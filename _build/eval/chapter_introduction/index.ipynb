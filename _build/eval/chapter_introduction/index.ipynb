{
 "cells": [
  {
   "cell_type": "markdown",
   "id": "stylish-financing",
   "metadata": {},
   "source": [
    "# Introduction\n",
    ":label:`chap_intro`"
   ]
  },
  {
   "cell_type": "markdown",
   "id": "valuable-london",
   "metadata": {},
   "source": [
    "```toc\n",
    ":maxdepth: 2\n",
    "\n",
    "need\n",
    "Product\n",
    "2B\n",
    "2C\n",
    "money\n",
    "PM\n",
    "AI\n",
    "AI_PM\n",
    "ability\n",
    "pain_point\n",
    "```\n"
   ]
  }
 ],
 "metadata": {
  "language_info": {
   "name": "python"
  }
 },
 "nbformat": 4,
 "nbformat_minor": 5
}