{
 "cells": [
  {
   "cell_type": "markdown",
   "id": "specialized-conditions",
   "metadata": {},
   "source": [
    "# Introduction\n",
    ":label:`chap_intro`"
   ]
  },
  {
   "cell_type": "markdown",
   "id": "falling-parcel",
   "metadata": {},
   "source": [
    "```toc\n",
    ":maxdepth: 2\n",
    "\n",
    "need\n",
    "Product\n",
    "money\n",
    "PM\n",
    "AI\n",
    "AI_PM\n",
    "ability\n",
    "```\n"
   ]
  }
 ],
 "metadata": {
  "language_info": {
   "name": "python"
  }
 },
 "nbformat": 4,
 "nbformat_minor": 5
}