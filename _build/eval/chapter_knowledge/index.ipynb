{
 "cells": [
  {
   "cell_type": "markdown",
   "id": "responsible-edmonton",
   "metadata": {},
   "source": [
    "# 全流程知识\n",
    ":label:`chap_skill`\n",
    "\n",
    "![整个产品实现的流程和生命周期[1]](../img/whole_process.png)"
   ]
  },
  {
   "cell_type": "markdown",
   "id": "imperial-opening",
   "metadata": {},
   "source": [
    "```toc\n",
    ":maxdepth: 2\n",
    "\n",
    "steps\n",
    "BRD\n",
    "industry_analysis\n",
    "market_analysis\n",
    "goods_analysis\n",
    "users_analysis\n",
    "need_analysis\n",
    "experience_report\n",
    "compete_analysis\n",
    "MRD\n",
    "PRD\n",
    "tools\n",
    "flow_chart\n",
    "static_page\n",
    "prototype_design\n",
    "MVP\n",
    "service_analysis\n",
    "strategy_analysis\n",
    "collaborate\n",
    "data_analysis\n",
    "project_manage\n",
    "upgrade_manage\n",
    "resource_manage\n",
    "research\n",
    "Valuation\n",
    "price\n",
    "more_users\n",
    "```\n"
   ]
  },
  {
   "cell_type": "markdown",
   "id": "roman-senegal",
   "metadata": {},
   "source": [
    "[1]: https://ke.qidianla.com/courses/pmcamp?channel=bbs"
   ]
  }
 ],
 "metadata": {
  "language_info": {
   "name": "python"
  }
 },
 "nbformat": 4,
 "nbformat_minor": 5
}