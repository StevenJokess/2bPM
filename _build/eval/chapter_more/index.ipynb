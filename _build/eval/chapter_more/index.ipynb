{
 "cells": [
  {
   "cell_type": "markdown",
   "id": "national-growing",
   "metadata": {},
   "source": [
    "# more\n",
    ":label:`chap_more`"
   ]
  },
  {
   "cell_type": "markdown",
   "id": "modern-joseph",
   "metadata": {},
   "source": [
    "```toc\n",
    ":maxdepth: 2\n",
    "\n",
    "pirate\n",
    "```\n"
   ]
  }
 ],
 "metadata": {
  "language_info": {
   "name": "python"
  }
 },
 "nbformat": 4,
 "nbformat_minor": 5
}