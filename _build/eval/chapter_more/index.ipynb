{
 "cells": [
  {
   "cell_type": "markdown",
   "id": "sonic-concern",
   "metadata": {},
   "source": [
    "# 更多\n",
    ":label:`chap_more`"
   ]
  },
  {
   "cell_type": "markdown",
   "id": "palestinian-heather",
   "metadata": {},
   "source": [
    "```toc\n",
    ":maxdepth: 2\n",
    "\n",
    "pirate\n",
    "```\n"
   ]
  }
 ],
 "metadata": {
  "language_info": {
   "name": "python"
  }
 },
 "nbformat": 4,
 "nbformat_minor": 5
}