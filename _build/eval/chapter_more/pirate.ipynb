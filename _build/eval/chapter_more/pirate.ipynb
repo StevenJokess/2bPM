{
 "cells": [
  {
   "cell_type": "markdown",
   "id": "innocent-thanksgiving",
   "metadata": {},
   "source": [
    "# 侵权\n",
    "\n",
    "## 何为侵权\n",
    "\n",
    "❌ 不遵守商业协议，私自销售商业源码[1]\n",
    "❌ 以任何理由将?源码用于申请软件著作权\n",
    "❌ 将商业源码以任何途径任何理由泄露给未授权的单位或个人\n",
    "❌ 开发完毕项目，没有为甲方购买企业授权，向甲方提供了?代码\n",
    "❌ 基于?拓展研发与?有竞争关系的衍生框架，并将其开源或销售\n",
    "\n",
    "## 侵权后果\n",
    "\n",
    "- 情节较轻：第一次发现警告处理\n",
    "- 情节较重：封禁账号，踢出商业群，并保留追究法律责任的权利\n",
    "- 情节严重：与本地律师事务所合作，以公司名义起诉侵犯计算机软件著作权\n",
    "\n",
    "[1]: https://githubmemory.com/repo/FanWenTao-Felix/Archer-1#%E4%BE%B5%E6%9D%83%E5%90%8E%E6%9E%9C"
   ]
  }
 ],
 "metadata": {
  "language_info": {
   "name": "python"
  }
 },
 "nbformat": 4,
 "nbformat_minor": 5
}