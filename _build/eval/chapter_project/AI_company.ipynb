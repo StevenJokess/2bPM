{
 "cells": [
  {
   "cell_type": "markdown",
   "id": "cellular-diameter",
   "metadata": {},
   "source": [
    "# AI公司\n",
    "\n",
    "\n",
    "## Baidu\n",
    "\n",
    "2016 ACL Fellow 百度 CTO 王海峰。[1]\n",
    "\n",
    "作为百度集团首席技术官，王海峰负责百度搜索、语音搜索、图像搜索、信息流、手机百度、小度机器人、自然语言处理、知识图谱、互联网数据挖掘等业务，并曾创始了百度语音、图像、推荐及个性化、深度学习、度秘等多个技术方向。由王海峰领导研发的百度翻译产品目前支持 28 种语言、756 个方向的自动翻译，并于 2015 年 5 月上线了全球首个融合神经网络机器翻译和统计机器翻译模型的大规模在线翻译系统。其领导的「基于大数据的互联网机器翻译核心技术及产业化」还荣获了 2015 年国家科技进步奖，这也是我国互联网企业首次获得该奖项。\n",
    "\n",
    "2016 年，王海峰当选 ACL Fellow，成为了首位获此荣誉的中国大陆科学家。会士评选委员会在对王海峰的评语中写道：王海峰在机器翻译、自然语言处理和搜索引擎技术领域，在学术界和工业界都取得了杰出成就，对于 ACL 在亚洲的发展也做出了卓越贡献。\n",
    "\n",
    "## Aliyun\n",
    "\n",
    "机器学习PAI Studio[2][3]\n",
    "PAI-Studio为开发者提供可视化的机器学习实验开发环境，帮助用户实现0代码开发人工智能相关服务。内置数百个成熟的机器学习算法，覆盖商品推荐、金融风控、广告预测等场景。\n",
    "\n",
    "\n",
    "PAI平台提供将常规机器学习模型/深度学习模型一键发布为Restful API的功能，支持用户通过http请求调用模型服务做实时预测，并且提供蓝绿部署、模型版本管理、在线调试等服务功能。 每个模型在部署的时候由用户选择占用的资源：CPU部署单位为Quota，GPU部署目前支持P4卡(NVidia Tesla P4 GPU卡)，部署单位为P4Quota\n",
    "\n",
    "部署单位说明：\n",
    "1Quota为1核CPU、4G内存\n",
    "1P4quota为1P4卡、8核CPU、32G内存\n",
    "\n",
    "每个模型服务费用=部属单位数量*部属单位单价*时长\n",
    "\n",
    "模型一旦部署并处于running状态就会开始计费，请切记及时停止无用的模型服务，以免造成不必要的费用开销\n",
    "后付费服务类型\t价格\t区域\n",
    "CPU服务\t0.4元/Quota/小时\t华东2、华北2\n",
    "GPU服务（P4卡）\t8元/P4Quota/小时\t华东2、华北2\n",
    "\n",
    "## More\n",
    "\n",
    "https://www.tusimple.com/\n",
    "https://github.com/amusi/CV-Company-List\n",
    "开源：https://www.oschina.net/company\n",
    "http://www.birdbot.cn/\n",
    "\n",
    "---\n",
    "\n",
    "阿波罗的官网地址是：\n",
    "http://apollo.auto/\n",
    "\n",
    "源代码，文档与数据下载地址为：\n",
    "https://github.com/apolloauto\n",
    "\n",
    "[1]: https://www.jiqizhixin.com/articles/2019-11-28-4\n",
    "[2]: https://www.aliyun.com/price/product?spm=5176.14094290.1334604.2112pai.14f373dbeRCF6U#/pai/detail\n",
    "[3]: https://www.aliyun.com/product/bigdata/product/learn"
   ]
  }
 ],
 "metadata": {
  "language_info": {
   "name": "python"
  }
 },
 "nbformat": 4,
 "nbformat_minor": 5
}