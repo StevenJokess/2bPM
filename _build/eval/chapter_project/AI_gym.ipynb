{
 "cells": [
  {
   "cell_type": "markdown",
   "id": "blessed-cursor",
   "metadata": {},
   "source": [
    "# AI 健身\n",
    "\n",
    "TODO:\n",
    "\n",
    "## 技术能力\n",
    "\n",
    "依赖于开发者在三维动态捕捉、深度学习建模等领域的技术能力 [1]\n",
    "\n",
    "\n",
    "[1]: https://www.tmtpost.com/4257148.html"
   ]
  }
 ],
 "metadata": {
  "language_info": {
   "name": "python"
  }
 },
 "nbformat": 4,
 "nbformat_minor": 5
}