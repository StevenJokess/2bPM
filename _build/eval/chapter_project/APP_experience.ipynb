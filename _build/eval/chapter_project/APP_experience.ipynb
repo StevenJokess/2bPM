{
 "cells": [
  {
   "cell_type": "markdown",
   "id": "descending-address",
   "metadata": {},
   "source": [
    "# APP体验\n",
    "\n",
    "[1]: http://www.woshipm.com/pmd/869289.html"
   ]
  }
 ],
 "metadata": {
  "language_info": {
   "name": "python"
  }
 },
 "nbformat": 4,
 "nbformat_minor": 5
}