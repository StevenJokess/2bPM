{
 "cells": [
  {
   "cell_type": "markdown",
   "id": "forward-wales",
   "metadata": {},
   "source": [
    "# project\n",
    ":label:`chap_project`"
   ]
  },
  {
   "cell_type": "markdown",
   "id": "known-message",
   "metadata": {},
   "source": [
    "```toc\n",
    ":maxdepth: 2\n",
    "\n",
    "AI_industry_analysis\n",
    "AI_company\n",
    "AI_talents\n",
    "AI_Finance\n",
    "AI_fit\n",
    "AI_hardware\n",
    "process\n",
    "Data Process\n",
    "inspect\n",
    "product_document\n",
    "Roadmap\n",
    "Scrum\n",
    "separate_need\n",
    "valuable\n",
    "APP_experience\n",
    "\n",
    "```\n"
   ]
  }
 ],
 "metadata": {
  "language_info": {
   "name": "python"
  }
 },
 "nbformat": 4,
 "nbformat_minor": 5
}