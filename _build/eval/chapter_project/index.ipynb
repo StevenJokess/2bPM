{
 "cells": [
  {
   "cell_type": "markdown",
   "id": "third-stick",
   "metadata": {},
   "source": [
    "# project\n",
    ":label:`chap_project`"
   ]
  },
  {
   "cell_type": "markdown",
   "id": "upset-firewall",
   "metadata": {},
   "source": [
    "```toc\n",
    ":maxdepth: 2\n",
    "\n",
    "AI_industry_analysis\n",
    "AI_company\n",
    "AI_Finance\n",
    "process\n",
    "flow_chart\n",
    "inspect\n",
    "product_document\n",
    "Roadmap\n",
    "Scrum\n",
    "separate_need\n",
    "valuable\n",
    "widespread\n",
    "\n",
    "```\n"
   ]
  }
 ],
 "metadata": {
  "language_info": {
   "name": "python"
  }
 },
 "nbformat": 4,
 "nbformat_minor": 5
}