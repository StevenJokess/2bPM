{
 "cells": [
  {
   "cell_type": "markdown",
   "id": "trying-wealth",
   "metadata": {},
   "source": [
    "# project\n",
    ":label:`chap_project`"
   ]
  },
  {
   "cell_type": "markdown",
   "id": "pacific-implement",
   "metadata": {},
   "source": [
    "```toc\n",
    ":maxdepth: 2\n",
    "\n",
    "AI_industry_analysis\n",
    "AI_company\n",
    "AI_Finance\n",
    "AI_fit\n",
    "process\n",
    "Data Process\n",
    "inspect\n",
    "product_document\n",
    "Roadmap\n",
    "Scrum\n",
    "separate_need\n",
    "valuable\n",
    "widespread\n",
    "\n",
    "```\n"
   ]
  }
 ],
 "metadata": {
  "language_info": {
   "name": "python"
  }
 },
 "nbformat": 4,
 "nbformat_minor": 5
}