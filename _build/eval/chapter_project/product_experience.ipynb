{
 "cells": [
  {
   "cell_type": "markdown",
   "metadata": {},
   "source": [
    "# 产品体验\n",
    "\n",
    "## 吐槽\n",
    "\n",
    "![猎聘投递后必须扫码。。而不能×继续投递](../img/liepin.png)\n",
    "\n",
    "[1]: http://www.woshipm.com/pmd/869289.html"
   ]
  }
 ],
 "metadata": {
  "language_info": {
   "name": "python"
  }
 },
 "nbformat": 4,
 "nbformat_minor": 4
}