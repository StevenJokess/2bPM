{
 "cells": [
  {
   "cell_type": "markdown",
   "id": "tropical-chance",
   "metadata": {},
   "source": [
    "# 估值\n",
    "\n",
    "## 尽职调查\n",
    "\n",
    "上裁判文书网、执行信息网、信用中国扒个涉诉涉执行情况\n",
    "\n",
    "## 上市[1]\n",
    "\n",
    "问：中国大型的互联网公司为什么纷纷跑到海外上市呢？下面请中国法学理事会理事李可书博士为大家解答一下境内外上市的区别在哪里。\n",
    "\n",
    "　　李可书：我们注意到中国大型的互联网公司，往往选择赴海外上市，而且美国上市是优选的，这是一个目前很常见的现象。\n",
    "　　那么，我们再看为什么，比如说阿里，它为什么选择在美国上市，这是一个我们需要去思索的点，首先我想分析一下它为什么选择在美国上市的原因。第一个原因，是因为在A股上市准入门槛比较高，规定的条件比较多，这种条件因为阿里满足不了，首先第一个条件，我国的《证券法》和《公司法》规定的非常明确，在A股上市的公司必须是依照法律规定，在中国境内设立的股份有限公司。而阿里巴巴呢，是注册在海外的，它这种外资的身份，使得它不满足A股上市的要求，这是第一个原因，因为A股要求必须注册在国内的企业。\n",
    "　　第二个要求，它也满足不了，是什么呢？关于A股上市的发行对象的要求，对于A股的上市来说，要求将股东的人数控制在200人，大家知道阿里之前大量的通过职工持股，收了自己员工大量的股票，如果需要将股东人数进行压缩的话，那么需要大量清理职工持股，这也是阿里不希望做到的。所以呢，基于这两点法律的要求，阿里很难去完全满足，这是第一个阿里当时考虑在美国上市的原因之一。\n",
    "　　第二个原因，是因为审核的时间，因为在国内上市呢，我们国内目前审核制，注册制没有正式实行之前一直是审核制，审核制决定了我们的审核是需要时间的，正常是两到三年，这个时间对于大量的互联网公司，包括阿里在内的大量互联网公司他们觉得时间太长，耗不起这个时间，而在国外呢，比如在美国上市，实际上是非常快的，一般来讲是半年左右就完成上市。所以从时间上考虑，在美国上市，这种境外上市，比在A股上市来说有一定的吸引力。这个是阿里当时选择在美国上市的第二个原因。\n",
    "　　第三个原因，是关于A股对于公司的盈利有明确的财务指标的要求，包括阿里在内的京东也一样，大家知道京东前几年一直没有盈利，所以它无法满足A股上市的要求，这是第三个原因。\n",
    "　　所以基于这些原因，导致包括阿里、京东这些大量的互联网公司选择在境外上市，当然未来他们是否选择回归，这可能是未来我们需要考虑的点，在我国的这种A股市场的制度进行变更之后。\n",
    "\n",
    "## 商汤科技\n",
    "\n",
    "成立于2014年的商汤科技，仅仅3年时间估值就暴涨到20亿美金。2017年7月，商汤科技宣布完成4.1亿美元B轮融资，创下当时全球人工智能领域单轮融资额记录。\n",
    "\n",
    "2018年4月，商汤科技完成阿里巴巴集团领投的6亿美元C轮融资，再次创下全球人工智能领域融资记录；一个月后，商汤科技再度获得6.2亿美元C+轮融资；三个多月后，商汤科技再度获得软银10亿美金的融资，估值也飙升至60亿美金。\n",
    "\n",
    "现在绝大部分技术型的、平台型的公司还是一To B的场景，但投资机构却把它们当作To C的公司来投。这样的公司，后续还需要多轮的融资支持成长。如果天使轮一下子把估值做到1亿，那A轮总得3亿，做到F轮怎么办？\n",
    "\n",
    "## Labby Inc[2]\n",
    "\n",
    "Labby Inc, an early-stage startup specializing in AI-enabled optical sensing solutions for raw milk testing, today announced it has raised $480,000 in seed funding. AgriTech Capital, a strategy and investment firm specializing in innovation and technology in the agribusiness sector.\n",
    "\n",
    "\n",
    "\n",
    "The global dairy farming industry loses $32 billion annually due to mastitis infections. At a minimum, twenty-five percent of cows each year are impacted regardless of how well managed a farm is. Farmers lack a way to quickly and easily identify mastitis at an early stage so they can take preventative measures to reduce the impact on yields.  With Labby’s solution, farmers and dairy processors finally have a way to quickly and easily test raw milk gaining visibility into animal health, milk quality, and feed efficiency, enabling them to optimize their operations.\n",
    "\n",
    "[1]: https://www.bilibili.com/video/av21295743/\n",
    "[2]: https://www.labbyinc.com/labbys-ai-enabled-optical-sensing-technology-secures-usd-480-000-seed-investment"
   ]
  }
 ],
 "metadata": {
  "language_info": {
   "name": "python"
  }
 },
 "nbformat": 4,
 "nbformat_minor": 5
}