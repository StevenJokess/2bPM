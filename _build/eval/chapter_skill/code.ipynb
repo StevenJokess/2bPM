{
 "cells": [
  {
   "cell_type": "markdown",
   "id": "indonesian-orleans",
   "metadata": {},
   "source": [
    "# code\n",
    "\n",
    "http://oj.acmcoder.com/ExamNotice.html\n",
    "\n",
    "## Paste\n",
    "\n",
    "![Paste](../img/MD_Paste.png)"
   ]
  }
 ],
 "metadata": {
  "language_info": {
   "name": "python"
  }
 },
 "nbformat": 4,
 "nbformat_minor": 5
}