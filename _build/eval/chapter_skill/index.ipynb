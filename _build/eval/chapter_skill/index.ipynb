{
 "cells": [
  {
   "cell_type": "markdown",
   "id": "corrected-wireless",
   "metadata": {},
   "source": [
    "# skill\n",
    ":label:`chap_skill`"
   ]
  },
  {
   "cell_type": "markdown",
   "id": "destroyed-routine",
   "metadata": {},
   "source": [
    "```toc\n",
    ":maxdepth: 2\n",
    "\n",
    "BRD\n",
    "MRD\n",
    "PRD\n",
    "users_analysis\n",
    "industry_analysis\n",
    "compete_analysis\n",
    "goods_analysis\n",
    "need_order\n",
    "prototype_design\n",
    "TFD\n",
    "resource_manage\n",
    "research\n",
    "Valuation\n",
    "```\n"
   ]
  }
 ],
 "metadata": {
  "language_info": {
   "name": "python"
  }
 },
 "nbformat": 4,
 "nbformat_minor": 5
}