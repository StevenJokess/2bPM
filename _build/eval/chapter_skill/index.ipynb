{
 "cells": [
  {
   "cell_type": "markdown",
   "id": "adolescent-timer",
   "metadata": {},
   "source": [
    "# skill\n",
    ":label:`chap_skill`"
   ]
  },
  {
   "cell_type": "markdown",
   "id": "animated-layer",
   "metadata": {},
   "source": [
    "```toc\n",
    ":maxdepth: 2\n",
    "\n",
    "7steps\n",
    "BRD\n",
    "users_analysis\n",
    "industry_analysis\n",
    "compete_analysis\n",
    "goods_analysis\n",
    "MRD\n",
    "PRD\n",
    "prototype_design\n",
    "priority\n",
    "upgrade_manage\n",
    "flow_chart\n",
    "TFD\n",
    "resource_manage\n",
    "data_analysis\n",
    "project_manage\n",
    "research\n",
    "Valuation\n",
    "price\n",
    "\n",
    "```\n"
   ]
  }
 ],
 "metadata": {
  "language_info": {
   "name": "python"
  }
 },
 "nbformat": 4,
 "nbformat_minor": 5
}