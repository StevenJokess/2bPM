{
 "cells": [
  {
   "cell_type": "markdown",
   "id": "bright-discussion",
   "metadata": {},
   "source": [
    "# skill\n",
    ":label:`chap_skill`"
   ]
  },
  {
   "cell_type": "markdown",
   "id": "conscious-pizza",
   "metadata": {},
   "source": [
    "```toc\n",
    ":maxdepth: 2\n",
    "\n",
    "steps\n",
    "BRD\n",
    "users_analysis\n",
    "priority\n",
    "industry_analysis\n",
    "experience_report\n",
    "compete_analysis\n",
    "goods_analysis\n",
    "MRD\n",
    "PRD\n",
    "prototype_design\n",
    "flow_chart\n",
    "static_page\n",
    "MVP\n",
    "collaborate\n",
    "upgrade_manage\n",
    "resource_manage\n",
    "data_analysis\n",
    "project_manage\n",
    "tools\n",
    "research\n",
    "Valuation\n",
    "price\n",
    "more_users\n",
    "```\n"
   ]
  }
 ],
 "metadata": {
  "language_info": {
   "name": "python"
  }
 },
 "nbformat": 4,
 "nbformat_minor": 5
}