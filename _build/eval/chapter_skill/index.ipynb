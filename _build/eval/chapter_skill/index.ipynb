{
 "cells": [
  {
   "cell_type": "markdown",
   "id": "handled-settlement",
   "metadata": {},
   "source": [
    "# skill\n",
    ":label:`chap_skill`"
   ]
  },
  {
   "cell_type": "markdown",
   "id": "changed-anniversary",
   "metadata": {},
   "source": [
    "```toc\n",
    ":maxdepth: 2\n",
    "\n",
    "BRD\n",
    "MRD\n",
    "PRD\n",
    "users_analsis\n",
    "compete_analysis\n",
    "goods_analysis\n",
    "prototype_design\n",
    "research\n",
    "\n",
    "```\n"
   ]
  }
 ],
 "metadata": {
  "language_info": {
   "name": "python"
  }
 },
 "nbformat": 4,
 "nbformat_minor": 5
}