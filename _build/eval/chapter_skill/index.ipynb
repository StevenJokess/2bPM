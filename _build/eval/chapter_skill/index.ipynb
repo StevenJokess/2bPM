{
 "cells": [
  {
   "cell_type": "markdown",
   "id": "incorporate-giving",
   "metadata": {},
   "source": [
    "# skill\n",
    ":label:`chap_skill`"
   ]
  },
  {
   "cell_type": "markdown",
   "id": "floppy-church",
   "metadata": {},
   "source": [
    "```toc\n",
    ":maxdepth: 2\n",
    "\n",
    "7steps\n",
    "BRD\n",
    "users_analysis\n",
    "industry_analysis\n",
    "compete_analysis\n",
    "goods_analysis\n",
    "MRD\n",
    "PRD\n",
    "flow_chart\n",
    "priority\n",
    "need_order\n",
    "prototype_design\n",
    "TFD\n",
    "resource_manage\n",
    "data_analysis\n",
    "research\n",
    "Valuation\n",
    "price\n",
    "```\n"
   ]
  }
 ],
 "metadata": {
  "language_info": {
   "name": "python"
  }
 },
 "nbformat": 4,
 "nbformat_minor": 5
}