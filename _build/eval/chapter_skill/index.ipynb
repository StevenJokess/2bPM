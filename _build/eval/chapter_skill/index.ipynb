{
 "cells": [
  {
   "cell_type": "markdown",
   "id": "ahead-corps",
   "metadata": {},
   "source": [
    "# skill\n",
    ":label:`chap_skill`"
   ]
  },
  {
   "cell_type": "markdown",
   "id": "statistical-salad",
   "metadata": {},
   "source": [
    "```toc\n",
    ":maxdepth: 2\n",
    "\n",
    "BRD\n",
    "users_analysis\n",
    "industry_analysis\n",
    "compete_analysis\n",
    "goods_analysis\n",
    "MRD\n",
    "PRD\n",
    "flow_chart\n",
    "priority\n",
    "need_order\n",
    "prototype_design\n",
    "TFD\n",
    "resource_manage\n",
    "data_analysis\n",
    "research\n",
    "Valuation\n",
    "```\n"
   ]
  }
 ],
 "metadata": {
  "language_info": {
   "name": "python"
  }
 },
 "nbformat": 4,
 "nbformat_minor": 5
}