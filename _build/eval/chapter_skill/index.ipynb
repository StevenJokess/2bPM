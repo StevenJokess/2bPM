{
 "cells": [
  {
   "cell_type": "markdown",
   "id": "administrative-belgium",
   "metadata": {},
   "source": [
    "# skill\n",
    ":label:`chap_skill`"
   ]
  },
  {
   "cell_type": "markdown",
   "id": "martial-gauge",
   "metadata": {},
   "source": [
    "```toc\n",
    ":maxdepth: 2\n",
    "\n",
    "steps\n",
    "BRD\n",
    "users_analysis\n",
    "need_analysis\n",
    "industry_analysis\n",
    "experience_report\n",
    "goods_analysis\n",
    "compete_analysis\n",
    "MRD\n",
    "PRD\n",
    "prototype_design\n",
    "flow_chart\n",
    "static_page\n",
    "MVP\n",
    "collaborate\n",
    "upgrade_manage\n",
    "resource_manage\n",
    "data_analysis\n",
    "project_manage\n",
    "tools\n",
    "research\n",
    "Valuation\n",
    "price\n",
    "more_users\n",
    "```\n"
   ]
  }
 ],
 "metadata": {
  "language_info": {
   "name": "python"
  }
 },
 "nbformat": 4,
 "nbformat_minor": 5
}