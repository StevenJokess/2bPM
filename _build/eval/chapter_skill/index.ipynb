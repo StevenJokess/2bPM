{
 "cells": [
  {
   "cell_type": "markdown",
   "id": "nutritional-laundry",
   "metadata": {},
   "source": [
    "# skill\n",
    ":label:`chap_skill`"
   ]
  },
  {
   "cell_type": "markdown",
   "id": "continuous-scanner",
   "metadata": {},
   "source": [
    "```toc\n",
    ":maxdepth: 2\n",
    "\n",
    "7steps\n",
    "BRD\n",
    "users_analysis\n",
    "priority\n",
    "industry_analysis\n",
    "experience_report\n",
    "compete_analysis\n",
    "goods_analysis\n",
    "MRD\n",
    "PRD\n",
    "flow_chart\n",
    "static_page\n",
    "prototype_design\n",
    "collaborate\n",
    "upgrade_manage\n",
    "TFD\n",
    "resource_manage\n",
    "data_analysis\n",
    "project_manage\n",
    "tools\n",
    "research\n",
    "Valuation\n",
    "price\n",
    "more_users\n",
    "```\n"
   ]
  }
 ],
 "metadata": {
  "language_info": {
   "name": "python"
  }
 },
 "nbformat": 4,
 "nbformat_minor": 5
}