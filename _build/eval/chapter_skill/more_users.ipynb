{
 "cells": [
  {
   "cell_type": "markdown",
   "id": "outstanding-begin",
   "metadata": {},
   "source": [
    "# 推广产品\n",
    "\n",
    "##\n",
    "\n",
    "[1]: https://weread.qq.com/web/reader/46532b707210fc4f465d044k98f3284021498f137082c2e\n",
    "宣传和介绍产品\n",
    "\n",
    "随时监控市场变化、用户需求变化，不断迭代产品。\n",
    "\n",
    "与市场营销、产品运营等各部门协作，让更多的人使用产品，获得更多反馈意见，不断迭代产品，以便适应更长期的发展。"
   ]
  }
 ],
 "metadata": {
  "language_info": {
   "name": "python"
  }
 },
 "nbformat": 4,
 "nbformat_minor": 5
}