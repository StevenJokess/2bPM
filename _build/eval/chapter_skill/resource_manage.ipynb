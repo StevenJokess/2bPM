{
 "cells": [
  {
   "cell_type": "markdown",
   "id": "wanted-lightning",
   "metadata": {},
   "source": [
    "# 资源管理\n",
    "\n",
    "资源管理（数据集、算法模型、策略、软硬件资源、需求管理）"
   ]
  }
 ],
 "metadata": {
  "language_info": {
   "name": "python"
  }
 },
 "nbformat": 4,
 "nbformat_minor": 5
}