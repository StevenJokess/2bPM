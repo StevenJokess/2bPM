{
 "cells": [
  {
   "cell_type": "markdown",
   "id": "gentle-ferry",
   "metadata": {},
   "source": [
    "# 静态页面\n",
    "\n",
    "导航信息、组件元素、页面布局-栅格系统、文案信息、重要备注 [1]\n",
    "\n",
    "[1]: https://www.yinxiang.com/everhub/note/f9ab87ee-73e6-4241-9428-9507cbfd007f"
   ]
  }
 ],
 "metadata": {
  "language_info": {
   "name": "python"
  }
 },
 "nbformat": 4,
 "nbformat_minor": 5
}