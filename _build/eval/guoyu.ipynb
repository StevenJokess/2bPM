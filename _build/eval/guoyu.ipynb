{
 "cells": [
  {
   "cell_type": "markdown",
   "id": "suited-release",
   "metadata": {},
   "source": [
    "<!--\n",
    " * @version:\n",
    " * @Author:  StevenJokess https://github.com/StevenJokess\n",
    " * @Date: 2020-12-20 21:50:33\n",
    " * @LastEditors:  StevenJokess https://github.com/StevenJokess\n",
    " * @LastEditTime: 2020-12-20 21:51:18\n",
    " * @Description:\n",
    " * @TODO::\n",
    " * @Reference:https://www.zhihu.com/question/375888332\n",
    "-->\n",
    "当时郭宇由于还是实习，每个月工资1500，住的还是支付宝安排的酒店，夜深后，各回各的酒店。\n",
    "\n",
    "郭宇告诉我「程序员毕业工资有8000到1万」，当时我心里算了一笔账，如果我从事自己的专业（管理），以后去了对标的普通企业，一般应届生工资5000到8000，哪怕我延期毕业一年，只要工作一年，工资水平就打平了，14年我入职猎豹的时候，工资11K，倒也嘚瑟了一阵。"
   ]
  }
 ],
 "metadata": {
  "language_info": {
   "name": "python"
  }
 },
 "nbformat": 4,
 "nbformat_minor": 5
}