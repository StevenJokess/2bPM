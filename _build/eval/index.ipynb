{
 "cells": [
  {
   "cell_type": "markdown",
   "id": "sealed-machine",
   "metadata": {},
   "source": [
    "# To be AI PM\n",
    "\n",
    "专注成为AI+金融/健身 全栈产品经理，我能求职成功吗？？？\n",
    "\n",
    "## AI产品经理专业体系 [1]\n",
    "\n",
    "将网络上杂乱的内容进行有效整理，用逻辑（大-》小、前后顺序）搭建自己的AI产品经理专业体系\n",
    "\n",
    "好处：\n",
    "\n",
    "- 有目的方向的去扩充我的专业库，积累我的经验。\n",
    "- 非常多的信息总结和跟踪，提高我二次工作的效率性。\n",
    "- 我的积累形成系统化，随时能快速找出信息。\n",
    "\n",
    "## 用技能分工代替职业分工 [2]\n",
    "\n",
    "要每一个项目都组建一支产品、交互、设计、前端、后台、运营的团队肯定是不现实。我的想法就是团队的每个人经可能多的学习技能，走全栈型路线。在王者里面每个英雄可以带三个技能，如果有人能带五个技能，基本上可以一个顶两个用了。产品、交互还有运营基本上可以**合并为一个人**来统筹负责，技术部分用跨平台的解决方案简化为一到两个人来负责。这样**大幅简化了人员的沟通成本**，缩减了项目切换过程中所需要的冷却值。而且从市场的反馈到产品的迭代更新间的反射弧更加的快速。\n",
    "\n",
    "\n",
    "## 常用\n",
    "\n",
    "### 标签\n",
    "\n",
    ":lable:\n",
    ":ref:"
   ]
  },
  {
   "cell_type": "markdown",
   "id": "valuable-batch",
   "metadata": {},
   "source": [
    "````toc\n",
    ":maxdepth: 1\n",
    "\n",
    "get_started\n",
    "````\n"
   ]
  },
  {
   "cell_type": "markdown",
   "id": "human-filling",
   "metadata": {},
   "source": [
    "```toc\n",
    ":maxdepth: 2\n",
    ":numbered:\n",
    "\n",
    "chapter_introduction/index\n",
    "chapter_idea/index\n",
    "chapter_skill/index\n",
    "chapter_experience/index\n",
    "chapter_project/index\n",
    "chapter_interview/index\n",
    "chapter_dive/index\n",
    "\n",
    "```\n"
   ]
  },
  {
   "cell_type": "markdown",
   "id": "bridal-transition",
   "metadata": {},
   "source": [
    "[1]: http://www.woshipm.com/zhichang/3945751.html\n",
    "[2]: http://dyin.tech/"
   ]
  }
 ],
 "metadata": {
  "language_info": {
   "name": "python"
  }
 },
 "nbformat": 4,
 "nbformat_minor": 5
}