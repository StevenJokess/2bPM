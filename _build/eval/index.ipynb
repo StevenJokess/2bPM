{
 "cells": [
  {
   "cell_type": "markdown",
   "id": "public-niagara",
   "metadata": {},
   "source": [
    "# To be AI PM\n",
    "\n",
    "专注成为AI+金融+健身产品经理，我能求职成功吗？？？"
   ]
  },
  {
   "cell_type": "markdown",
   "id": "detailed-prerequisite",
   "metadata": {},
   "source": [
    "````toc\n",
    ":maxdepth: 1\n",
    "\n",
    "get_started\n",
    "````\n"
   ]
  },
  {
   "cell_type": "markdown",
   "id": "smart-calvin",
   "metadata": {},
   "source": [
    "```toc\n",
    ":maxdepth: 2\n",
    ":numbered:\n",
    "\n",
    "chapter_introduction/index\n",
    "chapter_idea/index\n",
    "chapter_skill/index\n",
    "chapter_experience/index\n",
    "chapter_project/index\n",
    "chapter_interview/index\n",
    "chapter_dive/index\n",
    "\n",
    "```\n"
   ]
  }
 ],
 "metadata": {
  "language_info": {
   "name": "python"
  }
 },
 "nbformat": 4,
 "nbformat_minor": 5
}