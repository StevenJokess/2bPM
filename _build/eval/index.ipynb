{
 "cells": [
  {
   "cell_type": "markdown",
   "id": "thermal-night",
   "metadata": {},
   "source": [
    "# To be AI PM\n",
    "\n",
    "专注成为AI+金融+健身产品经理，我能求职成功吗？？？\n",
    "\n",
    "## AI产品经理专业体系 [2]\n",
    "\n",
    "将网络上杂乱的内容进行有效整理，搭建自己的AI产品经理专业体系\n",
    "\n",
    "好处：\n",
    "\n",
    "- 有目的方向的去扩充我的专业库，积累我的经验。\n",
    "- 非常多的信息总结和跟踪，提高我二次工作的效率性。\n",
    "- 我的积累形成系统化，随时能快速找出信息。\n",
    "\n",
    "## 常用\n",
    "\n",
    "### 标签\n",
    "\n",
    ":lable:\n",
    ":ref:"
   ]
  },
  {
   "cell_type": "markdown",
   "id": "incorporate-tension",
   "metadata": {},
   "source": [
    "````toc\n",
    ":maxdepth: 1\n",
    "\n",
    "get_started\n",
    "````\n"
   ]
  },
  {
   "cell_type": "markdown",
   "id": "portable-breathing",
   "metadata": {},
   "source": [
    "```toc\n",
    ":maxdepth: 2\n",
    ":numbered:\n",
    "\n",
    "chapter_introduction/index\n",
    "chapter_idea/index\n",
    "chapter_skill/index\n",
    "chapter_experience/index\n",
    "chapter_project/index\n",
    "chapter_interview/index\n",
    "chapter_dive/index\n",
    "\n",
    "```\n"
   ]
  },
  {
   "cell_type": "markdown",
   "id": "public-portland",
   "metadata": {},
   "source": [
    "[1]: http://www.woshipm.com/zhichang/3945751.html"
   ]
  }
 ],
 "metadata": {
  "language_info": {
   "name": "python"
  }
 },
 "nbformat": 4,
 "nbformat_minor": 5
}