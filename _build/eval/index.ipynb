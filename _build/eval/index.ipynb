{
 "cells": [
  {
   "cell_type": "markdown",
   "id": "forward-feeling",
   "metadata": {},
   "source": [
    "# To be AI PM\n",
    "\n",
    "专注成为AI产品经理"
   ]
  },
  {
   "cell_type": "markdown",
   "id": "narrative-number",
   "metadata": {},
   "source": [
    "````toc\n",
    ":maxdepth: 1\n",
    "\n",
    "get_started\n",
    "````\n"
   ]
  },
  {
   "cell_type": "markdown",
   "id": "stable-contract",
   "metadata": {},
   "source": [
    "```toc\n",
    ":maxdepth: 2\n",
    ":numbered:\n",
    "\n",
    "chapter_introduction/index\n",
    "chapter_skill/index\n",
    "chapter_experience/index\n",
    "chapter_project/index\n",
    "chapter_interview/index\n",
    "\n",
    "```\n"
   ]
  }
 ],
 "metadata": {
  "language_info": {
   "name": "python"
  }
 },
 "nbformat": 4,
 "nbformat_minor": 5
}