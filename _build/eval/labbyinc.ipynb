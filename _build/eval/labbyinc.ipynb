{
 "cells": [
  {
   "cell_type": "markdown",
   "id": "measured-bermuda",
   "metadata": {},
   "source": [
    "<!--\n",
    " * @version:\n",
    " * @Author:  StevenJokess https://github.com/StevenJokess\n",
    " * @Date: 2020-11-27 21:26:40\n",
    " * @LastEditors:  StevenJokess https://github.com/StevenJokess\n",
    " * @LastEditTime: 2020-11-27 21:31:17\n",
    " * @Description:\n",
    " * @TODO::\n",
    " * @Reference:https://www.labbyinc.com/labbys-ai-enabled-optical-sensing-technology-secures-usd-480-000-seed-investment\n",
    "-->\n",
    "Labby Inc, an early-stage startup specializing in AI-enabled optical sensing solutions for raw milk testing, today announced it has raised $480,000 in seed funding. AgriTech Capital, a strategy and investment firm specializing in innovation and technology in the agribusiness sector.\n",
    "\n",
    "\n",
    "\n",
    "The global dairy farming industry loses $32 billion annually due to mastitis infections. At a minimum, twenty-five percent of cows each year are impacted regardless of how well managed a farm is. Farmers lack a way to quickly and easily identify mastitis at an early stage so they can take preventative measures to reduce the impact on yields.  With Labby’s solution, farmers and dairy processors finally have a way to quickly and easily test raw milk gaining visibility into animal health, milk quality, and feed efficiency, enabling them to optimize their operations."
   ]
  }
 ],
 "metadata": {
  "language_info": {
   "name": "python"
  }
 },
 "nbformat": 4,
 "nbformat_minor": 5
}