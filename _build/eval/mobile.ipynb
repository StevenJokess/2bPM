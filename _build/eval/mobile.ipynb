{
 "cells": [
  {
   "cell_type": "markdown",
   "id": "worthy-assistant",
   "metadata": {},
   "source": [
    "<!--\n",
    " * @version:\n",
    " * @Author:  StevenJokess https://github.com/StevenJokess\n",
    " * @Date: 2020-12-13 23:45:40\n",
    " * @LastEditors:  StevenJokess https://github.com/StevenJokess\n",
    " * @LastEditTime: 2020-12-13 23:45:40\n",
    " * @Description:\n",
    " * @TODO::\n",
    " * @Reference:算法岗诸神黄昏，算法初级职位内卷，如何选择适合自己的方向? - 圆胖肿的回答 - 知乎\n",
    "https://www.zhihu.com/question/343743405/answer/863275894\n",
    "-->\n",
    "移动的gui技术，可以将其转变成游戏引擎的超集，flutter的120fps正好能够解决这个问题，那么后续就是将软件产品化，如果市场反应好的话，我们就扩大生产\n",
    "\n",
    "然后我们也发现移动端对于vert.x等后端上手比较快，所以可以进一步将移动端人才全栈化，从而进一步压缩成本，但是这个压缩成本从另外一个角度看，自然就是web前后端的岗位会减少，因为我们能全栈了，为什么还需要去额外增加岗位呢？"
   ]
  }
 ],
 "metadata": {
  "language_info": {
   "name": "python"
  }
 },
 "nbformat": 4,
 "nbformat_minor": 5
}