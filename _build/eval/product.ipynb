{
 "cells": [
  {
   "cell_type": "markdown",
   "id": "resistant-chase",
   "metadata": {},
   "source": [
    "<!--\n",
    " * @version:\n",
    " * @Author:  StevenJokess https://github.com/StevenJokess\n",
    " * @Date: 2020-12-31 16:28:27\n",
    " * @LastEditors:  StevenJokess https://github.com/StevenJokess\n",
    " * @LastEditTime: 2020-12-31 16:29:12\n",
    " * @Description:\n",
    " * @TODO::\n",
    " * @Reference:https://www.yuque.com/u284316/mesmph/uuuuu#LsKnF\n",
    "-->\n",
    "\n",
    "https://github.com/kemingzeng/BossSensor"
   ]
  }
 ],
 "metadata": {
  "language_info": {
   "name": "python"
  }
 },
 "nbformat": 4,
 "nbformat_minor": 5
}