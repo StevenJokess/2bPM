{
 "cells": [
  {
   "cell_type": "markdown",
   "id": "original-remains",
   "metadata": {},
   "source": [
    "<!--\n",
    " * @version:\n",
    " * @Author:  StevenJokess https://github.com/StevenJokess\n",
    " * @Date: 2020-12-08 16:54:53\n",
    " * @LastEditors:  StevenJokess https://github.com/StevenJokess\n",
    " * @LastEditTime: 2020-12-08 17:17:34\n",
    " * @Description:\n",
    " * @TODO::\n",
    " * @Reference:https://www.leiphone.com/news/202012/59rZRbxqdZrCGAPm.html\n",
    "-->\n",
    "\n",
    "新基建国策颁布后，各大省市陆续公布其首批千亿级的新基建项目投资规划：\n",
    "\n",
    "5月，上海，2700亿\n",
    "\n",
    "6月，广州，3700亿\n",
    "\n",
    "7月，深圳，4119亿\n",
    "\n",
    "……\n",
    "\n",
    "而以BATJH为代表的科技巨头，随之发起总额超过10000亿的投资计划。\n",
    "\n",
    "在15大行业的1000多个报名公司当中，我们经过四个月的调研和访谈，最终，89家新基建领航企业，及其新基建标杆项目，成功入选「2020最佳AI新基建年度榜」。"
   ]
  }
 ],
 "metadata": {
  "language_info": {
   "name": "python"
  }
 },
 "nbformat": 4,
 "nbformat_minor": 5
}