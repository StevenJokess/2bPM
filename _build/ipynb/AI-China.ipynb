{
 "cells": [
  {
   "cell_type": "markdown",
   "id": "sunrise-visibility",
   "metadata": {},
   "source": [
    "<!--\n",
    " * @version:\n",
    " * @Author:  StevenJokess https://github.com/StevenJokess\n",
    " * @Date: 2020-12-16 13:35:17\n",
    " * @LastEditors:  StevenJokess https://github.com/StevenJokess\n",
    " * @LastEditTime: 2020-12-22 13:55:02\n",
    " * @Description:\n",
    " * @TODO::\n",
    " * @Reference:https://github.com/zackchase/mxnet-the-straight-dope\n",
    "-->\n",
    "https://www.aminer.cn/ai2000/country/China\n",
    "\n",
    "Anarchist - Choose whatever you want to read, whenever you want to read it.\n",
    "Imperialist - Proceed through all tutorials in order. In this fashion you will be exposed to each model first from scratch, writing all the code ourselves but for the basic linear algebra primitives and automatic differentiation.\n",
    "Capitalist - If you don't care how things work (or already know) and just want to see working code in gluon, you can skip (from scratch!) tutorials and go straight to the production-like code using the high-level gluon front end."
   ]
  }
 ],
 "metadata": {
  "language_info": {
   "name": "python"
  }
 },
 "nbformat": 4,
 "nbformat_minor": 5
}