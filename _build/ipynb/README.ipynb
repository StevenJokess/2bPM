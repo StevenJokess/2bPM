{
 "cells": [
  {
   "cell_type": "markdown",
   "id": "comic-proceeding",
   "metadata": {},
   "source": [
    "# 2bPM\n",
    "\n",
    "学习如何成为AI产品经理并总结生成书\n",
    "\n",
    "https://stevenjokess.github.io/2bPM/\n",
    "\n",
    "## Docker里d2lbook2生成书\n",
    "\n",
    "\n",
    "docker run --rm --name 2bPM -e HTTP_PROXY=127.0.0.1:1080 -ditv /d/onedrive/Documents/read/2bPM:/d2lbook2/2bPM registry.cn-shanghai.aliyuncs.com/csq-dl/d2l-book2:github  /bin/bash;docker exec -it 2bPM /bin/bash\n",
    "\n",
    "cd 2bPM\n",
    "d2lbook2 build html\n",
    "d2lbook2 deploy html\n",
    "\n",
    "## 声明\n",
    "\n",
    "全部只作为自我求职路上的学习成果展示，如果侵权请联系。\n",
    "不为抄袭而自豪，只是如果不知道历史，我们的原创都是浅薄、无意义的。\n",
    "\n",
    "TODO"
   ]
  }
 ],
 "metadata": {
  "language_info": {
   "name": "python"
  }
 },
 "nbformat": 4,
 "nbformat_minor": 5
}