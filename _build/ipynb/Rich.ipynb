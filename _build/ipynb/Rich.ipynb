{
 "cells": [
  {
   "cell_type": "markdown",
   "id": "olive-polyester",
   "metadata": {},
   "source": [
    "<!--\n",
    " * @version:\n",
    " * @Author:  StevenJokess https://github.com/StevenJokess\n",
    " * @Date: 2020-12-18 16:33:14\n",
    " * @LastEditors:  StevenJokess https://github.com/StevenJokess\n",
    " * @LastEditTime: 2020-12-18 16:33:35\n",
    " * @Description:\n",
    " * @TODO::\n",
    " * @Reference:\n",
    "-->\n",
    "http://www.hurun.net/CN/Article/Details?num=BC99B6E209E9\n",
    "\n",
    "35岁的马克·扎克伯格财富增长500亿人民币，以5,900亿连续第五年成为全球80后白手起家首富\n",
    "\n",
    "\n",
    "\n",
    "前三名两个中国人：拼多多40岁的黄峥财富增长20%，以1,260亿元排名第二；抖音创始人37岁的张一鸣以970亿元排名上升一位至第三"
   ]
  }
 ],
 "metadata": {
  "language_info": {
   "name": "python"
  }
 },
 "nbformat": 4,
 "nbformat_minor": 5
}