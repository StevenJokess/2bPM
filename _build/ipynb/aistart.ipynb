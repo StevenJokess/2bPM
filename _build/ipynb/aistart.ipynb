{
 "cells": [
  {
   "cell_type": "markdown",
   "id": "velvet-boutique",
   "metadata": {},
   "source": [
    "<!--\n",
    " * @version:\n",
    " * @Author:  StevenJokess https://github.com/StevenJokess\n",
    " * @Date: 2020-12-07 18:15:00\n",
    " * @LastEditors:  StevenJokess https://github.com/StevenJokess\n",
    " * @LastEditTime: 2020-12-07 18:17:27\n",
    " * @Description:\n",
    " * @TODO::\n",
    " * @Reference:https://github.com/lipiji/AIStartups\n",
    "-->"
   ]
  }
 ],
 "metadata": {
  "language_info": {
   "name": "python"
  }
 },
 "nbformat": 4,
 "nbformat_minor": 5
}