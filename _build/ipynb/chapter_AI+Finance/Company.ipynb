{
 "cells": [
  {
   "cell_type": "markdown",
   "id": "39caf078",
   "metadata": {},
   "source": [
    "# 公司\n",
    "\n",
    "央妈和监管机构告诉最大的那些金融科技公司，以后只可以做支付业务，其他金融服务🚫[^1]\n",
    "\n",
    "## 天星术科\n",
    "\n",
    "https://airstar.com/about\n",
    "\n",
    "[^1]: https://t.bilibili.com/521320437445705022?tab=2"
   ]
  }
 ],
 "metadata": {
  "language_info": {
   "name": "python"
  }
 },
 "nbformat": 4,
 "nbformat_minor": 5
}