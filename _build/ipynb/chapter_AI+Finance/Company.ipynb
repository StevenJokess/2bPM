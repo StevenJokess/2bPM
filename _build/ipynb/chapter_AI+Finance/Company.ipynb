{
 "cells": [
  {
   "cell_type": "markdown",
   "metadata": {},
   "source": [
    "# 天星术科\n",
    "\n",
    "https://airstar.com/about"
   ]
  }
 ],
 "metadata": {
  "language_info": {
   "name": "python"
  }
 },
 "nbformat": 4,
 "nbformat_minor": 4
}