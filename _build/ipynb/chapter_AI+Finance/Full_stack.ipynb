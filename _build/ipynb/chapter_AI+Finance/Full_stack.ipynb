{
 "cells": [
  {
   "cell_type": "markdown",
   "id": "interstate-nursery",
   "metadata": {},
   "source": [
    "# 全栈金融\n",
    "\n",
    "https://www.jianshu.com/p/6c3888c2e846"
   ]
  }
 ],
 "metadata": {
  "language_info": {
   "name": "python"
  }
 },
 "nbformat": 4,
 "nbformat_minor": 5
}