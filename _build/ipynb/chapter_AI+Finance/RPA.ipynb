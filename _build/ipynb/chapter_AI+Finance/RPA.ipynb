{
 "cells": [
  {
   "cell_type": "markdown",
   "id": "convenient-gravity",
   "metadata": {},
   "source": [
    "# RPA\n",
    "\n",
    "http://www.rpa-cn.com/zuixinzixun/AIshijiao/\n",
    "\n",
    "[1]: http://www.rpa-cn.com/zuixinzixun/AIshijiao/"
   ]
  }
 ],
 "metadata": {
  "language_info": {
   "name": "python"
  }
 },
 "nbformat": 4,
 "nbformat_minor": 5
}