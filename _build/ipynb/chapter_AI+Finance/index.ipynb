{
 "cells": [
  {
   "cell_type": "markdown",
   "metadata": {},
   "source": [
    "# AI金融\n",
    ":label:`chap_dive`\n",
    "​\n",
    "![AI金融[1]](../img/AI+Finance.png)"
   ]
  },
  {
   "cell_type": "markdown",
   "metadata": {},
   "source": [
    ":begin_tab:toc\n",
    " - [FinTech](FinTech.ipynb)\n",
    " - [Robo-Advisor](Robo-Advisor.ipynb)\n",
    " - [AI_Investment_Research](AI_Investment_Research.ipynb)\n",
    " - [AI_Risk_Management](AI_Risk_Management.ipynb)\n",
    " - [Full_stack](Full_stack.ipynb)\n",
    " - [RPA](RPA.ipynb)\n",
    ":end_tab:\n"
   ]
  },
  {
   "cell_type": "markdown",
   "metadata": {},
   "source": [
    "[1]: https://www.iimedia.cn/c1020/77214.html"
   ]
  }
 ],
 "metadata": {
  "language_info": {
   "name": "python"
  }
 },
 "nbformat": 4,
 "nbformat_minor": 4
}