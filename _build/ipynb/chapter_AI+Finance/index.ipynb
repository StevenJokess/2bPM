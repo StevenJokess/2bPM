{
 "cells": [
  {
   "cell_type": "markdown",
   "id": "small-heading",
   "metadata": {},
   "source": [
    "# AI金融\n",
    ":label:`chap_dive`\n",
    "​"
   ]
  },
  {
   "cell_type": "markdown",
   "id": "italic-wednesday",
   "metadata": {},
   "source": [
    ":begin_tab:toc\n",
    " - [FinTech](FinTech.ipynb)\n",
    " - [Robo-Advisor](Robo-Advisor.ipynb)\n",
    " - [AI_Investment_Research](AI_Investment_Research.ipynb)\n",
    " - [AI_Risk_Management](AI_Risk_Management.ipynb)\n",
    " - [Full_stack](Full_stack.ipynb)\n",
    ":end_tab:\n"
   ]
  }
 ],
 "metadata": {
  "language_info": {
   "name": "python"
  }
 },
 "nbformat": 4,
 "nbformat_minor": 5
}