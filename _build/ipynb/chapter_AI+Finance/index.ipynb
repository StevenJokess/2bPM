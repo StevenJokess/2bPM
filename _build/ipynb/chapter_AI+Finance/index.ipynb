{
 "cells": [
  {
   "cell_type": "markdown",
   "metadata": {},
   "source": [
    "# AI金融\n",
    ":label:`chap_dive`\n",
    "​\n",
    "![AI金融[1]](../img/AI+Finance.png)"
   ]
  },
  {
   "cell_type": "markdown",
   "metadata": {},
   "source": [
    ":begin_tab:toc\n",
    " - [Finance](Finance.ipynb)\n",
    " - [FinTech](FinTech.ipynb)\n",
    " - [AI_Finance](AI_Finance.ipynb)\n",
    " - [Robo-Advisor](Robo-Advisor.ipynb)\n",
    " - [AI_Investment_Research](AI_Investment_Research.ipynb)\n",
    " - [AI_Risk_Management](AI_Risk_Management.ipynb)\n",
    " - [AI_customer_service](AI_customer_service.ipynb)\n",
    " - [RPA](RPA.ipynb)\n",
    " - [Full_stack](Full_stack.ipynb)\n",
    ":end_tab:\n"
   ]
  },
  {
   "cell_type": "markdown",
   "metadata": {},
   "source": [
    "[1]: https://www.iimedia.cn/c1020/77214.html"
   ]
  }
 ],
 "metadata": {
  "language_info": {
   "name": "python"
  }
 },
 "nbformat": 4,
 "nbformat_minor": 4
}