{
 "cells": [
  {
   "cell_type": "markdown",
   "metadata": {},
   "source": [
    "# 摩根大通\n",
    "\n",
    "深度剖析金融巨头科技战略——摩根大通科技转型之路篇 - 在奔四的路上的文章 - 知乎\n",
    "https://zhuanlan.zhihu.com/p/51445594"
   ]
  }
 ],
 "metadata": {
  "language_info": {
   "name": "python"
  }
 },
 "nbformat": 4,
 "nbformat_minor": 4
}