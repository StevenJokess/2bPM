{
 "cells": [
  {
   "cell_type": "markdown",
   "metadata": {},
   "source": [
    "# 公司研究\n",
    "\n",
    "在去一个公司面试的时候，你需要提前做好准备。不管是猎头联系你，还是你主动投递简历，你都要对公司的行业背景、公司的背景、创始人或者总裁的背景、公司的产品、竞争对手等信息做公开收集，以便更好地了解公司，了解这个职位。\n",
    "\n",
    "下面来说说具体要怎样收集这些信息。[1]\n",
    "\n",
    "问问自己如何改进产品，以及什么样的指标可以用来衡量这些产品的成功。通过阅读他们的官博，来了解每家公司的数据科学家所做的工作也是很有帮助的。通过这种调研，你才能在面试中进行更深入、最终效果更好的对话。 [2]\n",
    "\n",
    "[1]: https://weread.qq.com/web/reader/46532b707210fc4f465d044kc0c320a0232c0c7c76d365a\n",
    "[2]: https://www.infoq.cn/article/IPDVRNxwJVsx3ZGrgwzW"
   ]
  }
 ],
 "metadata": {
  "language_info": {
   "name": "python"
  }
 },
 "nbformat": 4,
 "nbformat_minor": 4
}