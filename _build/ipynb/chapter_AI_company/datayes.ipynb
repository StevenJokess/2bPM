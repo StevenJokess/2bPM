{
 "cells": [
  {
   "cell_type": "markdown",
   "metadata": {},
   "source": [
    "# datayes\n",
    "\n",
    "## 登录求职\n",
    "\n",
    "![](../img/datayes_bug.jpg)\n",
    "\n",
    "回车不管用\n",
    "\n",
    "手机号登录，验证码、语音验证码都收不到。。\n",
    "\n",
    "\n",
    "\n",
    "[1]: http://job.datayes.com/login?refer=http%3A%2F%2Fjob.datayes.com%2Fposition%2Fdetail%3Fchannel%3D0%26id%3D79449920%26project_id%3D"
   ]
  }
 ],
 "metadata": {
  "language_info": {
   "name": "python"
  }
 },
 "nbformat": 4,
 "nbformat_minor": 4
}