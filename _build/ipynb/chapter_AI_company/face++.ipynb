{
 "cells": [
  {
   "cell_type": "markdown",
   "metadata": {},
   "source": [
    "# 旷视\n",
    "\n",
    "https://www.faceplusplus.com.cn/face-comparing/\n",
    "\n",
    "旷视科创板IPO过会：拟募资60.18亿元，阿里系为最大股东 - 机器之心的文章 - 知乎\n",
    "https://zhuanlan.zhihu.com/p/408979612"
   ]
  }
 ],
 "metadata": {
  "language_info": {
   "name": "python"
  }
 },
 "nbformat": 4,
 "nbformat_minor": 4
}