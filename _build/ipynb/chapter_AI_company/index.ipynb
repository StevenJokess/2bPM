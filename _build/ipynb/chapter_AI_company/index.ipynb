{
 "cells": [
  {
   "cell_type": "markdown",
   "metadata": {},
   "source": [
    "# AI公司研究\n",
    ":label:`chap_company`\n",
    "​\n",
    "1天内快速了解/分析一家企业/公司 - 心中有光的文章 - 知乎\n",
    "https://zhuanlan.zhihu.com/p/369316896"
   ]
  },
  {
   "cell_type": "markdown",
   "metadata": {},
   "source": [
    ":begin_tab:toc\n",
    " - [company_research](company_research.ipynb)\n",
    " - [baidu](baidu.ipynb)\n",
    " - [alibaba](alibaba.ipynb)\n",
    " - [antgroup](antgroup.ipynb)\n",
    " - [alipay](alipay.ipynb)\n",
    " - [trustbe](trustbe.ipynb)\n",
    " - [tencent](tencent.ipynb)\n",
    " - [dm-ai](dm-ai.ipynb)\n",
    " - [jd](jd.ipynb)\n",
    " - [meituan](meituan.ipynb)\n",
    " - [xiaoice](xiaoice.ipynb)\n",
    " - [xiaomi](xiaomi.ipynb)\n",
    " - [huatai](huatai.ipynb)\n",
    " - [JPMorgan](JPMorgan.ipynb)\n",
    " - [tianyancha](tianyancha.ipynb)\n",
    " - [mrsai](mrsai.ipynb)\n",
    " - [momo](momo.ipynb)\n",
    " - [datayes](datayes.ipynb)\n",
    " - [turingbot](turingbot.ipynb)\n",
    " - [RealAI](RealAI.ipynb)\n",
    " - [yuncong](yuncong.ipynb)\n",
    " - [jinzheng](jinzheng.ipynb)\n",
    " - [tucao](tucao.ipynb)\n",
    " - [Intel](Intel.ipynb)\n",
    " - [face++](face++.ipynb)\n",
    " - [more](more.ipynb)\n",
    ":end_tab:\n"
   ]
  }
 ],
 "metadata": {
  "language_info": {
   "name": "python"
  }
 },
 "nbformat": 4,
 "nbformat_minor": 4
}