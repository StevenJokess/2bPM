{
 "cells": [
  {
   "cell_type": "markdown",
   "metadata": {},
   "source": [
    "# 英伟达\n",
    "\n",
    "![NVIDIA招聘](./img/NVIDIA_hire.jpg)\n",
    "\n",
    "https://github.com/NVIDIA-AI-IOT\n",
    "\n",
    "分享一些值的深入学习的关于AI部署的NVIDIA新技术 - OLDPAN的文章 - 知乎\n",
    "https://zhuanlan.zhihu.com/p/400077454\n",
    "\n",
    "https://developer.nvidia.com/zh-cn/blog/kings-college-london-accelerates-synthetic-brain-3d-image-creation-using-ai-models-powered-by-cambridge-1-supercomputer/\n",
    "\n",
    "666元！英伟达史上最便宜AI硬件发布：可运行所有AI模型，算力472 GFLOPS，功耗5瓦 - 量子位的文章 - 知乎\n",
    "https://zhuanlan.zhihu.com/p/59678168"
   ]
  }
 ],
 "metadata": {
  "language_info": {
   "name": "python"
  }
 },
 "nbformat": 4,
 "nbformat_minor": 4
}