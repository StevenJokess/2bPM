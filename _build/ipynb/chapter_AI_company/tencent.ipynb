{
 "cells": [
  {
   "cell_type": "markdown",
   "metadata": {},
   "source": [
    "# 腾讯\n",
    "\n",
    "https://ai.qq.com/\n",
    "\n",
    "---\n",
    "\n",
    "\n",
    "香港中文大学 (深圳) – 腾讯AI Lab机器智能联合实验室是由香港中文大学 (深圳) 和腾讯AI Lab联合成立的第一个校企联合实验室。\n",
    "\n",
    "https://tencentlab.cuhk.edu.cn/zh-hans/content/7178\n",
    "\n",
    "---\n",
    "\n",
    "艾灵 https://www.bilibili.com/video/BV19U4y157P8\n",
    "\n",
    "https://www.bilibili.com/video/BV1ef4y1Y7s4/?spm_id_from=333.788.recommend_more_video.-1"
   ]
  }
 ],
 "metadata": {
  "language_info": {
   "name": "python"
  }
 },
 "nbformat": 4,
 "nbformat_minor": 4
}