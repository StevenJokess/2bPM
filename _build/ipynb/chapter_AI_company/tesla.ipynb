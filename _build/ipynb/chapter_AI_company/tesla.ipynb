{
 "cells": [
  {
   "cell_type": "markdown",
   "metadata": {},
   "source": [
    "# tesla\n",
    "\n",
    "如何评价 8 月 20 日特斯拉举办的 AI day？活动有哪些亮点和重点产品发布？ - 知乎\n",
    "https://www.zhihu.com/question/481132976"
   ]
  }
 ],
 "metadata": {
  "language_info": {
   "name": "python"
  }
 },
 "nbformat": 4,
 "nbformat_minor": 4
}