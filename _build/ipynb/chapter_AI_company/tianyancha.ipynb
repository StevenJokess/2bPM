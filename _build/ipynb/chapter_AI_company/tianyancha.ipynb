{
 "cells": [
  {
   "cell_type": "markdown",
   "metadata": {},
   "source": [
    "# 天眼查\n",
    "\n",
    "拥有央行企业征信备案资质的商业查询工具\n",
    "\n",
    "[1]: https://www.bilibili.com/video/BV17K4y1Z7hP"
   ]
  }
 ],
 "metadata": {
  "language_info": {
   "name": "python"
  }
 },
 "nbformat": 4,
 "nbformat_minor": 4
}