{
 "cells": [
  {
   "cell_type": "markdown",
   "metadata": {},
   "source": [
    "# 吐槽\n",
    "\n",
    "\n",
    "\n",
    "\n",
    "kuwo：搜is&hers失败，前丢失就搜索失败？"
   ]
  }
 ],
 "metadata": {
  "language_info": {
   "name": "python"
  }
 },
 "nbformat": 4,
 "nbformat_minor": 4
}