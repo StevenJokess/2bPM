{
 "cells": [
  {
   "cell_type": "markdown",
   "metadata": {},
   "source": [
    "# 小爱\n",
    "\n",
    "https://developers.xiaoai.mi.com/\n",
    "\n",
    "https://space.bilibili.com/239380557?from=search&seid=5696491191200583650\n",
    "\n",
    "小爱同学VS微软小冰：https://www.bilibili.com/video/BV1fp411o7VG?from=search&seid=8658988712634105515\n",
    "\n",
    "鼠标测试：\n",
    "\n",
    "- 订机票弹出：https://www.ctrip.com/\n",
    "- 订台州到杭州的票（默认是火车票了）：https://kyfw.12306.cn/otn/leftTicket/init?linktypeid=dc&fs=%E5%8F%B0%E5%B7%9E,TZH&ts=%E6%9D%AD%E5%B7%9E,HZH&date=&flag=N,N,Y\n",
    "- 订台州到杭州的机票（默认是今天了）https://flights.ctrip.com/international/search/oneway-hyn-hgh?_=1&depdate=2021-05-12"
   ]
  }
 ],
 "metadata": {
  "language_info": {
   "name": "python"
  }
 },
 "nbformat": 4,
 "nbformat_minor": 4
}