{
 "cells": [
  {
   "cell_type": "markdown",
   "metadata": {},
   "source": [
    "# CV\n",
    "\n",
    "- https://zhuanlan.zhihu.com/p/30894935\n",
    "- https://zhuanlan.zhihu.com/p/32726495\n",
    "- https://zhuanlan.zhihu.com/p/32941534\n",
    "\n",
    "人脸、表情、动作、肢体、车辆、遥感、场景、通用物品、SLAM[^1]\n",
    "\n",
    "## 应用\n",
    "\n",
    "面相识别：跟香港的风水大师合作的算法，识别人的面相命格，比如最强艺术家呀、最强土豪之类的；还有识别财富脸、夫妻相等等。基本就是实现把线下算命大师的技能都传授给算法了--简称AI算命。\n",
    "\n",
    "人体姿态识别：属于手势识别的升级版，在video game（尤其是跳舞机类）时候判断人的动作和标准动作的一致性，不借助传感器，自动打分。\n",
    "\n",
    "小票识别：放在记账软件里面的一款算法，自动识别小票信息，节省用户手工录入的繁琐工作。\n",
    "\n",
    "脸型眼型识别：放在美妆app里面的，通过识别人的脸型&眼型，推荐合适的妆容和化妆品。[^2]\n",
    "\n",
    "腾讯推出全球首款美食AI，陈晓卿担任产品经理 - 腾讯的文章 - 知乎\n",
    "https://zhuanlan.zhihu.com/p/60992120\n",
    "\n",
    "[^1]: https://www.zhihu.com/question/53498066/answer/135228255\n",
    "[^2]: https://www.zhihu.com/question/264450162/answer/399369188"
   ]
  }
 ],
 "metadata": {
  "language_info": {
   "name": "python"
  }
 },
 "nbformat": 4,
 "nbformat_minor": 4
}