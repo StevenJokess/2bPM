{
 "cells": [
  {
   "cell_type": "markdown",
   "metadata": {},
   "source": [
    "# GAN\n",
    "\n",
    "https://atcold.github.io/pytorch-Deep-Learning/en/week09/09-3/\n",
    "\n",
    "## Generative Adversarial Networks for Text[1]\n",
    "\n",
    "\n",
    "[1]: https://www.reddit.com/r/MachineLearning/comments/40ldq6/generative_adversarial_networks_for_text/"
   ]
  }
 ],
 "metadata": {
  "language_info": {
   "name": "python"
  }
 },
 "nbformat": 4,
 "nbformat_minor": 4
}