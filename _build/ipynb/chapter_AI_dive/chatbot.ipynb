{
 "cells": [
  {
   "cell_type": "markdown",
   "metadata": {},
   "source": [
    "# 聊天机器人\n",
    "\n",
    "## NLP应用概览\n",
    "\n",
    "NLP作为人工智能的核心技术，在机器翻译、聊天机器人、语音识别等领域都有重要的应用。\n",
    "\n",
    "机器翻译的代表如科大讯飞的翻译机；聊天机器人例如微软小冰、Amazon Alexa；语音识别如各种智能音箱。\n",
    "\n",
    "## 聊天机器人系统框架\n",
    "\n",
    "一个完整聊天机器人的系统架构主要由语言识别、自然语言理解、对话管理、自然语言生成、语音合成等5个部分组成。\n",
    "\n",
    "- 自动语音识别automatic speech recognition，ASR，负责将原始的语音信号转换成文本信息。\n",
    "- 自然语言理解natural language understanding，NLU，负责将识别到的文本信息转换为机器可以理解的语义表示。\n",
    "- 对话管理dialogue management，DM，负责基于当前对话的状态判断系统应该采取怎样的动作。\n",
    "- 自然语言生成natural language generation，NLG，负责将系统动作／系统回复转变成自然语言文本。\n",
    "- 语音合成text-to-speech，TTS，负责将自然语言文本转变成语音信号输出给用户。\n",
    "\n",
    "## 形态\n",
    "\n",
    "- 硬件形态：amazon echo、公子小白。\n",
    "- 软件形态：Apple Siri、微软小冰、微软cortana、IBM watson、Google Now。\n",
    "- 平台：谷歌、微软等公司对外提供聊天机器人框架bot framework，以sdk或saas服务的方式像第三方公司或个人开发者提供可以用于构建特定应用和领域的聊天机器人。代表：amazon Alexa（服务amazon lex）、微软luis with bot（认知服务cognitive services）、谷歌api.ai、Facebook wit.ai。\n",
    "\n",
    "[1]: http://www.woshipm.com/pmd/2937210.html"
   ]
  }
 ],
 "metadata": {
  "language_info": {
   "name": "python"
  }
 },
 "nbformat": 4,
 "nbformat_minor": 4
}