{
 "cells": [
  {
   "cell_type": "markdown",
   "id": "suburban-replication",
   "metadata": {},
   "source": [
    "# 深入学习\n",
    ":label:`chap_dive`\n",
    "​"
   ]
  },
  {
   "cell_type": "markdown",
   "id": "explicit-cement",
   "metadata": {},
   "source": [
    ":begin_tab:toc\n",
    " - [zongshen](zongshen.ipynb)\n",
    " - [expert](expert.ipynb)\n",
    " - [qi_yuan](qi_yuan.ipynb)\n",
    " - [code](code.ipynb)\n",
    " - [feature_engineering](feature_engineering.ipynb)\n",
    " - [ML](ML.ipynb)\n",
    " - [MLOps](MLOps.ipynb)\n",
    " - [DL](DL.ipynb)\n",
    " - [Federated Learning](Federated Learning.ipynb)\n",
    " - [mobile](mobile.ipynb)\n",
    " - [real](real.ipynb)\n",
    " - [huidu](huidu.ipynb)\n",
    " - [AI_test](AI_test.ipynb)\n",
    " - [AI_deploy](AI_deploy.ipynb)\n",
    " - [develop](develop.ipynb)\n",
    ":end_tab:\n"
   ]
  }
 ],
 "metadata": {
  "language_info": {
   "name": "python"
  }
 },
 "nbformat": 4,
 "nbformat_minor": 5
}