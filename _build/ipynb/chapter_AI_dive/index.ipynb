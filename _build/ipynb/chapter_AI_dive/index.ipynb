{
 "cells": [
  {
   "cell_type": "markdown",
   "metadata": {},
   "source": [
    "# 深入学习AI\n",
    ":label:`chap_AI_dive`\n",
    "​"
   ]
  },
  {
   "cell_type": "markdown",
   "metadata": {},
   "source": [
    ":begin_tab:toc\n",
    " - [understand_AI](understand_AI.ipynb)\n",
    " - [AI_Research](AI_Research.ipynb)\n",
    " - [code](code.ipynb)\n",
    " - [feature_engineering](feature_engineering.ipynb)\n",
    " - [ML](ML.ipynb)\n",
    " - [MLOps](MLOps.ipynb)\n",
    " - [DL](DL.ipynb)\n",
    " - [GAN](GAN.ipynb)\n",
    " - [OCR](OCR.ipynb)\n",
    " - [NLP](NLP.ipynb)\n",
    " - [KG](KG.ipynb)\n",
    " - [Speech](Speech.ipynb)\n",
    " - [music](music.ipynb)\n",
    " - [FAQ](FAQ.ipynb)\n",
    " - [chatbot](chatbot.ipynb)\n",
    " - [Federated Learning](Federated Learning.ipynb)\n",
    " - [mobile](mobile.ipynb)\n",
    " - [cognition_AI](cognition_AI.ipynb)\n",
    " - [real](real.ipynb)\n",
    " - [AI_test](AI_test.ipynb)\n",
    " - [huidu](huidu.ipynb)\n",
    " - [AI_deploy](AI_deploy.ipynb)\n",
    " - [AI_monitor&control](AI_monitor&control.ipynb)\n",
    " - [develop](develop.ipynb)\n",
    ":end_tab:\n"
   ]
  }
 ],
 "metadata": {
  "language_info": {
   "name": "python"
  }
 },
 "nbformat": 4,
 "nbformat_minor": 4
}