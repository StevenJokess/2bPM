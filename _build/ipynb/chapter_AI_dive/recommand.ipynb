{
 "cells": [
  {
   "cell_type": "markdown",
   "metadata": {},
   "source": [
    "# 推荐系统\n",
    "\n",
    "不是让阿尔法狗下棋，也不是siri语音操控，更不是视频图像识别抓小偷，而是推荐算法最赚钱…\n",
    "\n",
    "Facebook靠feed流插入广告推荐的算法，一年赚将近一千万美元\n",
    "\n",
    "亚马逊、淘宝靠相关商品推荐，一年赚2000万美元…\n",
    "\n",
    "今日头条、抖音、快手等短视频或B站长视频平台的崛起，也都是利用内容推荐算法，让大家爱不释手、欲罢不能…\n",
    "\n",
    "上述产品统统搭建了属于自己的推荐系统，目前最赚钱的AI算法——推荐算法\n",
    "\n",
    "有效的推荐算法，要解决三个问题\n",
    "\n",
    "1. 相似主题推荐\n",
    "2. 海量标签处理\n",
    "3. 避免重复推荐\n",
    "\n",
    "相应的，为了解决实际应用场景中的上述三个问题，会有如下三个解决思路：\n",
    "\n",
    "1. 立体几何的余弦相似度\n",
    "2. Embedding向量化\n",
    "3. 预测点击率的优化策略 [^1]\n",
    "\n",
    "## 需求大\n",
    "\n",
    "从企业的需求量来看，推荐 > 搜索 >= nlp > cv，我想，题主也是想问，哪个垂直领域的工资平均水平最高，对于校招生，刚入职时没太多差别，但随着时间的发展，业务多、需求量大的方向优势就体现出来了，推荐领域的人才，由于业务场景多、需求大，容易拿到成绩，升职速度会快于同时期入职的其他方向的同学，工资自然就超过了。[^2]\n",
    "\n",
    "Youtube 多目标排序+解决position bias（Recsys2019） - 魔法学院的Chilia的文章 - 知乎\n",
    "https://zhuanlan.zhihu.com/p/405185215\n",
    "\n",
    "Youtube 排序系统：Recommending What Video to Watch Next - 魔鬼吊儿郎的文章 - 知乎\n",
    "https://zhuanlan.zhihu.com/p/82584437\n",
    "\n",
    "## 新方向\n",
    "\n",
    "CRSLab：可能是最适合你的对话推荐系统开源库 - Francis Lancelot的文章 - 知乎\n",
    "https://zhuanlan.zhihu.com/p/341955912\n",
    "\n",
    "[^1]: https://zhuanlan.zhihu.com/p/402289596\n",
    "[^2]: https://bbs.cvmart.net/articles/4932"
   ]
  }
 ],
 "metadata": {
  "language_info": {
   "name": "python"
  }
 },
 "nbformat": 4,
 "nbformat_minor": 4
}