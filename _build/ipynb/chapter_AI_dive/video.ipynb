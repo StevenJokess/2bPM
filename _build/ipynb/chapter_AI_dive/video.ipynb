{
 "cells": [
  {
   "cell_type": "markdown",
   "metadata": {},
   "source": [
    "# 视频\n",
    "\n",
    "\n",
    "https://cloud.google.com/video-intelligence\n",
    "\n",
    "https://daleonai.com/tags#video+intelligence\n",
    "\n",
    "## 体育\n",
    "\n",
    "https://github.com/google/making_with_ml/blob/master/sports_ai/Sports_AI_Analysis.ipynb"
   ]
  }
 ],
 "metadata": {
  "language_info": {
   "name": "python"
  }
 },
 "nbformat": 4,
 "nbformat_minor": 4
}