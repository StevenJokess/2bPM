{
 "cells": [
  {
   "cell_type": "markdown",
   "metadata": {},
   "source": [
    "# 金融实习\n",
    "\n",
    "https://docs.qq.com/sheet/DTUxWdmtCR0J2dGpW?tab=BB08J2"
   ]
  }
 ],
 "metadata": {
  "language_info": {
   "name": "python"
  }
 },
 "nbformat": 4,
 "nbformat_minor": 4
}