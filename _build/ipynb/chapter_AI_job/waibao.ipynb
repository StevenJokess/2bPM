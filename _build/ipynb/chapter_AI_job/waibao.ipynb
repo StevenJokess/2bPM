{
 "cells": [
  {
   "cell_type": "markdown",
   "metadata": {},
   "source": [
    "# 外包\n",
    "\n",
    "https://www.zhihu.com/question/423307803/answer/1612309021"
   ]
  }
 ],
 "metadata": {
  "language_info": {
   "name": "python"
  }
 },
 "nbformat": 4,
 "nbformat_minor": 4
}