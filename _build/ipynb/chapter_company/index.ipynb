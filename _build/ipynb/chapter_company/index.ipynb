{
 "cells": [
  {
   "cell_type": "markdown",
   "id": "terminal-defeat",
   "metadata": {},
   "source": [
    "# 公司研究\n",
    ":label:`chap_company`\n",
    "​"
   ]
  },
  {
   "cell_type": "markdown",
   "id": "figured-protest",
   "metadata": {},
   "source": [
    ":begin_tab:toc\n",
    " - [company_research](company_research.ipynb)\n",
    " - [baidu](baidu.ipynb)\n",
    " - [antgroup](antgroup.ipynb)\n",
    " - [alipay](alipay.ipynb)\n",
    " - [dm-ai](dm-ai.ipynb)\n",
    " - [jd](jd.ipynb)\n",
    " - [meituan](meituan.ipynb)\n",
    " - [xiaoice](xiaoice.ipynb)\n",
    ":end_tab:\n"
   ]
  }
 ],
 "metadata": {
  "language_info": {
   "name": "python"
  }
 },
 "nbformat": 4,
 "nbformat_minor": 5
}