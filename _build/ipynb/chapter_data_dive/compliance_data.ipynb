{
 "cells": [
  {
   "cell_type": "markdown",
   "id": "twenty-style",
   "metadata": {},
   "source": [
    "# 合规数据\n",
    "\n",
    "## 定义\n",
    "\n",
    "？\n",
    "\n",
    "## 获取途径\n",
    "\n",
    "1. 基于互联网的公开合规数据的挖掘；\n",
    "1. 合法的第三方数据源的获取；\n",
    "1. 企业内部分散的数据的统一整合。\n",
    "\n",
    "如果把这三种数据的价值能够统一梳理整合呈现，将会形成自己企业真正的“有价值数据资产”，进而形成基于数据的“核心竞争力”。[1]\n",
    "\n",
    "\n",
    "[1]: https://www.weiyangx.com/346934.html"
   ]
  }
 ],
 "metadata": {
  "language_info": {
   "name": "python"
  }
 },
 "nbformat": 4,
 "nbformat_minor": 5
}