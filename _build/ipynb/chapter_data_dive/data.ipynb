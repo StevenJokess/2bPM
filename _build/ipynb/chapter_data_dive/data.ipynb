{
 "cells": [
  {
   "cell_type": "markdown",
   "metadata": {},
   "source": [
    "# 数据\n",
    "\n",
    "## 数据定义\n",
    "\n",
    "数据(data)，被视为“科学的度量、知识的来源”，在物理上存储以字节(byte)为计量单位，是关于事件之一组“离散且客观”的事实描述③，是数据原子(data atomic)、数据项(data item)、数据对象(data object)、数据集(data set)的统称[1]，分为模拟数据和数字数据两种。\n",
    "\n",
    "描述数据的数据称为元数据(mata data)；处理数据的数据，如程序或软件，称为数据工具(data tool)。\n",
    "\n",
    "## 数据的衡量\n",
    "\n",
    "人工智能产品对数据除了有量的要求，还有质的要求，衡量数据质量的标准包括四个R：关联度relevancy（首要因素）、可信性reliability（关键因素）、范围range、时效性recency。\n",
    "\n",
    "### 数据获取地址：\n",
    "\n",
    "- ICPSR：www.icpsr.umich.edu\n",
    "- 美国政府开放数据：www.data.gov\n",
    "- 加州大学欧文分校：archive.ics.uci.edu/ml\n",
    "- 数据堂：www.datatang.com\n",
    "\n",
    "[1]: https://scholar.harvard.edu/files/ctang/files/data_industry_draft_in_chinese.pdf\n",
    "[2]: http://www.woshipm.com/pmd/2942899.html"
   ]
  }
 ],
 "metadata": {
  "language_info": {
   "name": "python"
  }
 },
 "nbformat": 4,
 "nbformat_minor": 4
}