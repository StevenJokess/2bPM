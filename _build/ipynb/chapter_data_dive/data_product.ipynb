{
 "cells": [
  {
   "cell_type": "markdown",
   "metadata": {},
   "source": [
    "# 数据产品\n",
    "\n",
    "大数据产品的分类在狭义的范畴里，从使用用户来看，可以是企业内部用户，外部企业客户，外部个人客户等。从产品发展形态来看，从最初的报表型（如静态报表、DashBoard、即席查询），到多维分析型（OLAP等工具型数据产品），到定制服务型数据产品，再到智能型数据产品等。[1]\n",
    "\n",
    "第十一批大数据产品能力观察[2]\n",
    "\n",
    "\n",
    "中期大数据产品经理与AI产品一定有协同混合的市场需求，即市场老板不会将AI拆分成AI，也不会简单的将大数据单独的作为大数据，长期看是数智化产品为主导趋势！[3]\n",
    "\n",
    "\n",
    "[1]: https://zhidao.baidu.com/question/427691034477412292.html\n",
    "[2]: https://www.databench.cn/index.php?m=content&c=index&a=lists&catid=2\n",
    "[3]: http://www.woshipm.com/pmd/3000853.html"
   ]
  }
 ],
 "metadata": {
  "language_info": {
   "name": "python"
  }
 },
 "nbformat": 4,
 "nbformat_minor": 4
}