{
 "cells": [
  {
   "cell_type": "markdown",
   "metadata": {},
   "source": [
    "# 深入学习数据\n",
    ":label:`chap_more`"
   ]
  },
  {
   "cell_type": "markdown",
   "metadata": {},
   "source": [
    ":begin_tab:toc\n",
    " - [data](data.ipynb)\n",
    " - [data_industry](data_industry.ipynb)\n",
    " - [compliance_data](compliance_data.ipynb)\n",
    " - [information](information.ipynb)\n",
    " - [pirate](pirate.ipynb)\n",
    " - [private](private.ipynb)\n",
    " - [privacy_computing](privacy_computing.ipynb)\n",
    " - [intellectual property](intellectual property.ipynb)\n",
    " - [asymmetric_information](asymmetric_information.ipynb)\n",
    " - [blockchain](blockchain.ipynb)\n",
    ":end_tab:\n"
   ]
  }
 ],
 "metadata": {
  "language_info": {
   "name": "python"
  }
 },
 "nbformat": 4,
 "nbformat_minor": 4
}