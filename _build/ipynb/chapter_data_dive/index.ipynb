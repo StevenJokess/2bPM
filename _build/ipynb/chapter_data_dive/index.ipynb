{
 "cells": [
  {
   "cell_type": "markdown",
   "metadata": {},
   "source": [
    "# 深入学习数据\n",
    ":label:`chap_more`"
   ]
  },
  {
   "cell_type": "markdown",
   "metadata": {},
   "source": [
    ":begin_tab:toc\n",
    " - [data](data.ipynb)\n",
    " - [data_industry](data_industry.ipynb)\n",
    " - [compliance_datas](compliance_datas.ipynb)\n",
    " - [pirate](pirate.ipynb)\n",
    " - [private](private.ipynb)\n",
    ":end_tab:\n"
   ]
  }
 ],
 "metadata": {
  "language_info": {
   "name": "python"
  }
 },
 "nbformat": 4,
 "nbformat_minor": 4
}