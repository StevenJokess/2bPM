{
 "cells": [
  {
   "cell_type": "markdown",
   "id": "motivated-border",
   "metadata": {},
   "source": [
    "# 更多\n",
    ":label:`chap_more`"
   ]
  },
  {
   "cell_type": "markdown",
   "id": "critical-trick",
   "metadata": {},
   "source": [
    ":begin_tab:toc\n",
    " - [pirate](pirate.ipynb)\n",
    ":end_tab:\n"
   ]
  }
 ],
 "metadata": {
  "language_info": {
   "name": "python"
  }
 },
 "nbformat": 4,
 "nbformat_minor": 5
}