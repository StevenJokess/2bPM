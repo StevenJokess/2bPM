{
 "cells": [
  {
   "cell_type": "markdown",
   "id": "engaging-communication",
   "metadata": {},
   "source": [
    "# 深入学习数据\n",
    ":label:`chap_more`"
   ]
  },
  {
   "cell_type": "markdown",
   "id": "magnetic-steam",
   "metadata": {},
   "source": [
    ":begin_tab:toc\n",
    " - [pirate](pirate.ipynb)\n",
    " - [compliance_data](compliance_data.ipynb)\n",
    ":end_tab:\n"
   ]
  }
 ],
 "metadata": {
  "language_info": {
   "name": "python"
  }
 },
 "nbformat": 4,
 "nbformat_minor": 5
}