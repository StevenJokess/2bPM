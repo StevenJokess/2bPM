{
 "cells": [
  {
   "cell_type": "markdown",
   "metadata": {},
   "source": [
    "# 信息\n",
    "\n",
    "## 信息不对称\n",
    "\n",
    "信息不对称的结果可能导致“逆向选择”和“道德风险”。传统经济学中市场的竞争机制导出的结论是：“优胜劣汰”，而信息不对称导出的却是相反的结论：“劣胜优汰”。  [1]\n",
    "\n",
    "## 解决方案\n",
    "\n",
    "见[2]\n",
    "\n",
    "\n",
    "[1]: https://blog.csdn.net/EricYeung/article/details/1606703\n",
    "[2]: https://mp.weixin.qq.com/s/a2espjTAMNSD9uzWf65IVQ"
   ]
  }
 ],
 "metadata": {
  "language_info": {
   "name": "python"
  }
 },
 "nbformat": 4,
 "nbformat_minor": 4
}