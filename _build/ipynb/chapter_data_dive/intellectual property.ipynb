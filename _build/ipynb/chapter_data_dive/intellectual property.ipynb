{
 "cells": [
  {
   "cell_type": "markdown",
   "metadata": {},
   "source": [
    "# 知识产权\n",
    "\n",
    "《中国人工智能产业知识产权白皮书2020》已于2021年2月3日正式发布：\n",
    "\n",
    "http://www.iprdaily.cn/article_27004.html"
   ]
  }
 ],
 "metadata": {
  "language_info": {
   "name": "python"
  }
 },
 "nbformat": 4,
 "nbformat_minor": 4
}