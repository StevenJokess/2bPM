{
 "cells": [
  {
   "cell_type": "markdown",
   "metadata": {},
   "source": [
    "# 知识产权\n",
    "\n",
    "《中国人工智能产业知识产权白皮书2020》已于2021年2月3日正式发布：\n",
    "\n",
    "http://www.iprdaily.cn/article_27004.html\n",
    "\n",
    "专利技术：http://xjishu.com/\n",
    "\n",
    "他不创新让你去创新，你死了他一眼都不会看你的，你活了那你的创新就是他的了[1]\n",
    "\n",
    "软件著作权申请流程详细介绍（从注册到受理）：https://space.bilibili.com/327555880?from=search&seid=6875613928804232436\n",
    "\n",
    "[1]: https://www.bilibili.com/video/BV1Y64y1o7ys?spm_id_from=333.851.b_7265636f6d6d656e64.3"
   ]
  }
 ],
 "metadata": {
  "language_info": {
   "name": "python"
  }
 },
 "nbformat": 4,
 "nbformat_minor": 4
}