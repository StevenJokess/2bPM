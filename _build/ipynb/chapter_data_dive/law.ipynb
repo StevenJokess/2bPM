{
 "cells": [
  {
   "cell_type": "markdown",
   "metadata": {},
   "source": [
    "# 法律\n",
    "\n",
    "网络安全法\n",
    "\n",
    "国家安全法\n",
    "\n",
    "[1]: https://www.bilibili.com/video/BV1144y1q7Vi"
   ]
  }
 ],
 "metadata": {
  "language_info": {
   "name": "python"
  }
 },
 "nbformat": 4,
 "nbformat_minor": 4
}