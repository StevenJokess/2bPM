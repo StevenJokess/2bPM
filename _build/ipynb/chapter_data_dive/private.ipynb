{
 "cells": [
  {
   "cell_type": "markdown",
   "metadata": {},
   "source": [
    "# 隐私\n",
    "\n",
    "\n",
    "华为小冰虚拟男友是安全的吗，怎么看待有网友爆料会自动开启摄像头窃取用户隐私的事情？是可信的吗？ - 知乎\n",
    "https://www.zhihu.com/question/418430367\n",
    "\n",
    "当我们的技术团队，就是机器语义理解的团队，说我们自己做输入法可能会做的更好的时候，我当然很赞成。因为至少，在安全性方面，我们可以做的足够好。[2]\n",
    "\n",
    "[2]: https://www.uisdc.com/wechat-10-years"
   ]
  }
 ],
 "metadata": {
  "language_info": {
   "name": "python"
  }
 },
 "nbformat": 4,
 "nbformat_minor": 4
}