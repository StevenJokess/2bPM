{
 "cells": [
  {
   "cell_type": "markdown",
   "id": "structural-disney",
   "metadata": {},
   "source": [
    "# AI产品的测试\n",
    "\n",
    "TODO: https://www.cnblogs.com/zgq123456/articles/10562855.html"
   ]
  }
 ],
 "metadata": {
  "language_info": {
   "name": "python"
  }
 },
 "nbformat": 4,
 "nbformat_minor": 5
}