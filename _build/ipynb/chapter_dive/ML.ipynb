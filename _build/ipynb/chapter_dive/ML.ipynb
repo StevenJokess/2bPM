{
 "cells": [
  {
   "cell_type": "markdown",
   "id": "remarkable-mercy",
   "metadata": {},
   "source": [
    "# ML [1]\n",
    "\n",
    "第一类是构造间隔理论分布：聚类分析和模式识别\n",
    "\n",
    "- 人工神经网络\n",
    "- 决策树\n",
    "- 感知器\n",
    "- 支持向量机\n",
    "- 集成学习AdaBoost\n",
    "- 降维与度量学习\n",
    "- 聚类\n",
    "- 贝叶斯分类器\n",
    "\n",
    "第二类是构造条件概率：回归分析和统计分类\n",
    "\n",
    "- 高斯过程回归\n",
    "- 线性判别分析\n",
    "- 最近邻居法\n",
    "- 径向基函数核\n",
    "\n",
    "第三类是通过再生模型构造概率密度函数\n",
    "\n",
    "- 最大期望算法\n",
    "- 概率图模型：包括贝叶斯网和Markov随机场\n",
    "- Generative Topographic Mapping\n",
    "\n",
    "第四类是近似推断技术\n",
    "\n",
    "- 马尔可夫链\n",
    "- 蒙特卡罗方法\n",
    "- 变分法\n",
    "\n",
    "![ML[3]](../img/ML.png)\n",
    "\n",
    "## 更多\n",
    "\n",
    "https://mitpress.ublish.com/ereader/7093/?preview=#page/v\n",
    "\n",
    "1. https://www.jianshu.com/p/ed9ae5385b89\n",
    "1. https://www.jianshu.com/p/0359e3b7bb1b\n",
    "\n",
    "至少你要知道什么是二分类问题，什么是ground truth、熵（entropy）的概念，dynamic learning的概念等等。[2]\n",
    "\n",
    "https://www.reddit.com/r/MachineLearning/\n",
    "\n",
    "[1]: https://www.pianshen.com/article/66921228716/\n",
    "[2]: http://www.uml.org.cn/DevProcess/201712283.asp\n",
    "[3]: http://www.uml.org.cn/devprocess/201910163.asp"
   ]
  }
 ],
 "metadata": {
  "language_info": {
   "name": "python"
  }
 },
 "nbformat": 4,
 "nbformat_minor": 5
}