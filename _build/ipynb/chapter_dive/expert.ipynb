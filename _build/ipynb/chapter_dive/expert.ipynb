{
 "cells": [
  {
   "cell_type": "markdown",
   "id": "interim-penetration",
   "metadata": {},
   "source": [
    "# 专家\n",
    "\n",
    "https://www.zaih.com/falcon/mentors/2bye7ddr3cg?from=tutor_like_tutor\n",
    "\n",
    "金融AI产品经理：\n",
    "https://www.linkedin.com/in/molly-xu-28032614b/\n",
    "\n",
    "产品经理课程大纲:\n",
    "https://www.yuque.com/836488572/vgdm9i/xc28u7\n",
    "\n",
    "http://reader.epubee.com/books/mobile/bb/bb028d2a403e97a9eb16c4d233e03aef/cover1.html?fromPre=last"
   ]
  }
 ],
 "metadata": {
  "language_info": {
   "name": "python"
  }
 },
 "nbformat": 4,
 "nbformat_minor": 5
}