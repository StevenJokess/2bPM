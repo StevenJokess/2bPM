{
 "cells": [
  {
   "cell_type": "markdown",
   "id": "tutorial-queensland",
   "metadata": {},
   "source": [
    "# 专家\n",
    "\n",
    "https://www.zaih.com/falcon/mentors/2bye7ddr3cg?from=tutor_like_tutor\n",
    "\n",
    "金融AI产品经理：\n",
    "https://www.linkedin.com/in/molly-xu-28032614b/\n",
    "\n",
    "产品经理课程大纲:\n",
    "https://www.yuque.com/836488572/vgdm9i/xc28u7\n",
    "\n",
    "http://reader.epubee.com/books/mobile/bb/bb028d2a403e97a9eb16c4d233e03aef/cover1.html?fromPre=last\n",
    "\n",
    "中国有哪些产品牛人，他们的博客是什么？\n",
    "https://www.zhihu.com/question/29274695/answer/44387881"
   ]
  }
 ],
 "metadata": {
  "language_info": {
   "name": "python"
  }
 },
 "nbformat": 4,
 "nbformat_minor": 5
}