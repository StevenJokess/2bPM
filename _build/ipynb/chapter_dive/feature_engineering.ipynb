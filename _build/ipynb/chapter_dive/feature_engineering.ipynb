{
 "cells": [
  {
   "cell_type": "markdown",
   "id": "previous-warrior",
   "metadata": {},
   "source": [
    "# 特征工程\n",
    "\n",
    "特征工程主要包含如下几个环节：数据观察—>数据清洗—>特征加工—>特征选择—>特征规约。好的特征工程不仅需要我们对模型算法有深入的理解，还要有较强的专业领域知识。我们将特征工程主要涵盖的环节以及各环节需要解决的问题总结在下方的导图中，以供大家参考。 [1]\n",
    "\n",
    "![特征工程](../img/feature_engineer.png)\n",
    "\n",
    "\n",
    "[1]: https://zhuanlan.zhihu.com/p/144488073"
   ]
  }
 ],
 "metadata": {
  "language_info": {
   "name": "python"
  }
 },
 "nbformat": 4,
 "nbformat_minor": 5
}