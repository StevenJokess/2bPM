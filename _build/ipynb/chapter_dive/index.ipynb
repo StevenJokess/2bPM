{
 "cells": [
  {
   "cell_type": "markdown",
   "id": "about-classic",
   "metadata": {},
   "source": [
    "# Dive\n",
    "\n",
    "第2阶段：AI领域的纵向深度挖掘\n",
    "————————————————\n",
    "1.模式识别：图像识别、人脸识别、语音识别、视频识别等；\n",
    "2.自然语言处理（NLP）：自然语言理解（NLU）、自然语言生成（NLG）、知识图谱等\n",
    "3.智能语音：语音识别、语音合成、声纹识别\n",
    "4.智能软硬件：芯片、智能软硬件项目流程；\n",
    "5.专家系统：基于专家知识架构的AI综合应用\n",
    "6.机器人：基于生物智能的AI应用\n",
    "7.其他领域的纵向深度挖掘#​AI产品经理​#​产品经理​"
   ]
  }
 ],
 "metadata": {
  "language_info": {
   "name": "python"
  }
 },
 "nbformat": 4,
 "nbformat_minor": 5
}