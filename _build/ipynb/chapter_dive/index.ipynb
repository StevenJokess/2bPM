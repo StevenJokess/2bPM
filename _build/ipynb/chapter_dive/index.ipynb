{
 "cells": [
  {
   "cell_type": "markdown",
   "id": "cosmetic-digest",
   "metadata": {},
   "source": [
    "# Dive\n",
    ":label:`chap_dive`\n",
    "​"
   ]
  },
  {
   "cell_type": "markdown",
   "id": "breathing-domain",
   "metadata": {},
   "source": [
    ":begin_tab:toc\n",
    " - [zongshen](zongshen.ipynb)\n",
    " - [expert](expert.ipynb)\n",
    " - [qi_yuan](qi_yuan.ipynb)\n",
    " - [company_research](company_research.ipynb)\n",
    " - [antgroup](antgroup.ipynb)\n",
    " - [alipay](alipay.ipynb)\n",
    " - [dm-ai](dm-ai.ipynb)\n",
    " - [jd](jd.ipynb)\n",
    " - [meituan](meituan.ipynb)\n",
    " - [code](code.ipynb)\n",
    " - [feature_engineering](feature_engineering.ipynb)\n",
    " - [ML](ML.ipynb)\n",
    " - [DL](DL.ipynb)\n",
    " - [mobile](mobile.ipynb)\n",
    " - [real](real.ipynb)\n",
    " - [huidu](huidu.ipynb)\n",
    " - [AI_test](AI_test.ipynb)\n",
    " - [AI_deploy](AI_deploy.ipynb)\n",
    " - [develop](develop.ipynb)\n",
    ":end_tab:\n"
   ]
  }
 ],
 "metadata": {
  "language_info": {
   "name": "python"
  }
 },
 "nbformat": 4,
 "nbformat_minor": 5
}