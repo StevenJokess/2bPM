{
 "cells": [
  {
   "cell_type": "markdown",
   "id": "southeast-trace",
   "metadata": {},
   "source": [
    "# Dive\n",
    ":label:`chap_dive`\n",
    "​"
   ]
  },
  {
   "cell_type": "markdown",
   "id": "rapid-beginning",
   "metadata": {},
   "source": [
    ":begin_tab:toc\n",
    " - [zongshen](zongshen.ipynb)\n",
    " - [expert](expert.ipynb)\n",
    " - [qi_yuan](qi_yuan.ipynb)\n",
    " - [company_research](company_research.ipynb)\n",
    " - [alipay](alipay.ipynb)\n",
    " - [dm-ai](dm-ai.ipynb)\n",
    " - [ML](ML.ipynb)\n",
    " - [DL](DL.ipynb)\n",
    " - [mobile](mobile.ipynb)\n",
    " - [real](real.ipynb)\n",
    " - [develop](develop.ipynb)\n",
    ":end_tab:\n"
   ]
  }
 ],
 "metadata": {
  "language_info": {
   "name": "python"
  }
 },
 "nbformat": 4,
 "nbformat_minor": 5
}