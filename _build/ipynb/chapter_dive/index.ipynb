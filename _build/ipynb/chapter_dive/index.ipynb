{
 "cells": [
  {
   "cell_type": "markdown",
   "id": "arbitrary-veteran",
   "metadata": {},
   "source": [
    "# Dive\n",
    ":label:`chap_dive`\n",
    "​"
   ]
  },
  {
   "cell_type": "markdown",
   "id": "prescription-sending",
   "metadata": {},
   "source": [
    ":begin_tab:toc\n",
    " - [zongshen](zongshen.ipynb)\n",
    " - [expert](expert.ipynb)\n",
    " - [qi_yuan](qi_yuan.ipynb)\n",
    " - [company_research](company_research.ipynb)\n",
    " - [alipay](alipay.ipynb)\n",
    " - [dm-ai](dm-ai.ipynb)\n",
    ":end_tab:\n"
   ]
  }
 ],
 "metadata": {
  "language_info": {
   "name": "python"
  }
 },
 "nbformat": 4,
 "nbformat_minor": 5
}