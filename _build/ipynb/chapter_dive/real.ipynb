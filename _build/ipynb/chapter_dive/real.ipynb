{
 "cells": [
  {
   "cell_type": "markdown",
   "id": "passing-scanning",
   "metadata": {},
   "source": [
    "# 现实\n",
    "\n",
    "## 具体的工作 [1]\n",
    "\n",
    "- 测试准确度\n",
    "- 挑选 Badcase(坏样本)\n",
    "- 优化算法调参数/自己改或与算法工程师一起改\n",
    "- 收集 Sample(样例)\n",
    "- 训练模型,提升精度再测试准确度\n",
    "- ……\n",
    "- 漫长的循环往复\n",
    "\n",
    "[1]: https://www.zhihu.com/question/57815929"
   ]
  }
 ],
 "metadata": {
  "language_info": {
   "name": "python"
  }
 },
 "nbformat": 4,
 "nbformat_minor": 5
}