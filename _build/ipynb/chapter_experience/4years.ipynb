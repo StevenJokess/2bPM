{
 "cells": [
  {
   "cell_type": "markdown",
   "id": "consistent-heritage",
   "metadata": {},
   "source": [
    "# 4年产品工作总结\n",
    "\n",
    "关于学习成长，关于交流分享，关于职场选择。\n",
    "\n",
    "\n",
    "\n",
    "[1]: http://www.woshipm.com/it/760842.html"
   ]
  }
 ],
 "metadata": {
  "language_info": {
   "name": "python"
  }
 },
 "nbformat": 4,
 "nbformat_minor": 5
}