{
 "cells": [
  {
   "cell_type": "markdown",
   "id": "temporal-prerequisite",
   "metadata": {},
   "source": [
    "# experience\n",
    ":label:`chap_skill`"
   ]
  },
  {
   "cell_type": "markdown",
   "id": "civil-telling",
   "metadata": {},
   "source": [
    ":begin_tab:toc\n",
    " - [career_path](career_path.ipynb)\n",
    " - [issue](issue.ipynb)\n",
    " - [hema](hema.ipynb)\n",
    " - [Jamin](Jamin.ipynb)\n",
    " - [taobao](taobao.ipynb)\n",
    " - [tencent](tencent.ipynb)\n",
    " - [ant_jiebei](ant_jiebei.ipynb)\n",
    " - [diudiu](diudiu.ipynb)\n",
    " - [dingding](dingding.ipynb)\n",
    " - [4years](4years.ipynb)\n",
    ":end_tab:\n"
   ]
  }
 ],
 "metadata": {
  "language_info": {
   "name": "python"
  }
 },
 "nbformat": 4,
 "nbformat_minor": 5
}