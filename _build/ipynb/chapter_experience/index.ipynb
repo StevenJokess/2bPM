{
 "cells": [
  {
   "cell_type": "markdown",
   "id": "norman-saint",
   "metadata": {},
   "source": [
    "# 前人经验\n",
    ":label:`chap_exper`"
   ]
  },
  {
   "cell_type": "markdown",
   "id": "dominican-conclusion",
   "metadata": {},
   "source": [
    ":begin_tab:toc\n",
    " - [career_path](career_path.ipynb)\n",
    " - [1Day](1Day.ipynb)\n",
    " - [early_phase](early_phase.ipynb)\n",
    " - [issue](issue.ipynb)\n",
    " - [hema](hema.ipynb)\n",
    " - [Jamin](Jamin.ipynb)\n",
    " - [taobao](taobao.ipynb)\n",
    " - [tencent](tencent.ipynb)\n",
    " - [ant_jiebei](ant_jiebei.ipynb)\n",
    " - [diudiu](diudiu.ipynb)\n",
    " - [dingding](dingding.ipynb)\n",
    " - [4years](4years.ipynb)\n",
    " - [jubensha](jubensha.ipynb)\n",
    " - [fail](fail.ipynb)\n",
    " - [recessive_work](recessive_work.ipynb)\n",
    ":end_tab:\n"
   ]
  }
 ],
 "metadata": {
  "language_info": {
   "name": "python"
  }
 },
 "nbformat": 4,
 "nbformat_minor": 5
}