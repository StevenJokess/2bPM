{
 "cells": [
  {
   "cell_type": "markdown",
   "id": "brown-latex",
   "metadata": {},
   "source": [
    "# experience\n",
    ":label:`chap_exper`"
   ]
  },
  {
   "cell_type": "markdown",
   "id": "preceding-tooth",
   "metadata": {},
   "source": [
    ":begin_tab:toc\n",
    " - [career_path](career_path.ipynb)\n",
    " - [1Day](1Day.ipynb)\n",
    " - [early_phase](early_phase.ipynb)\n",
    " - [issue](issue.ipynb)\n",
    " - [hema](hema.ipynb)\n",
    " - [Jamin](Jamin.ipynb)\n",
    " - [taobao](taobao.ipynb)\n",
    " - [tencent](tencent.ipynb)\n",
    " - [ant_jiebei](ant_jiebei.ipynb)\n",
    " - [diudiu](diudiu.ipynb)\n",
    " - [dingding](dingding.ipynb)\n",
    " - [4years](4years.ipynb)\n",
    " - [jubensha](jubensha.ipynb)\n",
    " - [fail](fail.ipynb)\n",
    " - [recessive_work](recessive_work.ipynb)\n",
    ":end_tab:\n"
   ]
  }
 ],
 "metadata": {
  "language_info": {
   "name": "python"
  }
 },
 "nbformat": 4,
 "nbformat_minor": 5
}