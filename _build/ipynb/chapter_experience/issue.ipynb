{
 "cells": [
  {
   "cell_type": "markdown",
   "id": "psychological-reviewer",
   "metadata": {},
   "source": [
    "## 行业巨变"
   ]
  }
 ],
 "metadata": {
  "language_info": {
   "name": "python"
  }
 },
 "nbformat": 4,
 "nbformat_minor": 5
}