{
 "cells": [
  {
   "cell_type": "markdown",
   "id": "compressed-brother",
   "metadata": {},
   "source": [
    "# 设计思维 [1]\n",
    "\n",
    "产品经理的核心工作是产品设计。产品设计的重点在于提升产品的用户体验，让用户喜欢并且坚持使用我们的产品。\n",
    "\n",
    "提升产品的用户体验分两个维度。第一个维度是提升产品的可用性，即让产品确实能解决用户的需求“痛点”，这部分内容我会在第4 章中详细讲解。第二个维度是提升产品的易用性，即让产品对用户来说易于学习和使用、记忆负担小，且产品的使用满意度高。要想提升产品的易用性，需要仔细打磨产品交互，而交互设计七大定律和尼尔森十大原则就是在解决产品易用性的问题。\n",
    "\n",
    "## 交互设计七大定律\n",
    "\n",
    "1. 费茨定律\n",
    "1. 7±2 法则\n",
    "1. 奥卡姆剃刀原理\n",
    "1. 接近法则\n",
    "1. 希克定律\n",
    "1. 特斯勒定律\n",
    "1. 新乡重夫：防错原则\n",
    "\n",
    "\n",
    "## 尼尔森十大原则\n",
    "\n",
    "1. 状态可见原则（Visibility of SystemStatus）。\n",
    "1. 环境贴切原则（Match between Systemand the Real World）。\n",
    "1. 用户可控原则（User Control andFreedom）。\n",
    "1. 一致性原则（Consistency andStandards）。\n",
    "1. 防错原则（Error Prevention）。\n",
    "1. 易取原则（Recognition Rather thanRecall）。\n",
    "1. 灵活高效原则（Flexibility and Efficiencyof Use）。\n",
    "1. 易扫原则（Aesthetic and MinimalistDesign）。\n",
    "1. 容错原则（Help Users Recognize，Diagnose，and Recover From Errors）\n",
    "1. 人性化帮助原则（Help andDocumentation）。\n",
    "\n",
    "[1]: https://weread.qq.com/web/reader/8d232b60721a488e8d21e54kaab325601eaab3238922e53"
   ]
  }
 ],
 "metadata": {
  "language_info": {
   "name": "python"
  }
 },
 "nbformat": 4,
 "nbformat_minor": 5
}