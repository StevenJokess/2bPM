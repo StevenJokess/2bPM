{
 "cells": [
  {
   "cell_type": "markdown",
   "id": "union-interface",
   "metadata": {},
   "source": [
    "# Goal\n",
    "\n",
    "## 清晰的学习的目标\n",
    "\n",
    "- 可行性：这个级别的产品经理要能对一个需求或问题给出高可行性的解决方案，大约是市场上的P6级，小领域的熟练执行者\n",
    "- 创造：要能为一个需求或问题找到最优解。这需要不断洞察环境、用户的持续变化和趋势\n",
    "- 权衡：能跳出单个需求，从全局角度考虑权衡取舍。即使一个需求为真、可行、有最优解，最重要的还是决定当下要不要做，分配多少资源做\n",
    "- 变迁：能跳出当下，对世事变迁敏感，对需求或问题做决策时，形成习惯性地预判（并反思自己的判断是否正确）能力\n",
    "- 方法论：这个级别要求有成体系的优质方法论输出。这个层级主要是追求“影响力”和“确定性”\n",
    "\n",
    "\n",
    "## no code[1]\n",
    "\n",
    "So as long we need to code, we failed that because 99.8% of the world can't code. The main goal would be to get to a point where it's not a library but a piece of software that doesn't required code. It certainly shouldn't require a lenghty hardworking course like this one. I want to get rid of the course, get rid of the code. I want to make it so you can do usual stuff quickly and easily. That's may be 5 years, may be longer.\n",
    "\n",
    "[1]: https://github.com/cedrickchee/knowledge/blob/master/courses/fast.ai/deep-learning-part-1/2019-edition/lesson-7-resnet-unet-gan-rnn.md\n",
    "[2]: https://www.jianshu.com/p/02df7160b7b0"
   ]
  }
 ],
 "metadata": {
  "language_info": {
   "name": "python"
  }
 },
 "nbformat": 4,
 "nbformat_minor": 5
}