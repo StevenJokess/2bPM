{
 "cells": [
  {
   "cell_type": "markdown",
   "metadata": {},
   "source": [
    "# 思维/软实力\n",
    ":label:`chap_idea`"
   ]
  },
  {
   "cell_type": "markdown",
   "metadata": {},
   "source": [
    ":begin_tab:toc\n",
    " - [idea](idea.ipynb)\n",
    " - [empathy](empathy.ipynb)\n",
    " - [create](create.ipynb)\n",
    " - [data](data.ipynb)\n",
    " - [communicate](communicate.ipynb)\n",
    " - [negotiation](negotiation.ipynb)\n",
    " - [brand](brand.ipynb)\n",
    " - [decompose](decompose.ipynb)\n",
    " - [convert](convert.ipynb)\n",
    " - [business](business.ipynb)\n",
    " - [critical](critical.ipynb)\n",
    " - [attention](attention.ipynb)\n",
    " - [goal](goal.ipynb)\n",
    " - [understand_tech](understand_tech.ipynb)\n",
    " - [design](design.ipynb)\n",
    " - [GTM](GTM.ipynb)\n",
    " - [time](time.ipynb)\n",
    " - [risk](risk.ipynb)\n",
    ":end_tab:\n"
   ]
  }
 ],
 "metadata": {
  "language_info": {
   "name": "python"
  }
 },
 "nbformat": 4,
 "nbformat_minor": 4
}