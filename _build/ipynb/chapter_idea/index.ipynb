{
 "cells": [
  {
   "cell_type": "markdown",
   "id": "educational-stopping",
   "metadata": {},
   "source": [
    "# Idea\n",
    ":label:`chap_idea`"
   ]
  },
  {
   "cell_type": "markdown",
   "id": "amber-tamil",
   "metadata": {},
   "source": [
    ":begin_tab:toc\n",
    " - [idea](idea.ipynb)\n",
    " - [data](data.ipynb)\n",
    " - [negotiation](negotiation.ipynb)\n",
    " - [decompose](decompose.ipynb)\n",
    " - [convert](convert.ipynb)\n",
    " - [business](business.ipynb)\n",
    " - [critical](critical.ipynb)\n",
    " - [goal](goal.ipynb)\n",
    ":end_tab:\n"
   ]
  }
 ],
 "metadata": {
  "language_info": {
   "name": "python"
  }
 },
 "nbformat": 4,
 "nbformat_minor": 5
}