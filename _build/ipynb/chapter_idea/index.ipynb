{
 "cells": [
  {
   "cell_type": "markdown",
   "id": "advanced-reference",
   "metadata": {},
   "source": [
    "# Idea\n",
    ":label:`chap_idea`"
   ]
  },
  {
   "cell_type": "markdown",
   "id": "legendary-rocket",
   "metadata": {},
   "source": [
    ":begin_tab:toc\n",
    " - [idea](idea.ipynb)\n",
    " - [data](data.ipynb)\n",
    " - [negotiation](negotiation.ipynb)\n",
    " - [decompose](decompose.ipynb)\n",
    " - [convert](convert.ipynb)\n",
    " - [business](business.ipynb)\n",
    " - [critical](critical.ipynb)\n",
    " - [attention](attention.ipynb)\n",
    " - [goal](goal.ipynb)\n",
    " - [understand_tech](understand_tech.ipynb)\n",
    " - [yunyingxiao](yunyingxiao.ipynb)\n",
    ":end_tab:\n"
   ]
  }
 ],
 "metadata": {
  "language_info": {
   "name": "python"
  }
 },
 "nbformat": 4,
 "nbformat_minor": 5
}