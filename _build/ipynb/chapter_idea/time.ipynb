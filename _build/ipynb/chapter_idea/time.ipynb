{
 "cells": [
  {
   "cell_type": "markdown",
   "id": "representative-humanity",
   "metadata": {},
   "source": [
    "# 时间\n",
    "\n",
    "## 长期主义 [1]\n",
    "\n",
    "长期主义提醒着我们：做任何事情，不但要想着提供用户价值、赚到今天的钱，还要考虑如何给将来做铺垫，让公司可以顺利地完成项目产品化、产品平台化、平台生态化，并且在业务以外沉淀组织能力，在不同的行业之间适时切换，建立跨周期的产品创新型公司。\n",
    "\n",
    "[1]: https://weread.qq.com/web/reader/8d632bc07208ed1c8d697c4k1c3321802231c383cd30bb3"
   ]
  }
 ],
 "metadata": {
  "language_info": {
   "name": "python"
  }
 },
 "nbformat": 4,
 "nbformat_minor": 5
}