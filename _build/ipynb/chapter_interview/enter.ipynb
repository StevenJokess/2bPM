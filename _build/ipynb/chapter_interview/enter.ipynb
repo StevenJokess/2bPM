{
 "cells": [
  {
   "cell_type": "markdown",
   "id": "mechanical-merchant",
   "metadata": {},
   "source": [
    "# 初入职场\n",
    "\n",
    "完成日常工作之余，还主动了解公司架构、业务规范、部门内外合作流程。[1]\n",
    "\n",
    "[1]: https://t.qidianla.com/1166342.html"
   ]
  }
 ],
 "metadata": {
  "language_info": {
   "name": "python"
  }
 },
 "nbformat": 4,
 "nbformat_minor": 5
}