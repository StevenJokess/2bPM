{
 "cells": [
  {
   "cell_type": "markdown",
   "id": "molecular-intellectual",
   "metadata": {},
   "source": [
    "# Interview\n",
    ":label:`chap_interview`\n",
    "\n",
    "该怎么准备面试[1]\n",
    "\n",
    "- 面试前的准备：简历信息梳理-自我认知-公司行业认知-产品体验-业务侧重思考理解\n",
    "- 面试流程：自我介绍-为何转行-项目梳理-公司情况-岗位情况-请教问题"
   ]
  },
  {
   "cell_type": "markdown",
   "id": "medieval-storage",
   "metadata": {},
   "source": [
    ":begin_tab:toc\n",
    " - [xintai](xintai.ipynb)\n",
    " - [choose](choose.ipynb)\n",
    " - [CV](CV.ipynb)\n",
    " - [AI_Finance_CV](AI_Finance_CV.ipynb)\n",
    " - [exam](exam.ipynb)\n",
    " - [interviewer](interviewer.ipynb)\n",
    " - [HR](HR.ipynb)\n",
    " - [simulate_interview](simulate_interview.ipynb)\n",
    " - [reward](reward.ipynb)\n",
    " - [new_like](new_like.ipynb)\n",
    " - [question](question.ipynb)\n",
    " - [not_go](not_go.ipynb)\n",
    " - [offer](offer.ipynb)\n",
    " - [hire](hire.ipynb)\n",
    ":end_tab:\n"
   ]
  },
  {
   "cell_type": "markdown",
   "id": "exciting-pittsburgh",
   "metadata": {},
   "source": [
    "[1]: https://zhuanlan.zhihu.com/p/60372396"
   ]
  }
 ],
 "metadata": {
  "language_info": {
   "name": "python"
  }
 },
 "nbformat": 4,
 "nbformat_minor": 5
}