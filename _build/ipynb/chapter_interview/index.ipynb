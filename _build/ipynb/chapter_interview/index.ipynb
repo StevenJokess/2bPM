{
 "cells": [
  {
   "cell_type": "markdown",
   "id": "approved-determination",
   "metadata": {},
   "source": [
    "# Interview\n",
    ":label:`chap_interview`"
   ]
  },
  {
   "cell_type": "markdown",
   "id": "planned-mining",
   "metadata": {},
   "source": [
    ":begin_tab:toc\n",
    " - [CV](CV.ipynb)\n",
    " - [HR](HR.ipynb)\n",
    " - [new_like](new_like.ipynb)\n",
    " - [question](question.ipynb)\n",
    " - [not_go](not_go.ipynb)\n",
    " - [offer](offer.ipynb)\n",
    ":end_tab:\n"
   ]
  }
 ],
 "metadata": {
  "language_info": {
   "name": "python"
  }
 },
 "nbformat": 4,
 "nbformat_minor": 5
}