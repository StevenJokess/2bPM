{
 "cells": [
  {
   "cell_type": "markdown",
   "id": "vertical-crawford",
   "metadata": {},
   "source": [
    "# Interview\n",
    ":label:`chap_interview`"
   ]
  },
  {
   "cell_type": "markdown",
   "id": "caroline-gibson",
   "metadata": {},
   "source": [
    ":begin_tab:toc\n",
    " - [CV](CV.ipynb)\n",
    " - [HR](HR.ipynb)\n",
    " - [new_like](new_like.ipynb)\n",
    " - [question](question.ipynb)\n",
    ":end_tab:\n"
   ]
  }
 ],
 "metadata": {
  "language_info": {
   "name": "python"
  }
 },
 "nbformat": 4,
 "nbformat_minor": 5
}