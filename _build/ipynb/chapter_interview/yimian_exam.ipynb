{
 "cells": [
  {
   "cell_type": "markdown",
   "metadata": {},
   "source": [
    "# 一面数据笔试\n",
    "\n",
    "## 一面数据的了解\n",
    "\n",
    "一面数据品牌，14年由深圳市一面网络技术有限公司成立，19年被现母公司艾盛集团（Ascential）并购。[1]\n",
    "\n",
    "为省去业务部门去学 SQL 数据查询或 Excel 函数等复杂的「搞数据」工作，直接挖掘数据价值、全面准确实时洞察电商业务、指导品牌营销决策，而发布了整套解决方案。其主要产品，整合了人工智能、数据分析以及数据洞察，包括：电商市场多维细分 YiDrone，社交媒体舆情实时全链路[7]监控 YiSonar、消费者评论量化情感化词云化 YiSense。涵盖服务由，电商零售分析、价格促销跟踪、量化与解读消费者反馈、社交聆听、广告投放。[2]\n",
    "\n",
    "一路荣誉颇多[3]，团队年轻好学[5]、经验丰富[4]、乐于分享[6]。\n",
    "\n",
    "## 大数据竞品分析\n",
    "\n",
    "\n",
    "\n",
    "## MBTI职业性格测试\n",
    "\n",
    "![ENTP](../img/MBTI.jpg)\n",
    "\n",
    "## MyIQ\n",
    "\n",
    "已经测试了，倒数第三不确定答案。\n",
    "\n",
    "## 职商测试\n",
    "\n",
    "已经测试了\n",
    "\n",
    "## 色块性格测试\n",
    "\n",
    "- 3：乐于助人的\n",
    "- 7：外向的\n",
    "- 11：深思熟虑的\n",
    "- 20：现实的\n",
    "- 23：活跃的\n",
    "- 26：具影响力的\n",
    "- 30：敢于挑战的\n",
    "- 31：实事求是的\n",
    "- 38：善于分析的\n",
    "- 41：有趣的\n",
    "- 43：深谋远虑的\n",
    "- 46：果断的\n",
    "- 47：有吸引力的\n",
    "- 50：敏感的\n",
    "- 51：和睦的\n",
    "\n",
    "[1]: https://www.tianyancha.com/brand/bc35914058\n",
    "[2]: https://www.yimian.com.cn/\n",
    "[3]: https://www.yimian.com.cn/milestone\n",
    "[4]: https://www.yimian.com.cn/team\n",
    "[5]: https://www.yimian.com.cn/interns\n",
    "[6]: https://www.zhihu.com/question/52452962/answer/533434939\n",
    "[7]: https://www.zhipin.com/gongsi/f65f39d2ac43563603d83No~.html"
   ]
  }
 ],
 "metadata": {
  "language_info": {
   "name": "python"
  }
 },
 "nbformat": 4,
 "nbformat_minor": 4
}