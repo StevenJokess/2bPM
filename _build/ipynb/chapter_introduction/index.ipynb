{
 "cells": [
  {
   "cell_type": "markdown",
   "id": "electrical-formula",
   "metadata": {},
   "source": [
    "# Introduction\n",
    ":label:`chap_intro`"
   ]
  },
  {
   "cell_type": "markdown",
   "id": "assisted-father",
   "metadata": {},
   "source": [
    ":begin_tab:toc\n",
    " - [need](need.ipynb)\n",
    " - [Product](Product.ipynb)\n",
    " - [money](money.ipynb)\n",
    " - [PM](PM.ipynb)\n",
    " - [AI](AI.ipynb)\n",
    " - [AI_PM](AI_PM.ipynb)\n",
    " - [ability](ability.ipynb)\n",
    ":end_tab:\n"
   ]
  }
 ],
 "metadata": {
  "language_info": {
   "name": "python"
  }
 },
 "nbformat": 4,
 "nbformat_minor": 5
}