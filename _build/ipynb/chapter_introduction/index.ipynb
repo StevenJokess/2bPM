{
 "cells": [
  {
   "cell_type": "markdown",
   "id": "close-documentary",
   "metadata": {},
   "source": [
    "# Introduction\n",
    ":label:`chap_intro`"
   ]
  },
  {
   "cell_type": "markdown",
   "id": "metric-richardson",
   "metadata": {},
   "source": [
    ":begin_tab:toc\n",
    " - [need](need.ipynb)\n",
    " - [Product](Product.ipynb)\n",
    " - [money](money.ipynb)\n",
    " - [PM](PM.ipynb)\n",
    " - [AI](AI.ipynb)\n",
    " - [AI_PM](AI_PM.ipynb)\n",
    " - [ability](ability.ipynb)\n",
    " - [pain_point](pain_point.ipynb)\n",
    ":end_tab:\n"
   ]
  }
 ],
 "metadata": {
  "language_info": {
   "name": "python"
  }
 },
 "nbformat": 4,
 "nbformat_minor": 5
}