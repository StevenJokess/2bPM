{
 "cells": [
  {
   "cell_type": "markdown",
   "id": "tough-momentum",
   "metadata": {},
   "source": [
    "# Introduction\n",
    ":label:`chap_intro`"
   ]
  },
  {
   "cell_type": "markdown",
   "id": "alike-defendant",
   "metadata": {},
   "source": [
    ":begin_tab:toc\n",
    " - [need](need.ipynb)\n",
    " - [Product](Product.ipynb)\n",
    " - [money](money.ipynb)\n",
    " - [PM](PM.ipynb)\n",
    " - [2B](2B.ipynb)\n",
    " - [2C](2C.ipynb)\n",
    " - [AI](AI.ipynb)\n",
    " - [AI_PM](AI_PM.ipynb)\n",
    " - [ability](ability.ipynb)\n",
    " - [pain_point](pain_point.ipynb)\n",
    ":end_tab:\n"
   ]
  }
 ],
 "metadata": {
  "language_info": {
   "name": "python"
  }
 },
 "nbformat": 4,
 "nbformat_minor": 5
}