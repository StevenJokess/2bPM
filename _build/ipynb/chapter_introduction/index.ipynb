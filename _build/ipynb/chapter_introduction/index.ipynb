{
 "cells": [
  {
   "cell_type": "markdown",
   "id": "incorporated-doctrine",
   "metadata": {},
   "source": [
    "# Introduction\n",
    ":label:`chap_intro`"
   ]
  },
  {
   "cell_type": "markdown",
   "id": "tropical-suggestion",
   "metadata": {},
   "source": [
    ":begin_tab:toc\n",
    " - [need](need.ipynb)\n",
    " - [Product](Product.ipynb)\n",
    " - [2B](2B.ipynb)\n",
    " - [2C](2C.ipynb)\n",
    " - [platform](platform.ipynb)\n",
    " - [money](money.ipynb)\n",
    " - [PM](PM.ipynb)\n",
    " - [AI](AI.ipynb)\n",
    " - [AI_Product](AI_Product.ipynb)\n",
    " - [AI_PM](AI_PM.ipynb)\n",
    " - [ability](ability.ipynb)\n",
    " - [opportunity](opportunity.ipynb)\n",
    ":end_tab:\n"
   ]
  }
 ],
 "metadata": {
  "language_info": {
   "name": "python"
  }
 },
 "nbformat": 4,
 "nbformat_minor": 5
}