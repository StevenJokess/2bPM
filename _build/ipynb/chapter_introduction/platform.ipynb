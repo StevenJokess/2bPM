{
 "cells": [
  {
   "cell_type": "markdown",
   "id": "false-kentucky",
   "metadata": {},
   "source": [
    "# 平台型\n",
    "\n",
    "## PM的职能 [1]\n",
    "\n",
    "- 收集需求确定方向，联想真实业务场景\n",
    "- 定义并验证产品中各个业务或非业务逻辑\n",
    "- 抽象产品的业务场景，不仅满足当下需求，更要预见未来\n",
    "- 规划并验证具体方案，保证产品的实际落地\n",
    "\n",
    "##\n",
    "\n",
    "[1]: https://www.iamxiarui.com/?p=1369"
   ]
  }
 ],
 "metadata": {
  "language_info": {
   "name": "python"
  }
 },
 "nbformat": 4,
 "nbformat_minor": 5
}