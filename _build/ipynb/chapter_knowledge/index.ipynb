{
 "cells": [
  {
   "cell_type": "markdown",
   "id": "responsible-edmonton",
   "metadata": {},
   "source": [
    "# 全流程知识\n",
    ":label:`chap_skill`\n",
    "\n",
    "![整个产品实现的流程和生命周期[1]](../img/whole_process.png)"
   ]
  },
  {
   "cell_type": "markdown",
   "id": "imperial-opening",
   "metadata": {},
   "source": [
    ":begin_tab:toc\n",
    " - [steps](steps.ipynb)\n",
    " - [BRD](BRD.ipynb)\n",
    " - [industry_analysis](industry_analysis.ipynb)\n",
    " - [market_analysis](market_analysis.ipynb)\n",
    " - [goods_analysis](goods_analysis.ipynb)\n",
    " - [users_analysis](users_analysis.ipynb)\n",
    " - [need_analysis](need_analysis.ipynb)\n",
    " - [experience_report](experience_report.ipynb)\n",
    " - [compete_analysis](compete_analysis.ipynb)\n",
    " - [MRD](MRD.ipynb)\n",
    " - [PRD](PRD.ipynb)\n",
    " - [tools](tools.ipynb)\n",
    " - [flow_chart](flow_chart.ipynb)\n",
    " - [static_page](static_page.ipynb)\n",
    " - [prototype_design](prototype_design.ipynb)\n",
    " - [MVP](MVP.ipynb)\n",
    " - [service_analysis](service_analysis.ipynb)\n",
    " - [strategy_analysis](strategy_analysis.ipynb)\n",
    " - [collaborate](collaborate.ipynb)\n",
    " - [data_analysis](data_analysis.ipynb)\n",
    " - [project_manage](project_manage.ipynb)\n",
    " - [upgrade_manage](upgrade_manage.ipynb)\n",
    " - [resource_manage](resource_manage.ipynb)\n",
    " - [research](research.ipynb)\n",
    " - [Valuation](Valuation.ipynb)\n",
    " - [price](price.ipynb)\n",
    " - [more_users](more_users.ipynb)\n",
    ":end_tab:\n"
   ]
  },
  {
   "cell_type": "markdown",
   "id": "roman-senegal",
   "metadata": {},
   "source": [
    "[1]: https://ke.qidianla.com/courses/pmcamp?channel=bbs"
   ]
  }
 ],
 "metadata": {
  "language_info": {
   "name": "python"
  }
 },
 "nbformat": 4,
 "nbformat_minor": 5
}