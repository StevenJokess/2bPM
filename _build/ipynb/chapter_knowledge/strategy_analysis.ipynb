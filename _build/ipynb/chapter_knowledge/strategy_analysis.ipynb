{
 "cells": [
  {
   "cell_type": "markdown",
   "id": "accepted-viewer",
   "metadata": {},
   "source": [
    "# 策略分析\n",
    "\n",
    "## 运营策略\n",
    "\n",
    "运营手段，历史运营策略，粉丝活动等，\n",
    "\n",
    "品牌策略，slogan变化，品牌形象包装变化等\n",
    "\n",
    "分析后对其进行具体的品牌定位\n",
    "\n",
    "## 产品策略\n",
    "\n",
    "跟踪竞品版本，搜集个版本核心功能变化，版本介绍，引导页变化，分析归纳竞品策略变化\n",
    "\n",
    "## 盈利模式\n",
    "\n",
    "客户价值，企业与客户之间的链接逻辑\n",
    "\n",
    "主要的盈利模式在哪里？横向分析竞品之间不同的赚钱方法\n",
    "\n",
    "[1]: https://t.qidianla.com/1156575.html"
   ]
  }
 ],
 "metadata": {
  "language_info": {
   "name": "python"
  }
 },
 "nbformat": 4,
 "nbformat_minor": 5
}