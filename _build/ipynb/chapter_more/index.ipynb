{
 "cells": [
  {
   "cell_type": "markdown",
   "id": "sonic-concern",
   "metadata": {},
   "source": [
    "# 更多\n",
    ":label:`chap_more`"
   ]
  },
  {
   "cell_type": "markdown",
   "id": "palestinian-heather",
   "metadata": {},
   "source": [
    ":begin_tab:toc\n",
    " - [pirate](pirate.ipynb)\n",
    ":end_tab:\n"
   ]
  }
 ],
 "metadata": {
  "language_info": {
   "name": "python"
  }
 },
 "nbformat": 4,
 "nbformat_minor": 5
}