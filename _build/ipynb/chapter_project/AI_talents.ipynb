{
 "cells": [
  {
   "cell_type": "markdown",
   "id": "educational-glucose",
   "metadata": {},
   "source": [
    "# AI 人才\n",
    "\n",
    "## 中国"
   ]
  }
 ],
 "metadata": {
  "language_info": {
   "name": "python"
  }
 },
 "nbformat": 4,
 "nbformat_minor": 5
}