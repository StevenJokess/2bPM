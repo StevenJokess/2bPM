{
 "cells": [
  {
   "cell_type": "markdown",
   "metadata": {},
   "source": [
    "# 项目实践\n",
    ":label:`chap_project`"
   ]
  },
  {
   "cell_type": "markdown",
   "metadata": {},
   "source": [
    ":begin_tab:toc\n",
    " - [AI_industry_analysis](AI_industry_analysis.ipynb)\n",
    " - [AI_company](AI_company.ipynb)\n",
    " - [AI_talents](AI_talents.ipynb)\n",
    " - [AI_Finance](AI_Finance.ipynb)\n",
    " - [AI_fit](AI_fit.ipynb)\n",
    " - [AI_hardware](AI_hardware.ipynb)\n",
    " - [process](process.ipynb)\n",
    " - [Data Process](Data Process.ipynb)\n",
    " - [Model Process](Model Process.ipynb)\n",
    " - [Project Process](Project Process.ipynb)\n",
    " - [inspect](inspect.ipynb)\n",
    " - [product_document](product_document.ipynb)\n",
    " - [Roadmap](Roadmap.ipynb)\n",
    " - [Scrum](Scrum.ipynb)\n",
    " - [separate_need](separate_need.ipynb)\n",
    " - [valuable](valuable.ipynb)\n",
    " - [product_experience](product_experience.ipynb)\n",
    ":end_tab:\n"
   ]
  }
 ],
 "metadata": {
  "language_info": {
   "name": "python"
  }
 },
 "nbformat": 4,
 "nbformat_minor": 4
}