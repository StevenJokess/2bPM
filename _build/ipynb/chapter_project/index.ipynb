{
 "cells": [
  {
   "cell_type": "markdown",
   "id": "third-stick",
   "metadata": {},
   "source": [
    "# project\n",
    ":label:`chap_project`"
   ]
  },
  {
   "cell_type": "markdown",
   "id": "upset-firewall",
   "metadata": {},
   "source": [
    ":begin_tab:toc\n",
    " - [AI_industry_analysis](AI_industry_analysis.ipynb)\n",
    " - [AI_company](AI_company.ipynb)\n",
    " - [AI_Finance](AI_Finance.ipynb)\n",
    " - [process](process.ipynb)\n",
    " - [flow_chart](flow_chart.ipynb)\n",
    " - [inspect](inspect.ipynb)\n",
    " - [product_document](product_document.ipynb)\n",
    " - [Roadmap](Roadmap.ipynb)\n",
    " - [Scrum](Scrum.ipynb)\n",
    " - [separate_need](separate_need.ipynb)\n",
    " - [valuable](valuable.ipynb)\n",
    " - [widespread](widespread.ipynb)\n",
    ":end_tab:\n"
   ]
  }
 ],
 "metadata": {
  "language_info": {
   "name": "python"
  }
 },
 "nbformat": 4,
 "nbformat_minor": 5
}