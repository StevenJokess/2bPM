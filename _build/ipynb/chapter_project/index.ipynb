{
 "cells": [
  {
   "cell_type": "markdown",
   "id": "static-biodiversity",
   "metadata": {},
   "source": [
    "# project\n",
    ":label:`chap_project`"
   ]
  },
  {
   "cell_type": "markdown",
   "id": "orange-builder",
   "metadata": {},
   "source": [
    ":begin_tab:toc\n",
    " - [AI_industry_analysis](AI_industry_analysis.ipynb)\n",
    " - [process](process.ipynb)\n",
    " - [flow_chart](flow_chart.ipynb)\n",
    " - [inspect](inspect.ipynb)\n",
    " - [product_document](product_document.ipynb)\n",
    " - [Roadmap](Roadmap.ipynb)\n",
    " - [Scrum](Scrum.ipynb)\n",
    " - [separate_need](separate_need.ipynb)\n",
    " - [valuable](valuable.ipynb)\n",
    " - [widespread](widespread.ipynb)\n",
    ":end_tab:\n"
   ]
  }
 ],
 "metadata": {
  "language_info": {
   "name": "python"
  }
 },
 "nbformat": 4,
 "nbformat_minor": 5
}