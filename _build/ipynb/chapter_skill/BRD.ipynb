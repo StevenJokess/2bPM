{
 "cells": [
  {
   "cell_type": "markdown",
   "id": "incoming-barcelona",
   "metadata": {},
   "source": [
    "# BRD[1]\n",
    "\n",
    "## 定义\n",
    "\n",
    "BRD指的是商业需求文档（Business Requirement Document）。在这篇的文档当中不会有详细的产品规划，只会有基于市场调查和用户需求调查的产品构思。\n",
    "\n",
    "这篇文档常以PPT等形式，以数据说服领导和同事，帮产品的立项，来获得公司资源支持。\n",
    "\n",
    "## 产品目的[2]\n",
    "\n",
    "提出一个清晰、简明的价值主张，让它很容易被接受，要让产品团队、管理人员、用户、市场人员清楚的明白这个产品到底是什么意图。\n",
    "\n",
    "考虑“velevator pitch ”(电梯间演讲、电梯行销)测试。\n",
    "\n",
    "## 一个中心\n",
    "\n",
    "收益！来生存\n",
    "\n",
    "## 多个基本点\n",
    "\n",
    "1. 市场调查报告；\n",
    "2. 竞争对手报告；\n",
    "3. 用户需求调研报告；\n",
    "4. 产品功能构思；\n",
    "5. 产品运营构思；\n",
    "6. 收益分析；\n",
    "7. 风险分析；\n",
    "8. 其他。\n",
    "\n",
    "[1]: http://www.woshipm.com/pmd/178527.html\n",
    "[2]: http://www.woshipm.com/pmd/21446.html"
   ]
  }
 ],
 "metadata": {
  "language_info": {
   "name": "python"
  }
 },
 "nbformat": 4,
 "nbformat_minor": 5
}