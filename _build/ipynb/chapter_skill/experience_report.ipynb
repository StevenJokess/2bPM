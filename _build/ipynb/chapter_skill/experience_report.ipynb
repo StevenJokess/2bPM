{
 "cells": [
  {
   "cell_type": "markdown",
   "id": "permanent-touch",
   "metadata": {},
   "source": [
    "# 产品体验报告 [1]\n",
    "\n",
    "1．需求分析\n",
    "1.1 产品定义\n",
    "1.2 用户需求\n",
    "2．功能分析\n",
    "\n",
    "3．竞品分析\n",
    "\n",
    "[1]: https://www.jianshu.com/p/9fff898ce6bd"
   ]
  }
 ],
 "metadata": {
  "language_info": {
   "name": "python"
  }
 },
 "nbformat": 4,
 "nbformat_minor": 5
}