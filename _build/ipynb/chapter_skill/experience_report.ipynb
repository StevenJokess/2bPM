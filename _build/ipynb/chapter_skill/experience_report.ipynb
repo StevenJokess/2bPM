{
 "cells": [
  {
   "cell_type": "markdown",
   "id": "played-privacy",
   "metadata": {},
   "source": [
    "# 产品体验报告\n",
    "\n",
    "目的是锻炼和培养\"产品敏感度\"和\"共情心理\". 特别注意需求提炼、场景描述这2个部分. 最重要的是, 要锻炼到一看到产品, 就能很快代入用户角色, 从用户的场景和视角来思考问题。[2]\n",
    "\n",
    "\n",
    "1．需求分析[1]\n",
    "1.1 产品定义\n",
    "1.2 用户需求\n",
    "2．功能分析\n",
    "\n",
    "3．竞品分析\n",
    "\n",
    "https://www.bilibili.com/video/BV1ng4y1z7tW?from=search&seid=6415503955533295161\n",
    "\n",
    "TODO:\n",
    "响巢看看产品体验报告：https://www.jianshu.com/p/905028cf416b\n",
    "「玩票」产品分析报告： https://www.jianshu.com/p/17ddec8fe63f\n",
    "携程旅行产品分析报告：https://www.jianshu.com/p/31e49097ab4e\n",
    "\n",
    "\n",
    "[1]: https://www.jianshu.com/p/9fff898ce6bd\n",
    "[2]: https://www.zhihu.com/people/woyaonuliya/postss"
   ]
  }
 ],
 "metadata": {
  "language_info": {
   "name": "python"
  }
 },
 "nbformat": 4,
 "nbformat_minor": 5
}