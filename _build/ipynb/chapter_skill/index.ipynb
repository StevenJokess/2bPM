{
 "cells": [
  {
   "cell_type": "markdown",
   "id": "logical-figure",
   "metadata": {},
   "source": [
    "# skill\n",
    ":label:`chap_skill`"
   ]
  },
  {
   "cell_type": "markdown",
   "id": "interracial-monkey",
   "metadata": {},
   "source": [
    ":begin_tab:toc\n",
    " - [7steps](7steps.ipynb)\n",
    " - [BRD](BRD.ipynb)\n",
    " - [users_analysis](users_analysis.ipynb)\n",
    " - [priority](priority.ipynb)\n",
    " - [industry_analysis](industry_analysis.ipynb)\n",
    " - [compete_analysis](compete_analysis.ipynb)\n",
    " - [goods_analysis](goods_analysis.ipynb)\n",
    " - [MRD](MRD.ipynb)\n",
    " - [PRD](PRD.ipynb)\n",
    " - [prototype_design](prototype_design.ipynb)\n",
    " - [upgrade_manage](upgrade_manage.ipynb)\n",
    " - [flow_chart](flow_chart.ipynb)\n",
    " - [TFD](TFD.ipynb)\n",
    " - [resource_manage](resource_manage.ipynb)\n",
    " - [data_analysis](data_analysis.ipynb)\n",
    " - [project_manage](project_manage.ipynb)\n",
    " - [research](research.ipynb)\n",
    " - [Valuation](Valuation.ipynb)\n",
    " - [price](price.ipynb)\n",
    ":end_tab:\n"
   ]
  }
 ],
 "metadata": {
  "language_info": {
   "name": "python"
  }
 },
 "nbformat": 4,
 "nbformat_minor": 5
}