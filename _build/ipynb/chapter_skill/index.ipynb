{
 "cells": [
  {
   "cell_type": "markdown",
   "id": "handled-settlement",
   "metadata": {},
   "source": [
    "# skill\n",
    ":label:`chap_skill`"
   ]
  },
  {
   "cell_type": "markdown",
   "id": "changed-anniversary",
   "metadata": {},
   "source": [
    ":begin_tab:toc\n",
    " - [BRD](BRD.ipynb)\n",
    " - [MRD](MRD.ipynb)\n",
    " - [PRD](PRD.ipynb)\n",
    " - [users_analsis](users_analsis.ipynb)\n",
    " - [compete_analysis](compete_analysis.ipynb)\n",
    " - [goods_analysis](goods_analysis.ipynb)\n",
    " - [prototype_design](prototype_design.ipynb)\n",
    " - [research](research.ipynb)\n",
    ":end_tab:\n"
   ]
  }
 ],
 "metadata": {
  "language_info": {
   "name": "python"
  }
 },
 "nbformat": 4,
 "nbformat_minor": 5
}