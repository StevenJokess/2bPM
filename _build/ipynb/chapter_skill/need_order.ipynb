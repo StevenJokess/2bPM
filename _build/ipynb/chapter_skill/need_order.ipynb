{
 "cells": [
  {
   "cell_type": "markdown",
   "id": "foreign-activation",
   "metadata": {},
   "source": [
    "# 需求排序[1]\n",
    "\n",
    "第一要务就是分清产品需求的主次，解决问题的顺序：\n",
    "\n",
    "## 如此困难\n",
    "\n",
    "- 相比去做更普适的项目，做那些你最喜欢的、自己会用的产品更令人满足。\n",
    "- 相比去做直接对你的目标产生影响的项目，把注意力集中在那些聪明有趣的主意上更有诱惑力。\n",
    "- 相比去做自己已经有信心的项目，去钻研新的想法更令人兴奋。（有些情况也可能反过来）\n",
    "\n",
    "## RICE\n",
    "\n",
    "RICE SCORE = R*I*C/E\n",
    "Reach（接触数量）\n",
    "Impact（影响程度）\n",
    "Confidence（信心指数）\n",
    "Effort（投入精力）\n",
    "\n",
    "## MoSCoW\n",
    "\n",
    "美其名曰“全面”，以全面来打入市场。最终却是“样样做，样样差”。must have、should have、could have、won’t have模型。\n",
    "\n",
    "如果交货时间紧，“可以有”将第一批被删除，“应该有”紧随其后。\n",
    "\n",
    "靠着简单的核心功能（Must have）功能打开了市场\n",
    "\n",
    "## Kano帮你找到用户满意度\n",
    "\n",
    "属性的成熟程度和情绪反应之间呈线性关系，主要针对于如易用性、成本、娱乐价值和安全性这样的产品特征。\n",
    "\n",
    "\n",
    "狩野纪昭(Noriaki Kano)将五种情绪反应可视化为图中的曲线，其中，y轴是情绪反应，x轴是特征的成熟程度。情绪反应的强度由特征如何充分呈现和其成熟程度驱动。\n",
    "\n",
    "\n",
    "[1]: http://www.woshipm.com/pd/1887717.html"
   ]
  }
 ],
 "metadata": {
  "language_info": {
   "name": "python"
  }
 },
 "nbformat": 4,
 "nbformat_minor": 5
}