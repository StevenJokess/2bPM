{
 "cells": [
  {
   "cell_type": "markdown",
   "id": "conscious-natural",
   "metadata": {},
   "source": [
    "<!--\n",
    " * @version:\n",
    " * @Author:  StevenJokess https://github.com/StevenJokess\n",
    " * @Date: 2020-12-17 21:18:16\n",
    " * @LastEditors:  StevenJokess https://github.com/StevenJokess\n",
    " * @LastEditTime: 2020-12-29 20:21:25\n",
    " * @Description:\n",
    " * @TODO::\n",
    " * @Reference:\n",
    "-->\n",
    "https://www.tusimple.com/\n",
    "https://github.com/amusi/CV-Company-List\n",
    "开源：https://www.oschina.net/company\n",
    "http://www.birdbot.cn/\n",
    "\n",
    "---\n",
    "\n",
    "阿波罗的官网地址是：\n",
    "http://apollo.auto/\n",
    "\n",
    "源代码，文档与数据下载地址为：\n",
    "https://github.com/apolloauto"
   ]
  }
 ],
 "metadata": {
  "language_info": {
   "name": "python"
  }
 },
 "nbformat": 4,
 "nbformat_minor": 5
}