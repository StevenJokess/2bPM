{
 "cells": [
  {
   "cell_type": "markdown",
   "id": "regulated-homework",
   "metadata": {},
   "source": [
    "# To be AI PM\n",
    "\n",
    "专注成为AI产品经理"
   ]
  },
  {
   "cell_type": "markdown",
   "id": "pointed-stroke",
   "metadata": {},
   "source": [
    ":begin_tab:toc\n",
    " - [get_started](get_started.ipynb)\n",
    ":end_tab:\n"
   ]
  },
  {
   "cell_type": "markdown",
   "id": "floppy-aging",
   "metadata": {},
   "source": [
    ":begin_tab:toc\n",
    " - [chapter_introduction/index](chapter_introduction/index.ipynb)\n",
    ":end_tab:\n"
   ]
  }
 ],
 "metadata": {
  "language_info": {
   "name": "python"
  }
 },
 "nbformat": 4,
 "nbformat_minor": 5
}