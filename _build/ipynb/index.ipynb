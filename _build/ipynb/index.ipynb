{
 "cells": [
  {
   "cell_type": "markdown",
   "id": "southern-bosnia",
   "metadata": {},
   "source": [
    "# To be AI PM\n",
    "\n",
    "专注成为AI产品经理"
   ]
  },
  {
   "cell_type": "markdown",
   "id": "electrical-peter",
   "metadata": {},
   "source": [
    ":begin_tab:toc\n",
    " - [get_started](get_started.ipynb)\n",
    ":end_tab:\n"
   ]
  },
  {
   "cell_type": "markdown",
   "id": "sapphire-cursor",
   "metadata": {},
   "source": [
    ":begin_tab:toc\n",
    " - [chapter_introduction/index](chapter_introduction/index.ipynb)\n",
    " - [chapter_skill/index](chapter_skill/index.ipynb)\n",
    " - [chapter_experience/index](chapter_experience/index.ipynb)\n",
    " - [chapter_project/index](chapter_project/index.ipynb)\n",
    " - [chapter_interview/index](chapter_interview/index.ipynb)\n",
    ":end_tab:\n"
   ]
  }
 ],
 "metadata": {
  "language_info": {
   "name": "python"
  }
 },
 "nbformat": 4,
 "nbformat_minor": 5
}