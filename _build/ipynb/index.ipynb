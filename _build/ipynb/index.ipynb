{
 "cells": [
  {
   "cell_type": "markdown",
   "id": "thermal-night",
   "metadata": {},
   "source": [
    "# To be AI PM\n",
    "\n",
    "专注成为AI+金融+健身产品经理，我能求职成功吗？？？\n",
    "\n",
    "## AI产品经理专业体系 [2]\n",
    "\n",
    "将网络上杂乱的内容进行有效整理，搭建自己的AI产品经理专业体系\n",
    "\n",
    "好处：\n",
    "\n",
    "- 有目的方向的去扩充我的专业库，积累我的经验。\n",
    "- 非常多的信息总结和跟踪，提高我二次工作的效率性。\n",
    "- 我的积累形成系统化，随时能快速找出信息。\n",
    "\n",
    "## 常用\n",
    "\n",
    "### 标签\n",
    "\n",
    ":lable:\n",
    ":ref:"
   ]
  },
  {
   "cell_type": "markdown",
   "id": "incorporate-tension",
   "metadata": {},
   "source": [
    ":begin_tab:toc\n",
    " - [get_started](get_started.ipynb)\n",
    ":end_tab:\n"
   ]
  },
  {
   "cell_type": "markdown",
   "id": "portable-breathing",
   "metadata": {},
   "source": [
    ":begin_tab:toc\n",
    " - [chapter_introduction/index](chapter_introduction/index.ipynb)\n",
    " - [chapter_idea/index](chapter_idea/index.ipynb)\n",
    " - [chapter_skill/index](chapter_skill/index.ipynb)\n",
    " - [chapter_experience/index](chapter_experience/index.ipynb)\n",
    " - [chapter_project/index](chapter_project/index.ipynb)\n",
    " - [chapter_interview/index](chapter_interview/index.ipynb)\n",
    " - [chapter_dive/index](chapter_dive/index.ipynb)\n",
    ":end_tab:\n"
   ]
  },
  {
   "cell_type": "markdown",
   "id": "public-portland",
   "metadata": {},
   "source": [
    "[1]: http://www.woshipm.com/zhichang/3945751.html"
   ]
  }
 ],
 "metadata": {
  "language_info": {
   "name": "python"
  }
 },
 "nbformat": 4,
 "nbformat_minor": 5
}