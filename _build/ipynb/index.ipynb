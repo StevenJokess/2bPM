{
 "cells": [
  {
   "cell_type": "markdown",
   "id": "contrary-equipment",
   "metadata": {},
   "source": [
    "# To be AI PM\n",
    "\n",
    "专注成为AI产品经理"
   ]
  },
  {
   "cell_type": "markdown",
   "id": "married-bachelor",
   "metadata": {},
   "source": [
    ":begin_tab:toc\n",
    " - [get_started](get_started.ipynb)\n",
    ":end_tab:\n"
   ]
  },
  {
   "cell_type": "markdown",
   "id": "missing-effort",
   "metadata": {},
   "source": [
    ":begin_tab:toc\n",
    " - [chapter_introduction/index](chapter_introduction/index.ipynb)\n",
    " - [chapter_idea/index](chapter_idea/index.ipynb)\n",
    " - [chapter_skill/index](chapter_skill/index.ipynb)\n",
    " - [chapter_experience/index](chapter_experience/index.ipynb)\n",
    " - [chapter_project/index](chapter_project/index.ipynb)\n",
    " - [chapter_interview/index](chapter_interview/index.ipynb)\n",
    " - [chapter_dive/index](chapter_dive/index.ipynb)\n",
    ":end_tab:\n"
   ]
  }
 ],
 "metadata": {
  "language_info": {
   "name": "python"
  }
 },
 "nbformat": 4,
 "nbformat_minor": 5
}