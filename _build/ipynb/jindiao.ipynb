{
 "cells": [
  {
   "cell_type": "markdown",
   "id": "extreme-independence",
   "metadata": {},
   "source": [
    "<!--\n",
    " * @version:\n",
    " * @Author:  StevenJokess https://github.com/StevenJokess\n",
    " * @Date: 2020-12-20 22:29:41\n",
    " * @LastEditors:  StevenJokess https://github.com/StevenJokess\n",
    " * @LastEditTime: 2020-12-20 22:29:42\n",
    " * @Description:\n",
    " * @TODO::\n",
    " * @Reference:https://www.zhihu.com/question/61943446s\n",
    "-->\n",
    "以金融业为例，让新人尽职调查的时候上裁判文书网、执行信息网、信用中国扒个涉诉涉执行情况，需要培训超过五分钟不？之后几百上千地给带律师们查涉诉情况的时候带律师们怎么都哑巴了"
   ]
  }
 ],
 "metadata": {
  "language_info": {
   "name": "python"
  }
 },
 "nbformat": 4,
 "nbformat_minor": 5
}